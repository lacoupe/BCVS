{
 "cells": [
  {
   "cell_type": "code",
   "execution_count": 1,
   "metadata": {},
   "outputs": [],
   "source": [
    "from train_test import train, test\n",
    "\n",
    "from sklearn.model_selection import train_test_split\n",
    "import torch\n",
    "import numpy as np\n",
    "import pandas as pd\n",
    "from torch import nn\n",
    "import torch\n",
    "import torch.nn.functional as F\n",
    "import math\n",
    "\n",
    "import matplotlib.pyplot as plt\n",
    "import seaborn as sns\n",
    "\n",
    "import pylab as pl\n",
    "\n",
    "from dateutil.relativedelta import relativedelta\n",
    "\n",
    "import shap\n",
    "\n",
    "from captum.attr import IntegratedGradients, ShapleyValues, ShapleyValueSampling, LayerConductance\n",
    "\n",
    "device = torch.device(\"cuda\" if torch.cuda.is_available() else \"cpu\")\n",
    "\n",
    "pd.set_option(\"display.max_columns\", None)\n",
    "pd.set_option(\"display.max_rows\", None)\n",
    "\n",
    "torch.manual_seed(0)\n",
    "np.random.seed(0)"
   ]
  },
  {
   "cell_type": "code",
   "execution_count": 2,
   "metadata": {},
   "outputs": [],
   "source": [
    "from sklearn.linear_model import LogisticRegression\n",
    "from sklearn.model_selection import KFold, train_test_split, RandomizedSearchCV, GridSearchCV\n",
    "from sklearn.metrics import accuracy_score"
   ]
  },
  {
   "cell_type": "code",
   "execution_count": 3,
   "metadata": {},
   "outputs": [],
   "source": [
    "def output_to_accu(model, X, y):\n",
    "    model.eval()\n",
    "    prob = model(X).cpu().detach().numpy()\n",
    "    index = np.where((prob > 0.55) | (prob < 0.45))\n",
    "    prob = prob[index]\n",
    "    y = y[index]\n",
    "    pred = (prob >= 0.5).astype(int)\n",
    "    nb_errors = 0\n",
    "    for b in range(0, len(y)):\n",
    "        if pred[b] != y[b]:\n",
    "            nb_errors = nb_errors + 1\n",
    "    accuracy = 100 * (1 - nb_errors / len(y))\n",
    "    return accuracy"
   ]
  },
  {
   "cell_type": "code",
   "execution_count": 4,
   "metadata": {},
   "outputs": [],
   "source": [
    "def good_bad_pred(model, X_test, y_test):\n",
    "    model.eval()\n",
    "    prob = model(X_test).detach().numpy()\n",
    "    pred = (prob >= 0.5).astype(int)\n",
    "    return (pred == y_test.detach().numpy()).astype(int)"
   ]
  },
  {
   "cell_type": "code",
   "execution_count": 5,
   "metadata": {},
   "outputs": [],
   "source": [
    "def fast_fracdiff(x, d):\n",
    "\n",
    "    T = len(x)\n",
    "    np2 = int(2 ** np.ceil(np.log2(2 * T - 1)))\n",
    "    k = np.arange(1, T)\n",
    "    b = (1,) + tuple(np.cumprod((k - d - 1) / k))\n",
    "    z = (0,) * (np2 - T)\n",
    "    z1 = b + z\n",
    "    z2 = tuple(x) + z\n",
    "    dx = pl.ifft(pl.fft(z1) * pl.fft(z2))\n",
    "    return np.real(dx[0:T])"
   ]
  },
  {
   "cell_type": "code",
   "execution_count": 6,
   "metadata": {},
   "outputs": [],
   "source": [
    "red = sns.color_palette('RdYlGn', 10)[0]\n",
    "green = sns.color_palette('RdYlGn', 10)[-1]\n",
    "pal = [red, green]\n",
    "color_dict = {'Bad':pal[0], 'Good':pal[1]}"
   ]
  },
  {
   "cell_type": "markdown",
   "metadata": {},
   "source": [
    "# DATA"
   ]
  },
  {
   "cell_type": "code",
   "execution_count": 7,
   "metadata": {},
   "outputs": [
    {
     "data": {
      "text/html": [
       "<div>\n",
       "<style scoped>\n",
       "    .dataframe tbody tr th:only-of-type {\n",
       "        vertical-align: middle;\n",
       "    }\n",
       "\n",
       "    .dataframe tbody tr th {\n",
       "        vertical-align: top;\n",
       "    }\n",
       "\n",
       "    .dataframe thead th {\n",
       "        text-align: right;\n",
       "    }\n",
       "</style>\n",
       "<table border=\"1\" class=\"dataframe\">\n",
       "  <thead>\n",
       "    <tr style=\"text-align: right;\">\n",
       "      <th></th>\n",
       "      <th>SMALL_MID</th>\n",
       "      <th>LARGE</th>\n",
       "      <th>MATERIALS</th>\n",
       "      <th>CONSUMER STAPLE</th>\n",
       "      <th>INDUSTRIALS</th>\n",
       "      <th>CONSUMER DIS.</th>\n",
       "      <th>HEALTH CARE</th>\n",
       "      <th>FINANCIALS</th>\n",
       "      <th>US 2YEAR</th>\n",
       "      <th>US 5YEAR</th>\n",
       "      <th>US 10YEAR</th>\n",
       "      <th>GOLD</th>\n",
       "      <th>SILVER</th>\n",
       "      <th>BRENT</th>\n",
       "      <th>SP500</th>\n",
       "      <th>RUSSELL 2000</th>\n",
       "    </tr>\n",
       "  </thead>\n",
       "  <tbody>\n",
       "    <tr>\n",
       "      <th>2006-01-05</th>\n",
       "      <td>1508.31</td>\n",
       "      <td>5833.18</td>\n",
       "      <td>276.409672</td>\n",
       "      <td>174.241453</td>\n",
       "      <td>218.695382</td>\n",
       "      <td>140.386529</td>\n",
       "      <td>175.355509</td>\n",
       "      <td>174.721116</td>\n",
       "      <td>4.304</td>\n",
       "      <td>4.277</td>\n",
       "      <td>4.344</td>\n",
       "      <td>679.214800</td>\n",
       "      <td>11.605220</td>\n",
       "      <td>78.703680</td>\n",
       "      <td>1624.934960</td>\n",
       "      <td>879.509796</td>\n",
       "    </tr>\n",
       "    <tr>\n",
       "      <th>2006-01-06</th>\n",
       "      <td>1509.53</td>\n",
       "      <td>5818.60</td>\n",
       "      <td>272.864640</td>\n",
       "      <td>172.733945</td>\n",
       "      <td>217.021928</td>\n",
       "      <td>139.568162</td>\n",
       "      <td>175.452705</td>\n",
       "      <td>173.846165</td>\n",
       "      <td>4.321</td>\n",
       "      <td>4.284</td>\n",
       "      <td>4.354</td>\n",
       "      <td>672.828960</td>\n",
       "      <td>11.181886</td>\n",
       "      <td>78.075236</td>\n",
       "      <td>1626.488656</td>\n",
       "      <td>883.552911</td>\n",
       "    </tr>\n",
       "    <tr>\n",
       "      <th>2006-01-09</th>\n",
       "      <td>1516.33</td>\n",
       "      <td>5828.32</td>\n",
       "      <td>274.390587</td>\n",
       "      <td>173.003134</td>\n",
       "      <td>217.791843</td>\n",
       "      <td>140.132384</td>\n",
       "      <td>175.331222</td>\n",
       "      <td>174.622003</td>\n",
       "      <td>4.354</td>\n",
       "      <td>4.316</td>\n",
       "      <td>4.375</td>\n",
       "      <td>685.399920</td>\n",
       "      <td>11.463555</td>\n",
       "      <td>79.666944</td>\n",
       "      <td>1632.778590</td>\n",
       "      <td>888.382961</td>\n",
       "    </tr>\n",
       "    <tr>\n",
       "      <th>2006-01-10</th>\n",
       "      <td>1518.68</td>\n",
       "      <td>5823.36</td>\n",
       "      <td>274.741194</td>\n",
       "      <td>172.954918</td>\n",
       "      <td>217.963610</td>\n",
       "      <td>140.964506</td>\n",
       "      <td>175.453688</td>\n",
       "      <td>175.052650</td>\n",
       "      <td>4.345</td>\n",
       "      <td>4.302</td>\n",
       "      <td>4.367</td>\n",
       "      <td>699.485820</td>\n",
       "      <td>11.715558</td>\n",
       "      <td>79.180569</td>\n",
       "      <td>1647.392535</td>\n",
       "      <td>901.822117</td>\n",
       "    </tr>\n",
       "    <tr>\n",
       "      <th>2006-01-11</th>\n",
       "      <td>1512.24</td>\n",
       "      <td>5785.15</td>\n",
       "      <td>271.683725</td>\n",
       "      <td>173.365830</td>\n",
       "      <td>217.371702</td>\n",
       "      <td>140.438683</td>\n",
       "      <td>174.153856</td>\n",
       "      <td>173.844827</td>\n",
       "      <td>4.395</td>\n",
       "      <td>4.358</td>\n",
       "      <td>4.426</td>\n",
       "      <td>694.241856</td>\n",
       "      <td>11.468668</td>\n",
       "      <td>79.300944</td>\n",
       "      <td>1651.705983</td>\n",
       "      <td>910.590507</td>\n",
       "    </tr>\n",
       "  </tbody>\n",
       "</table>\n",
       "</div>"
      ],
      "text/plain": [
       "            SMALL_MID    LARGE   MATERIALS  CONSUMER STAPLE  INDUSTRIALS  \\\n",
       "2006-01-05    1508.31  5833.18  276.409672       174.241453   218.695382   \n",
       "2006-01-06    1509.53  5818.60  272.864640       172.733945   217.021928   \n",
       "2006-01-09    1516.33  5828.32  274.390587       173.003134   217.791843   \n",
       "2006-01-10    1518.68  5823.36  274.741194       172.954918   217.963610   \n",
       "2006-01-11    1512.24  5785.15  271.683725       173.365830   217.371702   \n",
       "\n",
       "            CONSUMER DIS.  HEALTH CARE  FINANCIALS  US 2YEAR  US 5YEAR  \\\n",
       "2006-01-05     140.386529   175.355509  174.721116     4.304     4.277   \n",
       "2006-01-06     139.568162   175.452705  173.846165     4.321     4.284   \n",
       "2006-01-09     140.132384   175.331222  174.622003     4.354     4.316   \n",
       "2006-01-10     140.964506   175.453688  175.052650     4.345     4.302   \n",
       "2006-01-11     140.438683   174.153856  173.844827     4.395     4.358   \n",
       "\n",
       "            US 10YEAR        GOLD     SILVER      BRENT        SP500  \\\n",
       "2006-01-05      4.344  679.214800  11.605220  78.703680  1624.934960   \n",
       "2006-01-06      4.354  672.828960  11.181886  78.075236  1626.488656   \n",
       "2006-01-09      4.375  685.399920  11.463555  79.666944  1632.778590   \n",
       "2006-01-10      4.367  699.485820  11.715558  79.180569  1647.392535   \n",
       "2006-01-11      4.426  694.241856  11.468668  79.300944  1651.705983   \n",
       "\n",
       "            RUSSELL 2000  \n",
       "2006-01-05    879.509796  \n",
       "2006-01-06    883.552911  \n",
       "2006-01-09    888.382961  \n",
       "2006-01-10    901.822117  \n",
       "2006-01-11    910.590507  "
      ]
     },
     "execution_count": 7,
     "metadata": {},
     "output_type": "execute_result"
    }
   ],
   "source": [
    "data = pd.read_excel('data/data.xlsx', index_col=0, skiprows=[0, 1, 2, 3, 4, 5, 6, 8], sheet_name='features').astype(float)\n",
    "data = data.fillna(method='ffill').shift(1).iloc[1:]\n",
    "data = data.loc[:'2020-01-01']\n",
    "\n",
    "data['MATERIALS'] *= data['EURCHF']\n",
    "data['CONSUMER STAPLE'] *= data['EURCHF']\n",
    "data['INDUSTRIALS'] *= data['EURCHF']\n",
    "data['CONSUMER DIS.'] *= data['EURCHF']\n",
    "data['HEALTH CARE'] *= data['EURCHF']\n",
    "data['FINANCIALS'] *= data['EURCHF']\n",
    "\n",
    "data['GOLD'] *= data['USDCHF']\n",
    "data['SILVER'] *= data['USDCHF']\n",
    "data['BRENT'] *= data['USDCHF']\n",
    "data['SP500'] *= data['USDCHF']\n",
    "data['RUSSELL 2000'] *= data['USDCHF']\n",
    "\n",
    "bench_price = data['SPI']\n",
    "\n",
    "data = data.drop(columns=['EURCHF', 'USDCHF', 'SPI', 'SURPRISE'])\n",
    "\n",
    "data.head()"
   ]
  },
  {
   "cell_type": "code",
   "execution_count": 8,
   "metadata": {},
   "outputs": [
    {
     "data": {
      "text/html": [
       "<div>\n",
       "<style scoped>\n",
       "    .dataframe tbody tr th:only-of-type {\n",
       "        vertical-align: middle;\n",
       "    }\n",
       "\n",
       "    .dataframe tbody tr th {\n",
       "        vertical-align: top;\n",
       "    }\n",
       "\n",
       "    .dataframe thead th {\n",
       "        text-align: right;\n",
       "    }\n",
       "</style>\n",
       "<table border=\"1\" class=\"dataframe\">\n",
       "  <thead>\n",
       "    <tr style=\"text-align: right;\">\n",
       "      <th></th>\n",
       "      <th>SMALL_MID</th>\n",
       "      <th>LARGE</th>\n",
       "    </tr>\n",
       "  </thead>\n",
       "  <tbody>\n",
       "    <tr>\n",
       "      <th>2006-01-05</th>\n",
       "      <td>1508.31</td>\n",
       "      <td>5833.18</td>\n",
       "    </tr>\n",
       "    <tr>\n",
       "      <th>2006-01-06</th>\n",
       "      <td>1509.53</td>\n",
       "      <td>5818.60</td>\n",
       "    </tr>\n",
       "    <tr>\n",
       "      <th>2006-01-09</th>\n",
       "      <td>1516.33</td>\n",
       "      <td>5828.32</td>\n",
       "    </tr>\n",
       "    <tr>\n",
       "      <th>2006-01-10</th>\n",
       "      <td>1518.68</td>\n",
       "      <td>5823.36</td>\n",
       "    </tr>\n",
       "    <tr>\n",
       "      <th>2006-01-11</th>\n",
       "      <td>1512.24</td>\n",
       "      <td>5785.15</td>\n",
       "    </tr>\n",
       "  </tbody>\n",
       "</table>\n",
       "</div>"
      ],
      "text/plain": [
       "            SMALL_MID    LARGE\n",
       "2006-01-05    1508.31  5833.18\n",
       "2006-01-06    1509.53  5818.60\n",
       "2006-01-09    1516.33  5828.32\n",
       "2006-01-10    1518.68  5823.36\n",
       "2006-01-11    1512.24  5785.15"
      ]
     },
     "execution_count": 8,
     "metadata": {},
     "output_type": "execute_result"
    }
   ],
   "source": [
    "target_prices = data[['SMALL_MID', 'LARGE']]\n",
    "target_prices.head()"
   ]
  },
  {
   "cell_type": "code",
   "execution_count": 37,
   "metadata": {},
   "outputs": [
    {
     "data": {
      "text/html": [
       "<div>\n",
       "<style scoped>\n",
       "    .dataframe tbody tr th:only-of-type {\n",
       "        vertical-align: middle;\n",
       "    }\n",
       "\n",
       "    .dataframe tbody tr th {\n",
       "        vertical-align: top;\n",
       "    }\n",
       "\n",
       "    .dataframe thead th {\n",
       "        text-align: right;\n",
       "    }\n",
       "</style>\n",
       "<table border=\"1\" class=\"dataframe\">\n",
       "  <thead>\n",
       "    <tr style=\"text-align: right;\">\n",
       "      <th></th>\n",
       "      <th>0</th>\n",
       "      <th>1</th>\n",
       "    </tr>\n",
       "  </thead>\n",
       "  <tbody>\n",
       "  </tbody>\n",
       "</table>\n",
       "</div>"
      ],
      "text/plain": [
       "Empty DataFrame\n",
       "Columns: [0, 1]\n",
       "Index: []"
      ]
     },
     "execution_count": 37,
     "metadata": {},
     "output_type": "execute_result"
    }
   ],
   "source": [
    "technical_features = data[['SMALL_MID', 'LARGE']]\n",
    "\n",
    "ema21 = technical_features.ewm(21).mean()\n",
    "ema21_diff = np.log(ema21.SMALL_MID / ema21.LARGE)\n",
    "ema21_diff = ema21_diff.add_suffix(' ema21 diff')\n",
    "\n",
    "ema126 = technical_features.ewm(126).mean()\n",
    "ema126_diff = np.log(ema126.SMALL_MID / ema126.LARGE)\n",
    "ema126 = ema126.add_suffix(' ema126 diff')\n",
    "\n",
    "features = pd.concat([ema21_diff, ema126_diff], axis=1).dropna()\n",
    "\n",
    "features.head(5)"
   ]
  },
  {
   "cell_type": "code",
   "execution_count": 10,
   "metadata": {},
   "outputs": [],
   "source": [
    "training_window = 5\n",
    "neutral_threshold = 0.0005\n",
    "last_date_train = target_prices.index[-1200]"
   ]
  },
  {
   "cell_type": "code",
   "execution_count": 11,
   "metadata": {},
   "outputs": [
    {
     "name": "stdout",
     "output_type": "stream",
     "text": [
      "start_date 2010-05-28 last_date 2015-05-28\n"
     ]
    }
   ],
   "source": [
    "forward_weekly_returns = target_prices.rolling(5).apply(lambda x: np.log(x[-1] / x[0]) / len(x)).shift(-5)\n",
    "forward_weekly_returns['difference'] = forward_weekly_returns.SMALL_MID - forward_weekly_returns.LARGE\n",
    "forward_weekly_returns['abs_diff'] = np.abs(forward_weekly_returns.difference)\n",
    "\n",
    "best_pred = (forward_weekly_returns.SMALL_MID > forward_weekly_returns.LARGE).astype(int)\n",
    "best_pred = best_pred[forward_weekly_returns.abs_diff > neutral_threshold]\n",
    "\n",
    "start_date = last_date_train - relativedelta(years=training_window)\n",
    "\n",
    "df_output = best_pred.loc[start_date:last_date_train]\n",
    "df_input = features.reindex(df_output.index)\n",
    "\n",
    "X = df_input.values\n",
    "y = df_output.values\n",
    "\n",
    "index = df_input.index\n",
    "\n",
    "X, y = torch.from_numpy(X).float(), torch.from_numpy(y).float()\n",
    "\n",
    "print('start_date', index[0].date(), 'last_date', index[-1].date())"
   ]
  },
  {
   "cell_type": "code",
   "execution_count": 12,
   "metadata": {},
   "outputs": [
    {
     "data": {
      "image/png": "[encoded data removed]",
      "text/plain": [
       "<Figure size 864x360 with 1 Axes>"
      ]
     },
     "metadata": {
      "needs_background": "light"
     },
     "output_type": "display_data"
    },
    {
     "data": {
      "image/png": "[encoded data removed]",
      "text/plain": [
       "<Figure size 864x360 with 1 Axes>"
      ]
     },
     "metadata": {
      "needs_background": "light"
     },
     "output_type": "display_data"
    }
   ],
   "source": [
    "fig, ax = plt.subplots(figsize=(12, 5))\n",
    "forward_weekly_returns.difference[-21:].plot(ax=ax)\n",
    "plt.grid()\n",
    "\n",
    "features_standardized = (features - features.mean()) / features.std()\n",
    "fig, ax = plt.subplots(figsize=(12, 5))\n",
    "features_standardized[-21:].plot(ax=ax)\n",
    "plt.grid()\n",
    "plt.show()"
   ]
  },
  {
   "cell_type": "code",
   "execution_count": 13,
   "metadata": {},
   "outputs": [
    {
     "name": "stdout",
     "output_type": "stream",
     "text": [
      "Number of train sample : 805\n",
      "Number of test sample : 202\n",
      "Allocation of best returns in train set : [0.518 0.482]\n",
      "Allocation of best returns in test set : [0.495 0.505]\n"
     ]
    }
   ],
   "source": [
    "X_train, X_test, y_train, y_test = train_test_split(X.numpy(), y.numpy(), test_size= 0.2, shuffle=False)\n",
    "print('Number of train sample :', len(X_train))\n",
    "print('Number of test sample :', len(X_test))\n",
    "\n",
    "class_count_train = np.unique(y_train, axis=0, return_counts=True)[1]\n",
    "class_count_test = np.unique(y_test, axis=0, return_counts=True)[1]\n",
    "weights_train = class_count_train / sum(class_count_train)\n",
    "weights_test = class_count_test / sum(class_count_test)\n",
    "print('Allocation of best returns in train set :', weights_train)\n",
    "print('Allocation of best returns in test set :', weights_test)"
   ]
  },
  {
   "cell_type": "markdown",
   "metadata": {},
   "source": [
    "# Random Forest"
   ]
  },
  {
   "cell_type": "code",
   "execution_count": 14,
   "metadata": {},
   "outputs": [],
   "source": [
    "from sklearn.ensemble import RandomForestClassifier"
   ]
  },
  {
   "cell_type": "code",
   "execution_count": 15,
   "metadata": {},
   "outputs": [],
   "source": [
    "X_train, X_test, y_train, y_test = train_test_split(X.numpy(), y.numpy(), test_size= 0.2, shuffle=False)"
   ]
  },
  {
   "cell_type": "code",
   "execution_count": 16,
   "metadata": {},
   "outputs": [
    {
     "name": "stdout",
     "output_type": "stream",
     "text": [
      "Accuracy on train set 81.24 %\n",
      "Accuracy on test set 49.5 %\n"
     ]
    }
   ],
   "source": [
    "rfc = RandomForestClassifier(criterion='gini', max_depth=None, min_samples_leaf=10, \n",
    "                             min_samples_split=10, n_estimators= 100)\n",
    "\n",
    "rfc = rfc.fit(X_train, y_train)\n",
    "y_hat_rfc_train = rfc.predict(X_train)\n",
    "y_hat_rfc_test = rfc.predict(X_test)\n",
    "\n",
    "print('Accuracy on train set', round(100 * accuracy_score(y_hat_rfc_train, y_train), 2), '%')\n",
    "print('Accuracy on test set', round(100 * accuracy_score(y_hat_rfc_test, y_test), 2), '%')"
   ]
  },
  {
   "cell_type": "code",
   "execution_count": 17,
   "metadata": {
    "scrolled": false
   },
   "outputs": [
    {
     "data": {
      "image/png": "[encoded data removed]",
      "text/plain": [
       "<Figure size 360x360 with 1 Axes>"
      ]
     },
     "metadata": {
      "needs_background": "light"
     },
     "output_type": "display_data"
    }
   ],
   "source": [
    "importances = rfc.feature_importances_\n",
    "\n",
    "fig, ax = plt.subplots(figsize=(5, 5))\n",
    "sns.barplot(y=features.columns, x=importances, color='r')\n",
    "ax.tick_params(labelsize=8, length=0)\n",
    "plt.tight_layout()\n",
    "plt.title('Global Feature importance for a Random Forest model')\n",
    "plt.show()"
   ]
  },
  {
   "cell_type": "code",
   "execution_count": 18,
   "metadata": {},
   "outputs": [],
   "source": [
    "explainer = shap.TreeExplainer(rfc)\n",
    "shap_values_train = np.mean(explainer.shap_values(X_train), axis=0)\n",
    "shap_values_test = np.mean(explainer.shap_values(X_test), axis=0)"
   ]
  },
  {
   "cell_type": "code",
   "execution_count": 19,
   "metadata": {},
   "outputs": [
    {
     "data": {
      "image/png": "[encoded data removed]",
      "text/plain": [
       "<Figure size 360x360 with 2 Axes>"
      ]
     },
     "metadata": {
      "needs_background": "light"
     },
     "output_type": "display_data"
    }
   ],
   "source": [
    "fig, axs = plt.subplots(1, 2, figsize=(5, 5), sharey=True)\n",
    "\n",
    "sns.barplot(ax=axs[0], x=shap_values_train.mean(axis=0), y=features.columns, color='r')\n",
    "axs[0].tick_params(length=0)\n",
    "axs[0].set_title('Train set')\n",
    "\n",
    "sns.barplot(ax=axs[1], x=shap_values_test.mean(axis=0), y=features.columns, color='r')\n",
    "axs[1].tick_params(length=0)\n",
    "axs[1].set_title('Test set')\n",
    "\n",
    "plt.tight_layout()\n",
    "plt.show()"
   ]
  },
  {
   "cell_type": "markdown",
   "metadata": {},
   "source": [
    "# XGBOOST"
   ]
  },
  {
   "cell_type": "code",
   "execution_count": 20,
   "metadata": {},
   "outputs": [
    {
     "name": "stdout",
     "output_type": "stream",
     "text": [
      "Accuracy on train set 74.04 %\n",
      "Accuracy on test set 49.5 %\n"
     ]
    }
   ],
   "source": [
    "from sklearn.ensemble import GradientBoostingClassifier\n",
    "xgboost = GradientBoostingClassifier(max_depth=1, n_estimators= 1000)\n",
    "\n",
    "xgboost = xgboost.fit(X_train, y_train)\n",
    "y_hat_xgboost_train = xgboost.predict(X_train)\n",
    "y_hat_xgboost_test = xgboost.predict(X_test)\n",
    "\n",
    "print('Accuracy on train set', round(100 * accuracy_score(y_hat_xgboost_train, y_train), 2), '%')\n",
    "print('Accuracy on test set', round(100 * accuracy_score(y_hat_xgboost_test, y_test), 2), '%')"
   ]
  },
  {
   "cell_type": "code",
   "execution_count": 21,
   "metadata": {
    "scrolled": false
   },
   "outputs": [
    {
     "data": {
      "image/png": "[encoded data removed]",
      "text/plain": [
       "<Figure size 360x360 with 1 Axes>"
      ]
     },
     "metadata": {
      "needs_background": "light"
     },
     "output_type": "display_data"
    }
   ],
   "source": [
    "importances = xgboost.feature_importances_\n",
    "\n",
    "fig, ax = plt.subplots(figsize=(5, 5))\n",
    "sns.barplot(y=features.columns, x=importances, color='r')\n",
    "ax.tick_params(labelsize=8, length=0)\n",
    "plt.tight_layout()\n",
    "plt.title('Global Feature importance for a XGBoost model')\n",
    "plt.show()"
   ]
  },
  {
   "cell_type": "code",
   "execution_count": 22,
   "metadata": {},
   "outputs": [],
   "source": [
    "explainer = shap.TreeExplainer(rfc)\n",
    "shap_values_train = np.mean(explainer.shap_values(X_train), axis=0)\n",
    "shap_values_test = np.mean(explainer.shap_values(X_test), axis=0)"
   ]
  },
  {
   "cell_type": "code",
   "execution_count": 23,
   "metadata": {},
   "outputs": [
    {
     "data": {
      "image/png": "[encoded data removed]",
      "text/plain": [
       "<Figure size 360x360 with 2 Axes>"
      ]
     },
     "metadata": {
      "needs_background": "light"
     },
     "output_type": "display_data"
    }
   ],
   "source": [
    "fig, axs = plt.subplots(1, 2, figsize=(5, 5), sharey=True)\n",
    "\n",
    "sns.barplot(ax=axs[0], x=shap_values_train.mean(axis=0), y=features.columns, color='r')\n",
    "axs[0].tick_params(length=0)\n",
    "axs[0].set_title('Train set')\n",
    "\n",
    "sns.barplot(ax=axs[1], x=shap_values_test.mean(axis=0), y=features.columns, color='r')\n",
    "axs[1].tick_params(length=0)\n",
    "axs[1].set_title('Test set')\n",
    "\n",
    "plt.tight_layout()\n",
    "plt.show()"
   ]
  },
  {
   "cell_type": "markdown",
   "metadata": {},
   "source": [
    "def good_bad_pred_rf(model, X_test, y_test):\n",
    "    pred = model.predict(X_test)\n",
    "    return (pred == y_test).astype(int)"
   ]
  },
  {
   "cell_type": "markdown",
   "metadata": {
    "scrolled": false
   },
   "source": [
    "shap_values = shap_values_train\n",
    "good_bad = good_bad_pred_rf(rfc, X_train, y_train)\n",
    "\n",
    "fig, axs = plt.subplots(math.ceil(len(features.columns) / 4), 4, figsize=(8.27, 11.69), sharex=False, sharey=True)\n",
    "\n",
    "axs = axs.ravel()\n",
    "\n",
    "for i, feature in enumerate(features.columns):\n",
    "    df = pd.DataFrame()\n",
    "    df['value'] = X_train[:, i]\n",
    "    df['IG'] = shap_values[:, i]\n",
    "    df['GOOD_BAD'] = good_bad\n",
    "    df.GOOD_BAD = df.GOOD_BAD.replace({0:'Bad', 1:'Good'})\n",
    "    \n",
    "    sns.scatterplot(ax=axs[i], data=df, x='value', y='IG', hue='GOOD_BAD', s=2, legend=False, palette=color_dict)\n",
    "    axs[i].axhline(y=0., linestyle='--', color='r', lw=0.25)\n",
    "    axs[i].set_xlabel(None)\n",
    "    axs[i].set_ylabel(None)\n",
    "    axs[i].tick_params(axis='both', length=0, labelbottom=False, labelleft=False)\n",
    "    axs[i].set_title(feature, fontsize=3, pad=2)\n",
    "\n",
    "plt.subplots_adjust(wspace=0.15, hspace=0.15)\n",
    "    \n",
    "plt.savefig('plots/RF_features_importances_train.png', dpi=300, facecolor='white', bbox_inches='tight')\n",
    "plt.show()"
   ]
  },
  {
   "cell_type": "markdown",
   "metadata": {
    "scrolled": false
   },
   "source": [
    "shap_values = shap_values_test\n",
    "good_bad = good_bad_pred_rf(rfc, X_test, y_test)\n",
    "\n",
    "fig, axs = plt.subplots(math.ceil(len(features.columns) / 8), 8, figsize=(8.27, 11.69), sharex=False, sharey=True)\n",
    "axs = axs.ravel()\n",
    "\n",
    "for i, feature in enumerate(features.columns):\n",
    "    df = pd.DataFrame()\n",
    "    df['value'] = X_test[:, i]\n",
    "    df['IG'] = shap_values[:, i]\n",
    "    df['GOOD_BAD'] = good_bad\n",
    "    df.GOOD_BAD = df.GOOD_BAD.replace({0:'Bad', 1:'Good'})\n",
    "    \n",
    "    sns.scatterplot(ax=axs[i], data=df, x='value', y='IG', hue='GOOD_BAD', s=2, legend=False, palette=color_dict)\n",
    "\n",
    "    axs[i].axhline(y=0., linestyle='--', color='r', lw=0.25)\n",
    "    axs[i].set_xlabel(None)\n",
    "    axs[i].set_ylabel(None)\n",
    "    axs[i].tick_params(axis='both', length=0, labelbottom=False, labelleft=False)\n",
    "    axs[i].set_title(feature, fontsize=3, pad=2)\n",
    "\n",
    "# fig.delaxes(axs[-3])\n",
    "# fig.delaxes(axs[-2])\n",
    "# fig.delaxes(axs[-1])\n",
    "\n",
    "plt.subplots_adjust(wspace=0.15, hspace=0.15)\n",
    "plt.savefig('plots/RF_features_importances_test.png', dpi=300, facecolor='white', bbox_inches='tight')\n",
    "plt.show()"
   ]
  },
  {
   "cell_type": "markdown",
   "metadata": {},
   "source": [
    "# Neural Networks"
   ]
  },
  {
   "cell_type": "code",
   "execution_count": 24,
   "metadata": {},
   "outputs": [],
   "source": [
    "class MLP(nn.Module):\n",
    "    def __init__(self, nbr_features, pdrop=0.1, hidden_size=100):\n",
    "        super().__init__()\n",
    "\n",
    "        self.fc1 = nn.Linear(nbr_features, hidden_size)\n",
    "        self.fc2 = nn.Linear(hidden_size, hidden_size)\n",
    "        self.fc3 = nn.Linear(hidden_size, hidden_size)\n",
    "        self.fc4 = nn.Linear(hidden_size, 1)\n",
    "        \n",
    "        self.drop1 = nn.Dropout(pdrop)\n",
    "        self.drop2 = nn.Dropout(pdrop)\n",
    "        self.drop3 = nn.Dropout(pdrop)\n",
    "        \n",
    "        self.relu1 = nn.ReLU()\n",
    "        self.relu2 = nn.ReLU()\n",
    "        self.relu3 = nn.ReLU()\n",
    "        \n",
    "        self.sigmoid = nn.Sigmoid()\n",
    "        \n",
    "        self.bn1 = nn.BatchNorm1d(hidden_size)\n",
    "        self.bn2 = nn.BatchNorm1d(hidden_size)\n",
    "\n",
    "    def forward(self, x):\n",
    "        x = x.flatten(start_dim=1)\n",
    "        x = self.relu1(self.bn1(self.drop1(self.fc1(x))))\n",
    "        x = self.relu2(self.bn2(self.drop2(self.fc2(x))))\n",
    "        x = self.relu3(self.drop3(self.fc3(x)))\n",
    "        x = self.sigmoid(self.fc4(x))       \n",
    "\n",
    "        return x.squeeze()"
   ]
  },
  {
   "cell_type": "code",
   "execution_count": 25,
   "metadata": {},
   "outputs": [
    {
     "name": "stdout",
     "output_type": "stream",
     "text": [
      "Number of train sample 805\n",
      "Number of test sample 202\n",
      "Train period : 2010-05-28 to 2014-05-13\n",
      "Test period : 2014-05-14 to 2015-05-28\n"
     ]
    }
   ],
   "source": [
    "train_indices, test_indices, _, _ = train_test_split(range(len(y)), y, test_size=0.2, shuffle=False)\n",
    "X_train, y_train, X_test, y_test = X[train_indices], y[train_indices], X[test_indices], y[test_indices]\n",
    "\n",
    "X_mean = X_train.mean(dim=[0], keepdim=True)\n",
    "X_std = X_train.std(dim=[0], keepdim=True)\n",
    "X_train = X_train.sub_(X_mean).div_(X_std)\n",
    "X_test = X_test.sub_(X_mean).div_(X_std)\n",
    "\n",
    "print('Number of train sample', len(X_train))\n",
    "print('Number of test sample', len(X_test))\n",
    "\n",
    "print('Train period :', index[train_indices][0].date(), 'to', index[train_indices][-1].date())\n",
    "print('Test period :', index[test_indices][0].date(), 'to', index[test_indices][-1].date())"
   ]
  },
  {
   "cell_type": "code",
   "execution_count": 26,
   "metadata": {},
   "outputs": [
    {
     "name": "stderr",
     "output_type": "stream",
     "text": [
      "100%|██████████| 100/100 [00:08<00:00, 11.33it/s]"
     ]
    },
    {
     "name": "stdout",
     "output_type": "stream",
     "text": [
      "Number of parameters :\n",
      " MLP Accuracy on train set : 63.65 %\n",
      " MLP Accuracy on test set : 60.67 %\n"
     ]
    },
    {
     "name": "stderr",
     "output_type": "stream",
     "text": [
      "\n"
     ]
    }
   ],
   "source": [
    "eta = 1e-3\n",
    "weight_decay = 1e-4\n",
    "dropout = 0.1\n",
    "batch_size = 20\n",
    "nb_epochs = 100\n",
    "\n",
    "verbose = 3\n",
    "\n",
    "nbr_features = X.size(1)\n",
    "\n",
    "model_MLP = MLP(nbr_features, pdrop=dropout)\n",
    "\n",
    "train(model_MLP, X_train, y_train, nb_epochs=nb_epochs, X_test=X_test, y_test=y_test, \n",
    "      batch_size=batch_size, eta=eta, weight_decay=weight_decay, verbose=verbose)\n",
    "\n",
    "model_MLP.eval()\n",
    "\n",
    "print('Number of parameters :', )\n",
    "print(f' MLP Accuracy on train set : {output_to_accu(model_MLP, X_train, y_train):.2f} %')\n",
    "print(f' MLP Accuracy on test set : {output_to_accu(model_MLP, X_test, y_test):.2f} %')"
   ]
  },
  {
   "cell_type": "code",
   "execution_count": 27,
   "metadata": {},
   "outputs": [],
   "source": [
    "def IG_barplot(model_list, X_test):  \n",
    "    \n",
    "    fig, axs = plt.subplots(1, len(model_list), figsize=(20,30), sharex=True, sharey=True)\n",
    "    axs = axs.ravel()\n",
    "    for i, model in enumerate(model_list):\n",
    "        model.eval()\n",
    "        ig = IntegratedGradients(model)\n",
    "        attr = np.abs(ig.attribute(X_test, return_convergence_delta=False).detach().numpy())\n",
    "        std = np.std(attr, axis=0)\n",
    "        \n",
    "        attr_matrix = np.mean(np.abs(attr), axis=0)\n",
    "\n",
    "        sns.barplot(ax=axs[i], y=features.columns, x=attr_matrix, yerr=std, color='r', orient='h')\n",
    "        axs[i].tick_params(length=0)\n",
    "        axs[i].set_title(model.__class__.__name__)\n",
    "\n",
    "    plt.show()"
   ]
  },
  {
   "cell_type": "code",
   "execution_count": 28,
   "metadata": {},
   "outputs": [],
   "source": [
    "ig = IntegratedGradients(model_MLP)\n",
    "attributes_train = ig.attribute(X_train, return_convergence_delta=False).detach().numpy()\n",
    "attributes_test = ig.attribute(X_test, return_convergence_delta=False).detach().numpy()"
   ]
  },
  {
   "cell_type": "code",
   "execution_count": 29,
   "metadata": {},
   "outputs": [
    {
     "data": {
      "image/png": "[encoded data removed]",
      "text/plain": [
       "<Figure size 360x360 with 2 Axes>"
      ]
     },
     "metadata": {
      "needs_background": "light"
     },
     "output_type": "display_data"
    }
   ],
   "source": [
    "fig, axs = plt.subplots(1, 2, figsize=(5, 5), sharex=True, sharey=True)\n",
    "\n",
    "attr_train = np.mean(np.abs(attributes_train), axis=0)\n",
    "attr_test = np.mean(np.abs(attributes_test), axis=0)\n",
    "\n",
    "sns.barplot(ax=axs[0], x=attr_train, y=features.columns, color='r')\n",
    "axs[0].tick_params(length=0, labelsize=8)\n",
    "axs[0].set_title('Train set')\n",
    "\n",
    "sns.barplot(ax=axs[1], x=attr_test, y=features.columns, color='r')\n",
    "axs[1].tick_params(length=0)\n",
    "axs[1].set_title('Test set')\n",
    "\n",
    "plt.tight_layout()\n",
    "plt.show()"
   ]
  },
  {
   "cell_type": "code",
   "execution_count": 30,
   "metadata": {
    "scrolled": false
   },
   "outputs": [
    {
     "data": {
      "image/png": "[encoded data removed]",
      "text/plain": [
       "<Figure size 360x360 with 4 Axes>"
      ]
     },
     "metadata": {},
     "output_type": "display_data"
    }
   ],
   "source": [
    "good_bad = good_bad_pred(model_MLP, X_train, y_train)\n",
    "\n",
    "fig, axs = plt.subplots(math.ceil(len(features.columns) / 4), 4, figsize=(5, 5), sharex=False, sharey=True)\n",
    "axs = axs.ravel()\n",
    "\n",
    "for i, feature in enumerate(features.columns):\n",
    "    df = pd.DataFrame()\n",
    "    df['value'] = X_train[:, i]\n",
    "    df['IG'] = attributes_train[:, i] / np.sum(np.abs(attributes_train[:, i])) / np.abs(X_train[:, i])\n",
    "    df['GOOD_BAD'] = good_bad\n",
    "    df['target'] = y_train\n",
    "    df.GOOD_BAD = df.GOOD_BAD.replace({0:'Bad', 1:'Good'})\n",
    "    df.target = df.target.replace({1:'Large', 0:'Small'})\n",
    "    \n",
    "    sns.scatterplot(ax=axs[i], data=df, x='value', y='IG', hue='GOOD_BAD', style='target', s=2, \n",
    "                    palette=color_dict, legend=False, edgecolors=None)\n",
    "    \n",
    "    axs[i].axvline(x=0., linestyle='--', color='r', lw=0.25)\n",
    "    axs[i].axhline(y=0., linestyle='--', color='r', lw=0.25)\n",
    "    axs[i].set_xlabel(None)\n",
    "    axs[i].set_ylabel(None)\n",
    "    axs[i].tick_params(axis='both', length=0, labelbottom=False, labelleft=False)\n",
    "    axs[i].set_title(feature, fontsize=3, pad=2)\n",
    "\n",
    "# fig.delaxes(axs[-3])\n",
    "# fig.delaxes(axs[-2])\n",
    "# fig.delaxes(axs[-1])\n",
    "\n",
    "plt.subplots_adjust(wspace=0.15, hspace=0.15)\n",
    "\n",
    "plt.savefig('plots/MLP_features_importances_train.png', format='png', bbox_inches='tight', dpi=500, facecolor='white')\n",
    "plt.show()"
   ]
  },
  {
   "cell_type": "code",
   "execution_count": 31,
   "metadata": {
    "scrolled": false
   },
   "outputs": [
    {
     "data": {
      "image/png": "[encoded data removed]",
      "text/plain": [
       "<Figure size 360x360 with 4 Axes>"
      ]
     },
     "metadata": {},
     "output_type": "display_data"
    }
   ],
   "source": [
    "good_bad = good_bad_pred(model_MLP, X_test, y_test)\n",
    "\n",
    "fig, axs = plt.subplots(math.ceil(len(features.columns) / 4), 4, figsize=(20, 5), sharex=False, sharey=True)\n",
    "axs = axs.ravel()\n",
    "\n",
    "for i, feature in enumerate(features.columns):\n",
    "    df = pd.DataFrame()\n",
    "    df['value'] = X_test[:, i]\n",
    "    df['IG'] = attributes_test[:, i] / np.sum(np.abs(attributes_test[:, i])) / np.abs(X_test[:, i])\n",
    "    df['GOOD_BAD'] = good_bad\n",
    "    df['target'] = y_test\n",
    "    df.GOOD_BAD = df.GOOD_BAD.replace({0:'Bad', 1:'Good'})\n",
    "    df.target = df.target.replace({0:'Small', 1:'Large'})\n",
    "    \n",
    "    sns.scatterplot(ax=axs[i], data=df, x='value', y='IG', hue='GOOD_BAD', s=2, style='target',\n",
    "                    palette=list(reversed(pal)), legend=False, edgecolors=None)\n",
    "    \n",
    "    axs[i].axvline(x=0., linestyle='--', color='r', lw=0.25)\n",
    "    axs[i].axhline(y=0., linestyle='--', color='r', lw=0.25)\n",
    "    axs[i].tick_params(axis='both', length=0, labelbottom=False, labelleft=False)\n",
    "    axs[i].set_xlabel(None)\n",
    "    axs[i].set_ylabel(None)\n",
    "    axs[i].set_title(feature, fontsize=3, pad=2)\n",
    "\n",
    "# fig.delaxes(axs[-3])\n",
    "# fig.delaxes(axs[-2])\n",
    "# fig.delaxes(axs[-1])\n",
    "\n",
    "plt.subplots_adjust(wspace=0.15, hspace=0.15)\n",
    "plt.savefig('plots/MLP_features_importances_test.png', format='png', bbox_inches='tight', dpi=500, facecolor='white')\n",
    "\n",
    "plt.show()"
   ]
  },
  {
   "cell_type": "markdown",
   "metadata": {},
   "source": [
    "# Time series as an input"
   ]
  },
  {
   "cell_type": "code",
   "execution_count": 32,
   "metadata": {},
   "outputs": [],
   "source": [
    "features_standardized = (features - features.mean()) / features.std()\n",
    "mom5 = features_standardized[features_standardized.columns[:11]]\n",
    "mom21 = features_standardized[features_standardized.columns[11:22]]"
   ]
  },
  {
   "cell_type": "code",
   "execution_count": 33,
   "metadata": {},
   "outputs": [],
   "source": [
    "class RNN(nn.Module):\n",
    "\n",
    "    def __init__(self, nbr_features, hidden_size, num_layers, pdrop=0.):\n",
    "        super(RNN, self).__init__()\n",
    "        \n",
    "        self.nbr_features = nbr_features\n",
    "        self.hidden_size = hidden_size\n",
    "        self.num_layers = num_layers\n",
    "        self.dropout = pdrop\n",
    "        self.device = device\n",
    "        self.rnn = nn.RNN(input_size=self.nbr_features, hidden_size=self.hidden_size, \n",
    "                            num_layers=self.num_layers, batch_first=True, dropout=self.dropout)\n",
    "        self.fc = nn.Linear(hidden_size, 1)\n",
    "\n",
    "        self.sigmoid = nn.Sigmoid()\n",
    "        self.relu = nn.ReLU()\n",
    "        \n",
    "    def forward(self, x):\n",
    "        x = x.view(x.size(0), x.size(1), x.size(2))\n",
    "        x, _ = self.rnn(x)\n",
    "        x = self.sigmoid(self.fc(x[:, -1, :]))\n",
    "\n",
    "        return x.squeeze()\n",
    "\n",
    "\n",
    "class GRU(nn.Module):\n",
    "\n",
    "    def __init__(self, nbr_features, hidden_size=10, num_layers=1, pdrop=0.):\n",
    "        super(GRU, self).__init__()\n",
    "        \n",
    "        self.nbr_features = nbr_features\n",
    "        self.hidden_size = hidden_size\n",
    "        self.num_layers = num_layers\n",
    "        self.dropout = pdrop\n",
    "        self.device = device\n",
    "        self.gru = nn.GRU(input_size=self.nbr_features, hidden_size=self.hidden_size, \n",
    "                            num_layers=self.num_layers, batch_first=True, dropout=self.dropout)\n",
    "        self.fc = nn.Linear(hidden_size, 1)\n",
    "\n",
    "        self.sigmoid = nn.Sigmoid()\n",
    "        self.relu = nn.ReLU()\n",
    "        \n",
    "    def forward(self, x):\n",
    "        x = x.view(x.size(0), x.size(1), x.size(2))\n",
    "        x, _ = self.gru(x)\n",
    "        x = self.sigmoid(self.fc(x[:, -1, :]))\n",
    "\n",
    "        return x.squeeze()\n",
    "\n",
    "\n",
    "class LSTM(nn.Module):\n",
    "\n",
    "    def __init__(self, nbr_features, hidden_size=10, num_layers=1, pdrop=0.):\n",
    "        super(LSTM, self).__init__()\n",
    "        \n",
    "        self.nbr_features = nbr_features\n",
    "        self.hidden_size = hidden_size\n",
    "        self.num_layers = num_layers\n",
    "        self.dropout = pdrop\n",
    "        self.device = device\n",
    "        self.lstm = nn.LSTM(input_size=self.nbr_features, hidden_size=self.hidden_size, \n",
    "                            num_layers=self.num_layers, batch_first=True, dropout=self.dropout)\n",
    "        self.fc = nn.Linear(hidden_size, 1)\n",
    "\n",
    "        self.sigmoid = nn.Sigmoid()\n",
    "        self.relu = nn.ReLU()\n",
    "        \n",
    "    def forward(self, x):\n",
    "        x = x.view(x.size(0), x.size(1), x.size(2))\n",
    "        x, _ = self.lstm(x)\n",
    "        x = self.sigmoid(self.fc(x[:, -1, :]))\n",
    "\n",
    "        return x.squeeze()"
   ]
  },
  {
   "cell_type": "code",
   "execution_count": 34,
   "metadata": {},
   "outputs": [
    {
     "name": "stdout",
     "output_type": "stream",
     "text": [
      "Number of train sample 805\n",
      "Number of test sample 202\n",
      "Allocation of best returns in train set : [0.518 0.482]\n",
      "Allocation of best returns in test set : [0.495 0.505]\n"
     ]
    }
   ],
   "source": [
    "input_period = 10\n",
    "\n",
    "num_features = len(features.columns)\n",
    "\n",
    "df_input = features.loc[:df_output.index[-1]]\n",
    "\n",
    "X = []\n",
    "for idx in df_output.index:\n",
    "    df_input_period = df_input.loc[:idx].iloc[-input_period:]\n",
    "    X_period = df_input_period.values.reshape(input_period, num_features)\n",
    "    X.append(X_period)\n",
    "\n",
    "X = np.array(X)\n",
    "y = df_output.values\n",
    "\n",
    "X, y = torch.from_numpy(X).float(), torch.from_numpy(y).float()\n",
    "\n",
    "train_indices, test_indices, _, _ = train_test_split(range(len(y)), y, test_size=0.2, shuffle=False)\n",
    "X_train, y_train, X_test, y_test = X[train_indices], y[train_indices], X[test_indices], y[test_indices]\n",
    "print('Number of train sample', len(X_train))\n",
    "print('Number of test sample', len(X_test))\n",
    "\n",
    "X_mean = X_train.mean(dim=[0, 1], keepdim=True)\n",
    "X_std = X_train.std(dim=[0, 1], keepdim=True)\n",
    "X_train = X_train.sub_(X_mean).div_(X_std)\n",
    "X_test = X_test.sub_(X_mean).div_(X_std)\n",
    "\n",
    "class_count_train = np.unique(y_train.cpu(), axis=0, return_counts=True)[1]\n",
    "class_count_test = np.unique(y_test.cpu(), axis=0, return_counts=True)[1]\n",
    "weights_train = torch.tensor(class_count_train / sum(class_count_train))\n",
    "weights_test = torch.tensor(class_count_test / sum(class_count_test))\n",
    "print('Allocation of best returns in train set :', weights_train.cpu().numpy())\n",
    "print('Allocation of best returns in test set :', weights_test.cpu().numpy())"
   ]
  },
  {
   "cell_type": "code",
   "execution_count": 35,
   "metadata": {},
   "outputs": [
    {
     "name": "stderr",
     "output_type": "stream",
     "text": [
      "100%|██████████| 100/100 [00:04<00:00, 22.96it/s]\n",
      "100%|██████████| 100/100 [00:08<00:00, 11.12it/s]\n",
      "100%|██████████| 100/100 [00:09<00:00, 10.48it/s]\n"
     ]
    },
    {
     "name": "stdout",
     "output_type": "stream",
     "text": [
      " RNN Accuracy on train set : 58.98 %\n"
     ]
    },
    {
     "ename": "ZeroDivisionError",
     "evalue": "division by zero",
     "output_type": "error",
     "traceback": [
      "\u001b[0;31m---------------------------------------------------------------------------\u001b[0m",
      "\u001b[0;31mZeroDivisionError\u001b[0m                         Traceback (most recent call last)",
      "\u001b[0;32m<ipython-input-35-8268a4c09568>\u001b[0m in \u001b[0;36m<module>\u001b[0;34m\u001b[0m\n\u001b[1;32m     24\u001b[0m \u001b[0mmodel_RNN\u001b[0m\u001b[0;34m.\u001b[0m\u001b[0meval\u001b[0m\u001b[0;34m(\u001b[0m\u001b[0;34m)\u001b[0m\u001b[0;34m\u001b[0m\u001b[0;34m\u001b[0m\u001b[0m\n\u001b[1;32m     25\u001b[0m \u001b[0mprint\u001b[0m\u001b[0;34m(\u001b[0m\u001b[0;34mf' RNN Accuracy on train set : {output_to_accu(model_RNN, X_train, y_train):.2f} %'\u001b[0m\u001b[0;34m)\u001b[0m\u001b[0;34m\u001b[0m\u001b[0;34m\u001b[0m\u001b[0m\n\u001b[0;32m---> 26\u001b[0;31m \u001b[0mprint\u001b[0m\u001b[0;34m(\u001b[0m\u001b[0;34mf' RNN Accuracy on test set : {output_to_accu(model_RNN, X_test, y_test):.2f} %'\u001b[0m\u001b[0;34m)\u001b[0m\u001b[0;34m\u001b[0m\u001b[0;34m\u001b[0m\u001b[0m\n\u001b[0m\u001b[1;32m     27\u001b[0m \u001b[0;34m\u001b[0m\u001b[0m\n\u001b[1;32m     28\u001b[0m \u001b[0mmodel_GRU\u001b[0m\u001b[0;34m.\u001b[0m\u001b[0meval\u001b[0m\u001b[0;34m(\u001b[0m\u001b[0;34m)\u001b[0m\u001b[0;34m\u001b[0m\u001b[0;34m\u001b[0m\u001b[0m\n",
      "\u001b[0;32m<ipython-input-3-463e195625d2>\u001b[0m in \u001b[0;36moutput_to_accu\u001b[0;34m(model, X, y)\u001b[0m\n\u001b[1;32m     10\u001b[0m         \u001b[0;32mif\u001b[0m \u001b[0mpred\u001b[0m\u001b[0;34m[\u001b[0m\u001b[0mb\u001b[0m\u001b[0;34m]\u001b[0m \u001b[0;34m!=\u001b[0m \u001b[0my\u001b[0m\u001b[0;34m[\u001b[0m\u001b[0mb\u001b[0m\u001b[0;34m]\u001b[0m\u001b[0;34m:\u001b[0m\u001b[0;34m\u001b[0m\u001b[0;34m\u001b[0m\u001b[0m\n\u001b[1;32m     11\u001b[0m             \u001b[0mnb_errors\u001b[0m \u001b[0;34m=\u001b[0m \u001b[0mnb_errors\u001b[0m \u001b[0;34m+\u001b[0m \u001b[0;36m1\u001b[0m\u001b[0;34m\u001b[0m\u001b[0;34m\u001b[0m\u001b[0m\n\u001b[0;32m---> 12\u001b[0;31m     \u001b[0maccuracy\u001b[0m \u001b[0;34m=\u001b[0m \u001b[0;36m100\u001b[0m \u001b[0;34m*\u001b[0m \u001b[0;34m(\u001b[0m\u001b[0;36m1\u001b[0m \u001b[0;34m-\u001b[0m \u001b[0mnb_errors\u001b[0m \u001b[0;34m/\u001b[0m \u001b[0mlen\u001b[0m\u001b[0;34m(\u001b[0m\u001b[0my\u001b[0m\u001b[0;34m)\u001b[0m\u001b[0;34m)\u001b[0m\u001b[0;34m\u001b[0m\u001b[0;34m\u001b[0m\u001b[0m\n\u001b[0m\u001b[1;32m     13\u001b[0m     \u001b[0;32mreturn\u001b[0m \u001b[0maccuracy\u001b[0m\u001b[0;34m\u001b[0m\u001b[0;34m\u001b[0m\u001b[0m\n",
      "\u001b[0;31mZeroDivisionError\u001b[0m: division by zero"
     ]
    }
   ],
   "source": [
    "eta = 1e-3\n",
    "weight_decay = 1e-4\n",
    "dropout = 0.\n",
    "batch_size = 50\n",
    "nb_epochs = 100\n",
    "\n",
    "verbose = 3\n",
    "\n",
    "nbr_features = X.size(2)\n",
    "hidden_size = 100\n",
    "num_layers = 1\n",
    "\n",
    "model_RNN = RNN(nbr_features, hidden_size=hidden_size, num_layers=num_layers, pdrop=dropout)\n",
    "model_GRU = GRU(nbr_features, hidden_size=hidden_size, num_layers=num_layers, pdrop=dropout)\n",
    "model_LSTM = LSTM(nbr_features, hidden_size=hidden_size, num_layers=num_layers, pdrop=dropout)\n",
    "\n",
    "train(model_RNN, X_train, y_train, nb_epochs=nb_epochs, X_test=X_test, y_test=y_test, \n",
    "      batch_size=batch_size, eta=eta, weight_decay=weight_decay, verbose=verbose)\n",
    "train(model_GRU, X_train, y_train, nb_epochs=nb_epochs, X_test=X_test, y_test=y_test, \n",
    "      batch_size=batch_size, eta=eta, weight_decay=weight_decay, verbose=verbose)\n",
    "train(model_LSTM, X_train, y_train, nb_epochs=nb_epochs, X_test=X_test, y_test=y_test, \n",
    "      batch_size=batch_size, eta=eta, weight_decay=weight_decay, verbose=verbose)\n",
    "\n",
    "model_RNN.eval()\n",
    "print(f' RNN Accuracy on train set : {output_to_accu(model_RNN, X_train, y_train):.2f} %')\n",
    "print(f' RNN Accuracy on test set : {output_to_accu(model_RNN, X_test, y_test):.2f} %')\n",
    "\n",
    "model_GRU.eval()\n",
    "print(f' GRU Accuracy on train set : {output_to_accu(model_GRU, X_train, y_train):.2f} %')\n",
    "print(f' GRU Accuracy on test set : {output_to_accu(model_GRU, X_test, y_test):.2f} %')\n",
    "\n",
    "model_LSTM.eval()\n",
    "print(f' LSTM Accuracy on train set : {output_to_accu(model_LSTM, X_train, y_train):.2f} %')\n",
    "print(f' LSTM Accuracy on test set : {output_to_accu(model_LSTM, X_test, y_test):.2f} %')"
   ]
  },
  {
   "cell_type": "code",
   "execution_count": null,
   "metadata": {
    "scrolled": false
   },
   "outputs": [],
   "source": [
    "model_list = [model_RNN, model_GRU, model_LSTM]\n",
    "\n",
    "fig, axs = plt.subplots(3, 1, figsize=(20, 40), sharex=True, sharey=True)\n",
    "for ax, model in zip(axs, model_list):\n",
    "    ig = IntegratedGradients(model)\n",
    "    attributes_train = ig.attribute(X_train, return_convergence_delta=False).detach().numpy()\n",
    "\n",
    "    attr = np.mean(np.abs(attributes_train), axis=0).T\n",
    "\n",
    "    sns.heatmap(ax=ax, data=attr, annot=False, cmap='Reds', cbar=False, \n",
    "                yticklabels=features.columns, xticklabels=list(reversed(- (np.arange(input_period)))))\n",
    "\n",
    "    ax.tick_params(axis='both', which='major', labelsize=8, labeltop=True, labelbottom=False, rotation=0, length=0)\n",
    "    ax.set_title(model.__class__.__name__, fontsize=20)\n",
    "\n",
    "plt.show()"
   ]
  },
  {
   "cell_type": "code",
   "execution_count": null,
   "metadata": {},
   "outputs": [],
   "source": [
    "ig = IntegratedGradients(model_LSTM)\n",
    "attributes_train = ig.attribute(X_train, return_convergence_delta=False).detach().numpy()\n",
    "attributes_test = ig.attribute(X_test, return_convergence_delta=False).detach().numpy()"
   ]
  },
  {
   "cell_type": "code",
   "execution_count": null,
   "metadata": {},
   "outputs": [],
   "source": [
    "fig, axs = plt.subplots(1, 2, figsize=(5, 5), sharey=True, sharex=True)\n",
    "\n",
    "attr_train = np.sum(np.mean(np.abs(attributes_train), axis=0), axis=0)\n",
    "attr_test = np.sum(np.mean(np.abs(attributes_test), axis=0), axis=0)\n",
    "\n",
    "sns.barplot(ax=axs[0], x=attr_train, y=features.columns, color='r')\n",
    "axs[0].tick_params(length=0, labelsize=8)\n",
    "axs[0].set_title('Train set')\n",
    "\n",
    "sns.barplot(ax=axs[1], x=attr_test, y=features.columns, color='r')\n",
    "axs[1].tick_params(length=0, labelsize=8)\n",
    "axs[1].set_title('Test set')\n",
    "\n",
    "plt.tight_layout()\n",
    "plt.show()"
   ]
  },
  {
   "cell_type": "code",
   "execution_count": null,
   "metadata": {},
   "outputs": [],
   "source": [
    "good_bad = good_bad_pred(model_LSTM, X_train, y_train)\n",
    "\n",
    "fig, axs = plt.subplots(math.ceil(len(features.columns) / 4), 4, figsize=(5, 5), sharex=False, sharey=True)\n",
    "axs = axs.ravel()\n",
    "\n",
    "for i, feature in enumerate(features.columns):\n",
    "    df = pd.DataFrame()\n",
    "    df['value'] = X_train.mean(axis=1)[:, i]\n",
    "    df['IG'] = np.sum(attributes_train, axis=1)[:, i]\n",
    "    df['GOOD_BAD'] = good_bad\n",
    "    df.GOOD_BAD = df.GOOD_BAD.replace({0:'Bad', 1:'Good'})\n",
    "    df['target'] = y_train\n",
    "    \n",
    "    sns.scatterplot(ax=axs[i], data=df, x='value', y='IG', hue='GOOD_BAD', style='target',\n",
    "                    s=2, legend=False, edgecolors=None, palette=color_dict)\n",
    "    \n",
    "    axs[i].axvline(x=0., linestyle='--', color='r', lw=0.25)\n",
    "    axs[i].axhline(y=0., linestyle='--', color='r', lw=0.25)\n",
    "    axs[i].set_xlabel(None)\n",
    "    axs[i].set_ylabel(None)\n",
    "    axs[i].tick_params(axis='both', length=0, labelbottom=False, labelleft=False)\n",
    "    axs[i].set_title(feature, fontsize=3, pad=2)\n",
    "\n",
    "# fig.delaxes(axs[-3])\n",
    "# fig.delaxes(axs[-2])\n",
    "# fig.delaxes(axs[-1])\n",
    "\n",
    "plt.subplots_adjust(wspace=0.15, hspace=0.15)\n",
    "\n",
    "plt.savefig('plots/LSTM_features_importances_train.png', format='png', bbox_inches='tight', dpi=500, facecolor='white')\n",
    "plt.show()"
   ]
  },
  {
   "cell_type": "code",
   "execution_count": null,
   "metadata": {},
   "outputs": [],
   "source": [
    "good_bad = good_bad_pred(model_LSTM, X_test, y_test)\n",
    "\n",
    "fig, axs = plt.subplots(math.ceil(len(features.columns) / 4), 4, figsize=(5, 5), sharex=False, sharey=True)\n",
    "axs = axs.ravel()\n",
    "\n",
    "for i, feature in enumerate(features.columns):\n",
    "    df = pd.DataFrame()\n",
    "    df['value'] = X_test.mean(axis=1)[:, i]\n",
    "    df['IG'] = np.sum(attributes_test, axis=1)[:, i]\n",
    "    df['GOOD_BAD'] = good_bad\n",
    "    df.GOOD_BAD = df.GOOD_BAD.replace({0:'Bad', 1:'Good'})\n",
    "    df['target'] = y_test\n",
    "    \n",
    "    sns.scatterplot(ax=axs[i], data=df, x='value', y='IG', hue='GOOD_BAD', style='target',\n",
    "                    s=2, legend=False, edgecolors=None, palette=color_dict)\n",
    "    \n",
    "    axs[i].axvline(x=0., linestyle='--', color='r', lw=0.25)\n",
    "    axs[i].axhline(y=0., linestyle='--', color='r', lw=0.25)\n",
    "    axs[i].set_xlabel(None)\n",
    "    axs[i].set_ylabel(None)\n",
    "    axs[i].tick_params(axis='both', length=0, labelbottom=False, labelleft=False)\n",
    "    axs[i].set_title(feature, fontsize=3, pad=2)\n",
    "\n",
    "# fig.delaxes(axs[-3])\n",
    "# fig.delaxes(axs[-2])\n",
    "# fig.delaxes(axs[-1])\n",
    "\n",
    "plt.subplots_adjust(wspace=0.15, hspace=0.15)\n",
    "\n",
    "plt.savefig('plots/LSTM_features_importances_test.png', format='png', bbox_inches='tight', dpi=500, facecolor='white')\n",
    "plt.show()"
   ]
  },
  {
   "cell_type": "code",
   "execution_count": null,
   "metadata": {},
   "outputs": [],
   "source": [
    "fix, ax = plt.subplots(figsize=(15, 5))\n",
    "\n",
    "plt.plot(model_LSTM(X_train).detach().numpy()[-252:])\n",
    "ax.axhline(y=0.55, linestyle='--', color='r')\n",
    "ax.axhline(y=0.45, linestyle='--', color='r')\n",
    "plt.show()"
   ]
  },
  {
   "cell_type": "code",
   "execution_count": null,
   "metadata": {},
   "outputs": [],
   "source": []
  },
  {
   "cell_type": "code",
   "execution_count": null,
   "metadata": {},
   "outputs": [],
   "source": []
  }
 ],
 "metadata": {
  "kernelspec": {
   "display_name": "Python 3",
   "language": "python",
   "name": "python3"
  },
  "language_info": {
   "codemirror_mode": {
    "name": "ipython",
    "version": 3
   },
   "file_extension": ".py",
   "mimetype": "text/x-python",
   "name": "python",
   "nbconvert_exporter": "python",
   "pygments_lexer": "ipython3",
   "version": "3.8.5"
  }
 },
 "nbformat": 4,
 "nbformat_minor": 4
}
