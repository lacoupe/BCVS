{
 "cells": [
  {
   "cell_type": "code",
   "execution_count": 1,
   "metadata": {},
   "outputs": [],
   "source": [
    "import pandas as pd\n",
    "import numpy as np\n",
    "import torch\n",
    "from dateutil.relativedelta import relativedelta\n",
    "from tqdm import tqdm\n",
    "from helpers import performance_plot, resume_backtest, annual_alpha_plot, price_to_perf, prob_to_pred, printmetrics\n",
    "from sklearn.metrics import classification_report\n",
    "from models import MLP, RNN, GRU, LSTM\n",
    "from train_test import train, test\n",
    "from data import get_data\n",
    "from helpers import resume_backtest\n",
    "\n",
    "from datetime import datetime\n",
    "from sklearn.preprocessing import PowerTransformer\n",
    "from sklearn.preprocessing import MinMaxScaler\n",
    "\n",
    "from sklearn.preprocessing import PowerTransformer\n",
    "from sklearn.preprocessing import MinMaxScaler\n",
    "from sklearn.linear_model import LogisticRegression\n",
    "from sklearn.ensemble import RandomForestClassifier\n",
    "\n",
    "import seaborn as sns\n",
    "import matplotlib.pyplot as plt\n",
    "\n",
    "\n",
    "import os\n",
    "os.environ['KMP_DUPLICATE_LIB_OK']='True'\n",
    "\n",
    "pd.set_option('display.max_columns', None)\n",
    "pd.set_option('display.width', 200)"
   ]
  },
  {
   "cell_type": "code",
   "execution_count": 89,
   "metadata": {},
   "outputs": [],
   "source": [
    "def backtest_strat_sklearn(features, forward_weekly_returns, training_window, model_name):\n",
    "\n",
    "    threshold_return_diff = 0.0005\n",
    "\n",
    "    nbr_features = len(features.columns)\n",
    "\n",
    "    best_pred = (forward_weekly_returns.SMALL_MID > forward_weekly_returns.LARGE).astype(int)\n",
    "\n",
    "    # The moving window every 26 weeks\n",
    "    df_prob_all = pd.DataFrame()\n",
    "    all_end_dates = ['2015-07-01', '2016-01-01', '2016-07-01', '2017-01-01', \n",
    "                     '2017-07-01', '2018-01-01', '2018-07-01', '2019-01-01', \n",
    "                     '2019-07-01', '2020-01-01', '2020-07-01', '2021-01-01',\n",
    "                     '2021-07-01']\n",
    "    for end_date in tqdm(all_end_dates):\n",
    "\n",
    "        end_date = datetime.strptime(end_date, '%Y-%m-%d')\n",
    "        start_date = end_date - relativedelta(years=training_window)\n",
    "\n",
    "        df_output = best_pred.loc[start_date:end_date]\n",
    "\n",
    "        start_date_test = end_date - relativedelta(months=6)\n",
    "        split_index = df_output.index.get_loc(start_date_test, method='bfill')\n",
    "        index_test = df_output.iloc[split_index:].index\n",
    "\n",
    "        features_std = pd.DataFrame(index=df_output.index, \n",
    "                                    data=PowerTransformer(method='yeo-johnson', standardize=True).fit_transform(features.reindex(df_output.index)), \n",
    "                                    columns=features.columns)\n",
    "\n",
    "        df_input = features_std.reindex(df_output.index)\n",
    "\n",
    "        df_input_train = df_input.iloc[:split_index]\n",
    "        df_output_train = df_output.iloc[:split_index]\n",
    "        df_input_test = df_input.iloc[split_index:]\n",
    "        df_output_test = df_output.iloc[split_index:]\n",
    "\n",
    "        forward_weekly_returns_train = forward_weekly_returns.reindex(df_output_train.index)\n",
    "        index_train = list(df_output_train.reset_index()[forward_weekly_returns_train.reset_index().abs_diff > threshold_return_diff].index)\n",
    "        X_train = df_input_train.values[index_train]\n",
    "        X_test = df_input_test.values\n",
    "\n",
    "        y_train = df_output_train.values[index_train]\n",
    "        y_test = df_output_test.values\n",
    "\n",
    "        # Transform Numpy arrays to Torch tensors\n",
    "        X_train, y_train, X_test, y_test = torch.from_numpy(X_train).float(), torch.from_numpy(y_train).float(), torch.from_numpy(X_test).float(), torch.from_numpy(y_test).float()\n",
    "\n",
    "        if model_name == 'RF':\n",
    "            model = RandomForestClassifier(n_estimators=500, max_depth=20, min_samples_leaf=1, \n",
    "                                           min_samples_split=20, random_state=1)\n",
    "        elif model_name == 'logreg':\n",
    "            model = LogisticRegression(penalty='l2', class_weight='balanced')\n",
    "        \n",
    "\n",
    "        model.fit(X_train, y_train)\n",
    "        prob = model.predict_proba(X_test)[:, 1]\n",
    "        df_prob = pd.DataFrame(index=index_test, data=prob)\n",
    "        df_prob_all = pd.concat([df_prob_all, df_prob], axis=0)\n",
    "\n",
    "    df_prob_all = df_prob_all[~df_prob_all.index.duplicated(keep='first')]\n",
    "    scaler = MinMaxScaler()\n",
    "    scaler.fit(df_prob_all.values.reshape(-1, 1))\n",
    "    signal = scaler.transform(df_prob_all.values.reshape(-1, 1)).reshape(-1)\n",
    "    return pd.DataFrame(index=df_prob_all.index, data=signal)\n",
    "\n",
    "\n",
    "def backtest_sklearn(model_name):\n",
    "    \n",
    "    bench_price, target_prices, features = get_data()\n",
    "\n",
    "    training_window = 4\n",
    "\n",
    "    forward_weekly_returns = target_prices.rolling(5).apply(lambda x: np.log(x[-1] / x[0]) / len(x)).shift(-5)\n",
    "    forward_weekly_returns['abs_diff'] = np.abs(forward_weekly_returns.SMALL_MID - forward_weekly_returns.LARGE)\n",
    "\n",
    "    df_prob = backtest_strat_sklearn(features=features, forward_weekly_returns=forward_weekly_returns,\n",
    "                            model_name=model_name, training_window=training_window)\n",
    "\n",
    "    portfolio = pd.DataFrame(index=df_prob.index, columns=['SMALL_MID', 'LARGE']).fillna(0)\n",
    "    portfolio['SMALL_MID'] = (df_prob > 0.6).astype(int) - (df_prob < 0.4).astype(int)\n",
    "    portfolio['LARGE'] = - portfolio.SMALL_MID\n",
    "\n",
    "    class_type, class_count = np.unique(portfolio.values, axis=0, return_counts=True)\n",
    "    weights = class_count / sum(class_count)\n",
    "    print(class_type)\n",
    "    print(weights)\n",
    "\n",
    "    benchmark_portfolio = pd.read_excel('data/spiex_spi20_weights.xlsx', index_col=0)\n",
    "    benchmark_portfolio = benchmark_portfolio.rename(columns={'SPIEX':'SMALL_MID', 'SPI20': 'LARGE'})\n",
    "    benchmark_portfolio = benchmark_portfolio[['SMALL_MID', 'LARGE']]\n",
    "    benchmark_portfolio = benchmark_portfolio.reindex(portfolio.index, method='bfill')\n",
    "\n",
    "    portfolio = portfolio * 0.15 + benchmark_portfolio\n",
    "\n",
    "    return portfolio"
   ]
  },
  {
   "cell_type": "code",
   "execution_count": 90,
   "metadata": {},
   "outputs": [],
   "source": [
    "def backtest_strat(features, forward_weekly_returns, hidden_size=10, model_name='MLP',\n",
    "                   nb_epochs=50, training_window=5, input_period=10, dropout=0.1,\n",
    "                   batch_size=10, verbose=0, eta=1e-3, weight_decay=0, num_layers=2):\n",
    "\n",
    "    print('Backtesting model ' + model_name)\n",
    "\n",
    "    threshold_return_diff = 0.0005\n",
    "\n",
    "    nbr_features = len(features.columns)\n",
    "\n",
    "    best_pred = (forward_weekly_returns.SMALL_MID > forward_weekly_returns.LARGE).astype(int)\n",
    "\n",
    "    # The moving window every 26 weeks\n",
    "    df_prob_all = pd.DataFrame()\n",
    "    all_end_dates = ['2015-07-01', '2016-01-01', '2016-07-01', '2017-01-01', \n",
    "                     '2017-07-01', '2018-01-01', '2018-07-01', '2019-01-01', \n",
    "                     '2019-07-01', '2020-01-01', '2020-07-01', '2021-01-01',\n",
    "                     '2021-07-01']\n",
    "    for end_date in tqdm(all_end_dates):\n",
    "\n",
    "        end_date = datetime.strptime(end_date, '%Y-%m-%d')\n",
    "        start_date = end_date - relativedelta(years=training_window)\n",
    "        start_date_input = start_date - relativedelta(days=input_period * 2)\n",
    "\n",
    "        df_output = best_pred.loc[start_date:end_date]\n",
    "\n",
    "        start_date_test = end_date - relativedelta(months=6)\n",
    "        split_index = df_output.index.get_loc(start_date_test, method='bfill')\n",
    "        index_test = df_output.iloc[split_index:].index\n",
    "\n",
    "        features_std = pd.DataFrame(index=best_pred.loc[start_date_input:end_date].index, \n",
    "                                    data=PowerTransformer(method='yeo-johnson', standardize=True).fit_transform(features.reindex(best_pred.loc[start_date_input:end_date].index)), \n",
    "                                    columns=features.columns)\n",
    "\n",
    "        if model_name == 'MLP':\n",
    "\n",
    "            df_input = features_std.reindex(df_output.index)\n",
    "\n",
    "            df_input_train = df_input.iloc[:split_index]\n",
    "            df_output_train = df_output.iloc[:split_index]\n",
    "            df_input_test = df_input.iloc[split_index:]\n",
    "            df_output_test = df_output.iloc[split_index:]\n",
    "\n",
    "            forward_weekly_returns_train = forward_weekly_returns.reindex(df_output_train.index)\n",
    "            index_train = list(df_output_train.reset_index()[forward_weekly_returns_train.reset_index().abs_diff > threshold_return_diff].index)\n",
    "            X_train = df_input_train.values[index_train]\n",
    "            X_test = df_input_test.values\n",
    "\n",
    "        else:\n",
    "\n",
    "            df_input = features_std.loc[:end_date]\n",
    "\n",
    "            df_output_train = df_output.iloc[:split_index]\n",
    "            df_output_test = df_output.iloc[split_index:]\n",
    "\n",
    "            forward_weekly_returns_train = forward_weekly_returns.reindex(df_output_train.index)\n",
    "            index_train = list(df_output_train.reset_index()[forward_weekly_returns_train.reset_index().abs_diff > threshold_return_diff].index)\n",
    "            X = []\n",
    "            for idx in df_output.index:\n",
    "                df_input_period = df_input.loc[:idx].iloc[-input_period:]\n",
    "                X_period = df_input_period.values.reshape(input_period, nbr_features)\n",
    "                X.append(X_period)\n",
    "            X = np.array(X)\n",
    "            X_train = X[:split_index]\n",
    "            X_train = X_train[index_train]\n",
    "            X_test = X[split_index:]\n",
    "        y_train = df_output_train.values[index_train]\n",
    "        y_test = df_output_test.values\n",
    "\n",
    "        # Transform Numpy arrays to Torch tensors\n",
    "        X_train, y_train, X_test, y_test = torch.from_numpy(X_train).float(), torch.from_numpy(y_train).float(), torch.from_numpy(X_test).float(), torch.from_numpy(y_test).float()\n",
    "\n",
    "        if model_name == 'MLP':\n",
    "            model = MLP(nbr_features, num_layers=num_layers, hidden_size=hidden_size, pdrop=dropout)\n",
    "            \n",
    "        elif model_name == 'RNN':\n",
    "            model = RNN(nbr_features, 10)\n",
    "\n",
    "        elif model_name == 'GRU':\n",
    "            model = GRU(nbr_features, 10)\n",
    "\n",
    "        # Train the model\n",
    "        train(model, X_train, y_train, nb_epochs=nb_epochs, X_test=X_test, y_test=y_test, \n",
    "                batch_size=batch_size, eta=eta, weight_decay=weight_decay, verbose=verbose)\n",
    "        # Get predictions\n",
    "        prob = test(model, X_test)\n",
    "        df_prob = pd.DataFrame(index=index_test, data=prob)\n",
    "        df_prob_all = pd.concat([df_prob_all, df_prob], axis=0)\n",
    "\n",
    "    df_prob_all = df_prob_all[~df_prob_all.index.duplicated(keep='first')]\n",
    "    scaler = MinMaxScaler()\n",
    "    scaler.fit(df_prob_all.values.reshape(-1, 1))\n",
    "    signal = scaler.transform(df_prob_all.values.reshape(-1, 1)).reshape(-1)\n",
    "    return pd.DataFrame(index=df_prob_all.index, data=signal)\n",
    "\n",
    "def backtest_dl(model_name, nb_epochs=50):\n",
    "    \n",
    "    bench_price, target_prices, features = get_data()\n",
    "\n",
    "    batch_size = 20\n",
    "    verbose = 0\n",
    "    training_window = 4\n",
    "\n",
    "    eta = 1e-3\n",
    "    weight_decay = 1e-4\n",
    "    dropout = 0.3\n",
    "    \n",
    "    hidden_size = 20\n",
    "    num_layers = 1\n",
    "\n",
    "    input_period = 21\n",
    "\n",
    "    forward_weekly_returns = target_prices.rolling(5).apply(lambda x: np.log(x[-1] / x[0]) / len(x)).shift(-5)\n",
    "    forward_weekly_returns['abs_diff'] = np.abs(forward_weekly_returns.SMALL_MID - forward_weekly_returns.LARGE)\n",
    "\n",
    "\n",
    "    torch.manual_seed(4)\n",
    "\n",
    "    df_prob = backtest_strat(features=features, forward_weekly_returns=forward_weekly_returns,\n",
    "                            model_name=model_name, nb_epochs=nb_epochs,\n",
    "                            batch_size=batch_size, verbose=verbose, \n",
    "                            training_window=training_window, input_period=input_period, dropout=dropout,\n",
    "                            eta=eta, weight_decay=weight_decay, hidden_size=hidden_size, num_layers=num_layers)\n",
    "\n",
    "    portfolio = pd.DataFrame(index=df_prob.index, columns=['SMALL_MID', 'LARGE']).fillna(0)\n",
    "    portfolio['SMALL_MID'] = (df_prob > 0.6).astype(int) - (df_prob < 0.4).astype(int)\n",
    "    portfolio['LARGE'] = - portfolio.SMALL_MID\n",
    "\n",
    "    class_type, class_count = np.unique(portfolio.values, axis=0, return_counts=True)\n",
    "    weights = class_count / sum(class_count)\n",
    "    print(class_type)\n",
    "    print(weights)\n",
    "\n",
    "    benchmark_portfolio = pd.read_excel('data/spiex_spi20_weights.xlsx', index_col=0)\n",
    "    benchmark_portfolio = benchmark_portfolio.rename(columns={'SPIEX':'SMALL_MID', 'SPI20': 'LARGE'})\n",
    "    benchmark_portfolio = benchmark_portfolio[['SMALL_MID', 'LARGE']]\n",
    "    benchmark_portfolio = benchmark_portfolio.reindex(portfolio.index, method='bfill')\n",
    "\n",
    "    portfolio = portfolio * 0.15 + benchmark_portfolio\n",
    "    \n",
    "    return portfolio"
   ]
  },
  {
   "cell_type": "code",
   "execution_count": 13,
   "metadata": {},
   "outputs": [],
   "source": [
    "def pred_to_perf(portfolio, daily_returns):\n",
    "    first_date = portfolio.index[0]\n",
    "    last_date = portfolio.index[-1]\n",
    "    daily_ret = daily_returns.loc[first_date:last_date]\n",
    "    df_pred_daily = portfolio.reindex(daily_ret.index, method='ffill').shift(1)\n",
    "    df_daily_perf = (df_pred_daily * daily_ret).sum(axis=1)\n",
    "    cumul_perf = (1 + df_daily_perf).cumprod()\n",
    "    return cumul_perf"
   ]
  },
  {
   "cell_type": "code",
   "execution_count": 14,
   "metadata": {},
   "outputs": [],
   "source": [
    "def portfolio_to_alpha(portfolio):\n",
    "    perf_pred = pred_to_perf(portfolio, daily_returns)\n",
    "    annual_returns_bench = perf_bench.resample('6MS').apply(lambda x: (x[-1] - x[0]) / x[0])\n",
    "    annual_returns_pred = perf_pred.resample('6MS').apply(lambda x: (x[-1] - x[0]) / x[0])\n",
    "    annual_diff = (annual_returns_pred - annual_returns_bench) * 100\n",
    "    df_annual_diff = pd.DataFrame(columns=['year', 'alpha'])\n",
    "    df_annual_diff['year'] = annual_diff.index.strftime('%b %y')\n",
    "    df_annual_diff['year'] = df_annual_diff['year'].shift(-1)\n",
    "    df_annual_diff['alpha'] = annual_diff.values\n",
    "    df_annual_diff['sign'] = np.sign(df_annual_diff.alpha)\n",
    "    return df_annual_diff.dropna()"
   ]
  },
  {
   "cell_type": "code",
   "execution_count": 91,
   "metadata": {},
   "outputs": [
    {
     "name": "stderr",
     "output_type": "stream",
     "text": [
      "100%|██████████| 13/13 [00:00<00:00, 14.08it/s]"
     ]
    },
    {
     "name": "stdout",
     "output_type": "stream",
     "text": [
      "[[-1  1]\n",
      " [ 0  0]\n",
      " [ 1 -1]]\n",
      "[0.247 0.34  0.413]\n"
     ]
    },
    {
     "name": "stderr",
     "output_type": "stream",
     "text": [
      "\n"
     ]
    }
   ],
   "source": [
    "portfolio_logreg = backtest_sklearn('logreg')"
   ]
  },
  {
   "cell_type": "code",
   "execution_count": 92,
   "metadata": {},
   "outputs": [],
   "source": [
    "bench_price, target_prices, features = get_data()\n",
    "daily_returns = target_prices.pct_change()\n",
    "perf_bench = (bench_price.reindex(portfolio_logreg.index).pct_change().fillna(0) + 1).cumprod()"
   ]
  },
  {
   "cell_type": "code",
   "execution_count": 93,
   "metadata": {},
   "outputs": [
    {
     "data": {
      "text/html": [
       "<div>\n",
       "<style scoped>\n",
       "    .dataframe tbody tr th:only-of-type {\n",
       "        vertical-align: middle;\n",
       "    }\n",
       "\n",
       "    .dataframe tbody tr th {\n",
       "        vertical-align: top;\n",
       "    }\n",
       "\n",
       "    .dataframe thead th {\n",
       "        text-align: right;\n",
       "    }\n",
       "</style>\n",
       "<table border=\"1\" class=\"dataframe\">\n",
       "  <thead>\n",
       "    <tr style=\"text-align: right;\">\n",
       "      <th></th>\n",
       "      <th>Avg. annual return (%)</th>\n",
       "      <th>Avg. annual vol. (%)</th>\n",
       "      <th>Sharpe ratio</th>\n",
       "      <th>Max. Drawdown (%)</th>\n",
       "      <th>Turnover</th>\n",
       "    </tr>\n",
       "  </thead>\n",
       "  <tbody>\n",
       "    <tr>\n",
       "      <th>Benchmark SPI</th>\n",
       "      <td>9.36</td>\n",
       "      <td>15.26</td>\n",
       "      <td>0.61</td>\n",
       "      <td>26.33</td>\n",
       "      <td>0</td>\n",
       "    </tr>\n",
       "    <tr>\n",
       "      <th>model</th>\n",
       "      <td>9.56</td>\n",
       "      <td>15.36</td>\n",
       "      <td>0.62</td>\n",
       "      <td>25.76</td>\n",
       "      <td>350</td>\n",
       "    </tr>\n",
       "  </tbody>\n",
       "</table>\n",
       "</div>"
      ],
      "text/plain": [
       "               Avg. annual return (%)  Avg. annual vol. (%)  Sharpe ratio  Max. Drawdown (%)  Turnover\n",
       "Benchmark SPI                    9.36                 15.26          0.61              26.33         0\n",
       "model                            9.56                 15.36          0.62              25.76       350"
      ]
     },
     "execution_count": 93,
     "metadata": {},
     "output_type": "execute_result"
    }
   ],
   "source": [
    "resume_backtest(portfolio_logreg, bench_price, target_prices)"
   ]
  },
  {
   "cell_type": "code",
   "execution_count": 94,
   "metadata": {},
   "outputs": [
    {
     "name": "stderr",
     "output_type": "stream",
     "text": [
      "100%|██████████| 13/13 [00:14<00:00,  1.15s/it]"
     ]
    },
    {
     "name": "stdout",
     "output_type": "stream",
     "text": [
      "[[-1  1]\n",
      " [ 0  0]\n",
      " [ 1 -1]]\n",
      "[0.126 0.358 0.516]\n"
     ]
    },
    {
     "name": "stderr",
     "output_type": "stream",
     "text": [
      "\n"
     ]
    }
   ],
   "source": [
    "portfolio_RF = backtest_sklearn('RF')"
   ]
  },
  {
   "cell_type": "code",
   "execution_count": 95,
   "metadata": {},
   "outputs": [
    {
     "data": {
      "text/html": [
       "<div>\n",
       "<style scoped>\n",
       "    .dataframe tbody tr th:only-of-type {\n",
       "        vertical-align: middle;\n",
       "    }\n",
       "\n",
       "    .dataframe tbody tr th {\n",
       "        vertical-align: top;\n",
       "    }\n",
       "\n",
       "    .dataframe thead th {\n",
       "        text-align: right;\n",
       "    }\n",
       "</style>\n",
       "<table border=\"1\" class=\"dataframe\">\n",
       "  <thead>\n",
       "    <tr style=\"text-align: right;\">\n",
       "      <th></th>\n",
       "      <th>Avg. annual return (%)</th>\n",
       "      <th>Avg. annual vol. (%)</th>\n",
       "      <th>Sharpe ratio</th>\n",
       "      <th>Max. Drawdown (%)</th>\n",
       "      <th>Turnover</th>\n",
       "    </tr>\n",
       "  </thead>\n",
       "  <tbody>\n",
       "    <tr>\n",
       "      <th>Benchmark SPI</th>\n",
       "      <td>9.36</td>\n",
       "      <td>15.26</td>\n",
       "      <td>0.61</td>\n",
       "      <td>26.33</td>\n",
       "      <td>0</td>\n",
       "    </tr>\n",
       "    <tr>\n",
       "      <th>model</th>\n",
       "      <td>9.67</td>\n",
       "      <td>15.20</td>\n",
       "      <td>0.64</td>\n",
       "      <td>27.35</td>\n",
       "      <td>406</td>\n",
       "    </tr>\n",
       "  </tbody>\n",
       "</table>\n",
       "</div>"
      ],
      "text/plain": [
       "               Avg. annual return (%)  Avg. annual vol. (%)  Sharpe ratio  Max. Drawdown (%)  Turnover\n",
       "Benchmark SPI                    9.36                 15.26          0.61              26.33         0\n",
       "model                            9.67                 15.20          0.64              27.35       406"
      ]
     },
     "execution_count": 95,
     "metadata": {},
     "output_type": "execute_result"
    }
   ],
   "source": [
    "resume_backtest(portfolio_RF, bench_price, target_prices)"
   ]
  },
  {
   "cell_type": "code",
   "execution_count": 96,
   "metadata": {},
   "outputs": [
    {
     "name": "stdout",
     "output_type": "stream",
     "text": [
      "Backtesting model MLP\n"
     ]
    },
    {
     "name": "stderr",
     "output_type": "stream",
     "text": [
      "100%|██████████| 13/13 [00:12<00:00,  1.02it/s]"
     ]
    },
    {
     "name": "stdout",
     "output_type": "stream",
     "text": [
      "[[-1  1]\n",
      " [ 0  0]\n",
      " [ 1 -1]]\n",
      "[0.166 0.331 0.503]\n"
     ]
    },
    {
     "name": "stderr",
     "output_type": "stream",
     "text": [
      "\n"
     ]
    }
   ],
   "source": [
    "portfolio_mlp = backtest_dl('MLP')"
   ]
  },
  {
   "cell_type": "code",
   "execution_count": 97,
   "metadata": {},
   "outputs": [
    {
     "data": {
      "text/html": [
       "<div>\n",
       "<style scoped>\n",
       "    .dataframe tbody tr th:only-of-type {\n",
       "        vertical-align: middle;\n",
       "    }\n",
       "\n",
       "    .dataframe tbody tr th {\n",
       "        vertical-align: top;\n",
       "    }\n",
       "\n",
       "    .dataframe thead th {\n",
       "        text-align: right;\n",
       "    }\n",
       "</style>\n",
       "<table border=\"1\" class=\"dataframe\">\n",
       "  <thead>\n",
       "    <tr style=\"text-align: right;\">\n",
       "      <th></th>\n",
       "      <th>Avg. annual return (%)</th>\n",
       "      <th>Avg. annual vol. (%)</th>\n",
       "      <th>Sharpe ratio</th>\n",
       "      <th>Max. Drawdown (%)</th>\n",
       "      <th>Turnover</th>\n",
       "    </tr>\n",
       "  </thead>\n",
       "  <tbody>\n",
       "    <tr>\n",
       "      <th>Benchmark SPI</th>\n",
       "      <td>9.36</td>\n",
       "      <td>15.26</td>\n",
       "      <td>0.61</td>\n",
       "      <td>26.33</td>\n",
       "      <td>0</td>\n",
       "    </tr>\n",
       "    <tr>\n",
       "      <th>model</th>\n",
       "      <td>9.75</td>\n",
       "      <td>15.31</td>\n",
       "      <td>0.64</td>\n",
       "      <td>26.94</td>\n",
       "      <td>396</td>\n",
       "    </tr>\n",
       "  </tbody>\n",
       "</table>\n",
       "</div>"
      ],
      "text/plain": [
       "               Avg. annual return (%)  Avg. annual vol. (%)  Sharpe ratio  Max. Drawdown (%)  Turnover\n",
       "Benchmark SPI                    9.36                 15.26          0.61              26.33         0\n",
       "model                            9.75                 15.31          0.64              26.94       396"
      ]
     },
     "execution_count": 97,
     "metadata": {},
     "output_type": "execute_result"
    }
   ],
   "source": [
    "resume_backtest(portfolio_mlp, bench_price, target_prices)"
   ]
  },
  {
   "cell_type": "code",
   "execution_count": 129,
   "metadata": {},
   "outputs": [
    {
     "data": {
      "image/png": "[encoded data removed]",
      "text/plain": [
       "<Figure size 576x432 with 3 Axes>"
      ]
     },
     "metadata": {
      "needs_background": "light"
     },
     "output_type": "display_data"
    }
   ],
   "source": [
    "fig, axs = plt.subplots(3, 1, figsize=(8, 6), sharex=True, sharey=True)\n",
    "\n",
    "# LogReg\n",
    "df_annual_diff = portfolio_to_alpha(portfolio_logreg)\n",
    "\n",
    "sns.barplot(ax=axs[0], data=df_annual_diff, x='year', y='alpha', hue='sign', dodge=False)\n",
    "axs[0].get_legend().remove()\n",
    "axs[0].set_ylabel('Alpha (%)')\n",
    "axs[0].set_xlabel(None)\n",
    "axs[0].set_title('Logistic Regression', fontsize=10)\n",
    "axs[0].tick_params(axis='x', length=0)\n",
    "\n",
    "# RF\n",
    "df_annual_diff = portfolio_to_alpha(portfolio_RF)\n",
    "\n",
    "sns.barplot(ax=axs[1], data=df_annual_diff, x='year', y='alpha', hue='sign', dodge=False)\n",
    "axs[1].get_legend().remove()\n",
    "axs[1].set_ylabel('Alpha (%)')\n",
    "axs[1].set_xlabel(None)\n",
    "axs[1].tick_params(axis='x', length=0)\n",
    "axs[1].set_title('Random Forest', fontsize=10)\n",
    "\n",
    "# MLP\n",
    "df_annual_diff = portfolio_to_alpha(portfolio_mlp)\n",
    "sns.barplot(ax=axs[2], data=df_annual_diff, x='year', y='alpha', hue='sign', dodge=False)\n",
    "axs[2].get_legend().remove()\n",
    "axs[2].set_ylabel('Alpha (%)')\n",
    "axs[2].set_xlabel(None)\n",
    "axs[2].tick_params(axis='x', labelsize=8)\n",
    "axs[2].set_title('MLP', fontsize=10)\n",
    "\n",
    "plt.subplots_adjust(hspace=0.2)\n",
    "plt.savefig('plots/latex/excess_returns.png', dpi=500, bbox_inches='tight', facecolor='white')\n",
    "plt.show()"
   ]
  },
  {
   "cell_type": "code",
   "execution_count": 107,
   "metadata": {},
   "outputs": [
    {
     "data": {
      "image/png": "[encoded data removed]",
      "text/plain": [
       "<Figure size 864x504 with 1 Axes>"
      ]
     },
     "metadata": {
      "needs_background": "light"
     },
     "output_type": "display_data"
    }
   ],
   "source": [
    "perf_bench = (bench_price.reindex(portfolio_mlp.index).pct_change().fillna(0) + 1).cumprod()\n",
    "\n",
    "fig, ax = plt.subplots(figsize=(12, 7))\n",
    "\n",
    "ax.plot(perf_bench.rolling(5).mean(), label='Benchmark')\n",
    "ax.plot(pred_to_perf(portfolio_logreg, daily_returns).rolling(5).mean(), label='Logistic Regression')\n",
    "ax.plot(pred_to_perf(portfolio_RF, daily_returns).rolling(5).mean(), label='Random Forest')\n",
    "ax.plot(pred_to_perf(portfolio_mlp, daily_returns).rolling(5).mean(), label='MLP')\n",
    "ax.set_xlim(perf_bench.index[0], perf_bench.index[-2])\n",
    "plt.legend()\n",
    "plt.savefig('plots/latex/performance.png', dpi=300, bbox_inches='tight', facecolor='white')\n",
    "plt.show()"
   ]
  },
  {
   "cell_type": "code",
   "execution_count": 82,
   "metadata": {},
   "outputs": [],
   "source": [
    "nb_epochs = 50"
   ]
  },
  {
   "cell_type": "code",
   "execution_count": 83,
   "metadata": {},
   "outputs": [
    {
     "name": "stdout",
     "output_type": "stream",
     "text": [
      "Backtesting model RNN\n"
     ]
    },
    {
     "name": "stderr",
     "output_type": "stream",
     "text": [
      "100%|██████████| 13/13 [00:46<00:00,  3.60s/it]"
     ]
    },
    {
     "name": "stdout",
     "output_type": "stream",
     "text": [
      "[[-1  1]\n",
      " [ 0  0]\n",
      " [ 1 -1]]\n",
      "[0.341 0.205 0.454]\n"
     ]
    },
    {
     "name": "stderr",
     "output_type": "stream",
     "text": [
      "\n"
     ]
    },
    {
     "data": {
      "text/html": [
       "<div>\n",
       "<style scoped>\n",
       "    .dataframe tbody tr th:only-of-type {\n",
       "        vertical-align: middle;\n",
       "    }\n",
       "\n",
       "    .dataframe tbody tr th {\n",
       "        vertical-align: top;\n",
       "    }\n",
       "\n",
       "    .dataframe thead th {\n",
       "        text-align: right;\n",
       "    }\n",
       "</style>\n",
       "<table border=\"1\" class=\"dataframe\">\n",
       "  <thead>\n",
       "    <tr style=\"text-align: right;\">\n",
       "      <th></th>\n",
       "      <th>Avg. annual return (%)</th>\n",
       "      <th>Avg. annual vol. (%)</th>\n",
       "      <th>Sharpe ratio</th>\n",
       "      <th>Max. Drawdown (%)</th>\n",
       "      <th>Turnover</th>\n",
       "    </tr>\n",
       "  </thead>\n",
       "  <tbody>\n",
       "    <tr>\n",
       "      <th>Benchmark SPI</th>\n",
       "      <td>9.36</td>\n",
       "      <td>15.26</td>\n",
       "      <td>0.61</td>\n",
       "      <td>26.33</td>\n",
       "      <td>0</td>\n",
       "    </tr>\n",
       "    <tr>\n",
       "      <th>model</th>\n",
       "      <td>9.76</td>\n",
       "      <td>15.38</td>\n",
       "      <td>0.63</td>\n",
       "      <td>26.31</td>\n",
       "      <td>420</td>\n",
       "    </tr>\n",
       "  </tbody>\n",
       "</table>\n",
       "</div>"
      ],
      "text/plain": [
       "               Avg. annual return (%)  Avg. annual vol. (%)  Sharpe ratio  Max. Drawdown (%)  Turnover\n",
       "Benchmark SPI                    9.36                 15.26          0.61              26.33         0\n",
       "model                            9.76                 15.38          0.63              26.31       420"
      ]
     },
     "execution_count": 83,
     "metadata": {},
     "output_type": "execute_result"
    }
   ],
   "source": [
    "portfolio_rnn = backtest_dl('RNN', nb_epochs)\n",
    "resume_backtest(portfolio_rnn, bench_price, target_prices)"
   ]
  },
  {
   "cell_type": "code",
   "execution_count": 84,
   "metadata": {},
   "outputs": [
    {
     "name": "stdout",
     "output_type": "stream",
     "text": [
      "Backtesting model GRU\n"
     ]
    },
    {
     "name": "stderr",
     "output_type": "stream",
     "text": [
      "100%|██████████| 13/13 [01:30<00:00,  6.97s/it]"
     ]
    },
    {
     "name": "stdout",
     "output_type": "stream",
     "text": [
      "[[-1  1]\n",
      " [ 0  0]\n",
      " [ 1 -1]]\n",
      "[0.426 0.138 0.436]\n"
     ]
    },
    {
     "name": "stderr",
     "output_type": "stream",
     "text": [
      "\n"
     ]
    },
    {
     "data": {
      "text/html": [
       "<div>\n",
       "<style scoped>\n",
       "    .dataframe tbody tr th:only-of-type {\n",
       "        vertical-align: middle;\n",
       "    }\n",
       "\n",
       "    .dataframe tbody tr th {\n",
       "        vertical-align: top;\n",
       "    }\n",
       "\n",
       "    .dataframe thead th {\n",
       "        text-align: right;\n",
       "    }\n",
       "</style>\n",
       "<table border=\"1\" class=\"dataframe\">\n",
       "  <thead>\n",
       "    <tr style=\"text-align: right;\">\n",
       "      <th></th>\n",
       "      <th>Avg. annual return (%)</th>\n",
       "      <th>Avg. annual vol. (%)</th>\n",
       "      <th>Sharpe ratio</th>\n",
       "      <th>Max. Drawdown (%)</th>\n",
       "      <th>Turnover</th>\n",
       "    </tr>\n",
       "  </thead>\n",
       "  <tbody>\n",
       "    <tr>\n",
       "      <th>Benchmark SPI</th>\n",
       "      <td>9.36</td>\n",
       "      <td>15.26</td>\n",
       "      <td>0.61</td>\n",
       "      <td>26.33</td>\n",
       "      <td>0</td>\n",
       "    </tr>\n",
       "    <tr>\n",
       "      <th>model</th>\n",
       "      <td>10.03</td>\n",
       "      <td>15.52</td>\n",
       "      <td>0.65</td>\n",
       "      <td>25.37</td>\n",
       "      <td>347</td>\n",
       "    </tr>\n",
       "  </tbody>\n",
       "</table>\n",
       "</div>"
      ],
      "text/plain": [
       "               Avg. annual return (%)  Avg. annual vol. (%)  Sharpe ratio  Max. Drawdown (%)  Turnover\n",
       "Benchmark SPI                    9.36                 15.26          0.61              26.33         0\n",
       "model                           10.03                 15.52          0.65              25.37       347"
      ]
     },
     "execution_count": 84,
     "metadata": {},
     "output_type": "execute_result"
    }
   ],
   "source": [
    "portfolio_gru = backtest_dl('GRU', nb_epochs)\n",
    "resume_backtest(portfolio_gru, bench_price, target_prices)"
   ]
  },
  {
   "cell_type": "code",
   "execution_count": 114,
   "metadata": {},
   "outputs": [
    {
     "data": {
      "image/png": "[encoded data removed]",
      "text/plain": [
       "<Figure size 720x504 with 2 Axes>"
      ]
     },
     "metadata": {
      "needs_background": "light"
     },
     "output_type": "display_data"
    }
   ],
   "source": [
    "fig, axs = plt.subplots(2, 1, figsize=(10, 7), sharex=True, sharey=True)\n",
    "\n",
    "# RNN\n",
    "df_annual_diff = portfolio_to_alpha(portfolio_rnn)\n",
    "\n",
    "sns.barplot(ax=axs[0], data=df_annual_diff, x='year', y='alpha', hue='sign', dodge=False)\n",
    "axs[0].get_legend().remove()\n",
    "axs[0].set_ylabel('Alpha (%)')\n",
    "axs[0].set_xlabel(None)\n",
    "axs[0].set_title('RNN')\n",
    "axs[0].tick_params(axis='x', length=0)\n",
    "\n",
    "# GRU\n",
    "df_annual_diff = portfolio_to_alpha(portfolio_gru)\n",
    "\n",
    "sns.barplot(ax=axs[1], data=df_annual_diff, x='year', y='alpha', hue='sign', dodge=False)\n",
    "axs[1].get_legend().remove()\n",
    "axs[1].set_ylabel('Alpha (%)')\n",
    "axs[1].set_xlabel(None)\n",
    "axs[1].set_title('GRU')\n",
    "\n",
    "plt.subplots_adjust(hspace=0.1)\n",
    "plt.savefig('plots/latex/excess_returns_rnn.png', dpi=300, bbox_inches='tight', facecolor='white')\n",
    "plt.show()"
   ]
  },
  {
   "cell_type": "code",
   "execution_count": 109,
   "metadata": {},
   "outputs": [
    {
     "data": {
      "image/png": "[encoded data removed]",
      "text/plain": [
       "<Figure size 864x360 with 1 Axes>"
      ]
     },
     "metadata": {
      "needs_background": "light"
     },
     "output_type": "display_data"
    }
   ],
   "source": [
    "perf_bench = (bench_price.reindex(portfolio_mlp.index).pct_change().fillna(0) + 1).cumprod()\n",
    "\n",
    "fig, ax = plt.subplots(figsize=(12, 5))\n",
    "\n",
    "ax.plot(perf_bench.rolling(5).mean(), label='Benchmark')\n",
    "ax.plot(pred_to_perf(portfolio_rnn, daily_returns).rolling(5).mean(), label='RNN')\n",
    "ax.plot(pred_to_perf(portfolio_gru, daily_returns).rolling(5).mean(), label='GRU')\n",
    "ax.set_xlim(perf_bench.index[0], perf_bench.index[-2])\n",
    "plt.legend()\n",
    "plt.savefig('plots/latex/performance_rnn.png', dpi=300, bbox_inches='tight', facecolor='white')\n",
    "plt.show()"
   ]
  },
  {
   "cell_type": "code",
   "execution_count": null,
   "metadata": {},
   "outputs": [],
   "source": []
  }
 ],
 "metadata": {
  "kernelspec": {
   "display_name": "Python 3",
   "language": "python",
   "name": "python3"
  },
  "language_info": {
   "codemirror_mode": {
    "name": "ipython",
    "version": 3
   },
   "file_extension": ".py",
   "mimetype": "text/x-python",
   "name": "python",
   "nbconvert_exporter": "python",
   "pygments_lexer": "ipython3",
   "version": "3.8.5"
  }
 },
 "nbformat": 4,
 "nbformat_minor": 4
}
