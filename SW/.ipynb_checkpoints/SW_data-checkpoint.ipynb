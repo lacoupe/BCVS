{
 "cells": [
  {
   "cell_type": "code",
   "execution_count": 188,
   "metadata": {},
   "outputs": [],
   "source": [
    "import pandas as pd\n",
    "import numpy as np\n",
    "pd.set_option('display.max_columns', 100)\n",
    "pd.set_option('display.max_rows', 200)\n",
    "from tqdm import tqdm"
   ]
  },
  {
   "cell_type": "code",
   "execution_count": 191,
   "metadata": {},
   "outputs": [],
   "source": [
    "def ratio_to_weight(df_ratio, n=2, weight=0.05):\n",
    "    \n",
    "    df = df_ratio.copy()\n",
    "    for index, row in tqdm(df.iterrows()):\n",
    "        # ticker not to take into account when weight in indice is NaN\n",
    "        for ticker, value in row.items():   \n",
    "            if pd.isna(indice_weight.at[index, ticker]):\n",
    "                row.at[ticker] = np.nan\n",
    "\n",
    "        all_tickers = list(row.index)\n",
    "        largest_tickers = list(row.nlargest(n).index)\n",
    "        smallest_tickers = list(row.nsmallest(n).index)\n",
    "        other_tickers = list(set(all_tickers).difference(largest_tickers + smallest_tickers))\n",
    "        df.at[index, largest_tickers] = weight\n",
    "        df.at[index, smallest_tickers] = - weight\n",
    "        df.at[index, other_tickers] = 0\n",
    "        \n",
    "    return df"
   ]
  },
  {
   "cell_type": "code",
   "execution_count": 192,
   "metadata": {
    "scrolled": true
   },
   "outputs": [],
   "source": [
    "def strategie_stats(perf_weighted):\n",
    "    indice_price = 100 * (1 + perf_weighted.sum(axis=1).cumsum())\n",
    "    total_return = (indice_price.iloc[-1]-indice_price.iloc[0]) / indice_price.iloc[0]\n",
    "    print('total return from 2006 :', 100 * round(total_return, 2), '%')\n",
    "    indice_price.plot()"
   ]
  },
  {
   "cell_type": "code",
   "execution_count": 202,
   "metadata": {},
   "outputs": [],
   "source": [
    "def plot_comparison(perf_weighted1, perf_weighted2):\n",
    "    indice_price1 = 100 * (1 + perf_weighted1.sum(axis=1).cumsum())\n",
    "    indice_price2 = 100 * (1 + perf_weighted2.sum(axis=1).cumsum())\n",
    "    indice_price = pd.concat([indice_price1, indice_price2], axis=1)\n",
    "    indice_price.plot()"
   ]
  },
  {
   "cell_type": "code",
   "execution_count": 130,
   "metadata": {},
   "outputs": [
    {
     "data": {
      "text/html": [
       "<div>\n",
       "<style scoped>\n",
       "    .dataframe tbody tr th:only-of-type {\n",
       "        vertical-align: middle;\n",
       "    }\n",
       "\n",
       "    .dataframe tbody tr th {\n",
       "        vertical-align: top;\n",
       "    }\n",
       "\n",
       "    .dataframe thead th {\n",
       "        text-align: right;\n",
       "    }\n",
       "</style>\n",
       "<table border=\"1\" class=\"dataframe\">\n",
       "  <thead>\n",
       "    <tr style=\"text-align: right;\">\n",
       "      <th>Dates</th>\n",
       "      <th>BALN SW Equity</th>\n",
       "      <th>GENN SW Equity</th>\n",
       "      <th>HELN SW Equity</th>\n",
       "      <th>NATN SW Equity</th>\n",
       "      <th>CHRN SW Equity</th>\n",
       "      <th>SLHN SW Equity</th>\n",
       "      <th>RUKN VX Equity</th>\n",
       "      <th>VAHN SW Equity</th>\n",
       "      <th>ZURN SW Equity</th>\n",
       "      <th>SREN SW Equity</th>\n",
       "    </tr>\n",
       "  </thead>\n",
       "  <tbody>\n",
       "    <tr>\n",
       "      <th>2005-12-30</th>\n",
       "      <td>0.0492</td>\n",
       "      <td>0.0022</td>\n",
       "      <td>0.0144</td>\n",
       "      <td>0.0053</td>\n",
       "      <td>0.0232</td>\n",
       "      <td>0.0784</td>\n",
       "      <td>0.3588</td>\n",
       "      <td>0.0015</td>\n",
       "      <td>0.4670</td>\n",
       "      <td>NaN</td>\n",
       "    </tr>\n",
       "    <tr>\n",
       "      <th>2006-01-31</th>\n",
       "      <td>0.0520</td>\n",
       "      <td>0.0024</td>\n",
       "      <td>0.0151</td>\n",
       "      <td>0.0055</td>\n",
       "      <td>0.0225</td>\n",
       "      <td>0.0771</td>\n",
       "      <td>0.3555</td>\n",
       "      <td>0.0015</td>\n",
       "      <td>0.4683</td>\n",
       "      <td>NaN</td>\n",
       "    </tr>\n",
       "    <tr>\n",
       "      <th>2006-02-28</th>\n",
       "      <td>0.0502</td>\n",
       "      <td>0.0023</td>\n",
       "      <td>0.0144</td>\n",
       "      <td>0.0053</td>\n",
       "      <td>0.0218</td>\n",
       "      <td>0.0897</td>\n",
       "      <td>0.3282</td>\n",
       "      <td>0.0014</td>\n",
       "      <td>0.4868</td>\n",
       "      <td>NaN</td>\n",
       "    </tr>\n",
       "    <tr>\n",
       "      <th>2006-03-31</th>\n",
       "      <td>0.0557</td>\n",
       "      <td>0.0027</td>\n",
       "      <td>0.0143</td>\n",
       "      <td>0.0058</td>\n",
       "      <td>0.0243</td>\n",
       "      <td>0.0999</td>\n",
       "      <td>0.3179</td>\n",
       "      <td>0.0015</td>\n",
       "      <td>0.4778</td>\n",
       "      <td>NaN</td>\n",
       "    </tr>\n",
       "    <tr>\n",
       "      <th>2006-04-28</th>\n",
       "      <td>0.0569</td>\n",
       "      <td>0.0027</td>\n",
       "      <td>0.0163</td>\n",
       "      <td>0.0057</td>\n",
       "      <td>0.0237</td>\n",
       "      <td>0.1048</td>\n",
       "      <td>0.3165</td>\n",
       "      <td>0.0016</td>\n",
       "      <td>0.4718</td>\n",
       "      <td>NaN</td>\n",
       "    </tr>\n",
       "  </tbody>\n",
       "</table>\n",
       "</div>"
      ],
      "text/plain": [
       "Dates       BALN SW Equity  GENN SW Equity  HELN SW Equity  NATN SW Equity  \\\n",
       "2005-12-30          0.0492          0.0022          0.0144          0.0053   \n",
       "2006-01-31          0.0520          0.0024          0.0151          0.0055   \n",
       "2006-02-28          0.0502          0.0023          0.0144          0.0053   \n",
       "2006-03-31          0.0557          0.0027          0.0143          0.0058   \n",
       "2006-04-28          0.0569          0.0027          0.0163          0.0057   \n",
       "\n",
       "Dates       CHRN SW Equity  SLHN SW Equity  RUKN VX Equity  VAHN SW Equity  \\\n",
       "2005-12-30          0.0232          0.0784          0.3588          0.0015   \n",
       "2006-01-31          0.0225          0.0771          0.3555          0.0015   \n",
       "2006-02-28          0.0218          0.0897          0.3282          0.0014   \n",
       "2006-03-31          0.0243          0.0999          0.3179          0.0015   \n",
       "2006-04-28          0.0237          0.1048          0.3165          0.0016   \n",
       "\n",
       "Dates       ZURN SW Equity  SREN SW Equity  \n",
       "2005-12-30          0.4670             NaN  \n",
       "2006-01-31          0.4683             NaN  \n",
       "2006-02-28          0.4868             NaN  \n",
       "2006-03-31          0.4778             NaN  \n",
       "2006-04-28          0.4718             NaN  "
      ]
     },
     "execution_count": 130,
     "metadata": {},
     "output_type": "execute_result"
    }
   ],
   "source": [
    "indice_weight = pd.read_excel('SW_data/Insurances.xlsx', sheet_name='raw_weight', skiprows=[1])\n",
    "indice_weight.drop(columns='Unnamed: 1', inplace=True)\n",
    "indice_weight_unpivot = indice_weight.melt(id_vars=['TICKER'], var_name='date', value_name='weight')\n",
    "indice_weight = indice_weight.set_index('TICKER')\n",
    "indice_weight.index.name = 'Dates'\n",
    "indice_weight = indice_weight.T\n",
    "indice_weight.index = pd.to_datetime(indice_weight.index, format='%m/%d/%Y')\n",
    "indice_weight = indice_weight / 100\n",
    "indice_weight.head()"
   ]
  },
  {
   "cell_type": "code",
   "execution_count": 131,
   "metadata": {},
   "outputs": [
    {
     "data": {
      "text/html": [
       "<div>\n",
       "<style scoped>\n",
       "    .dataframe tbody tr th:only-of-type {\n",
       "        vertical-align: middle;\n",
       "    }\n",
       "\n",
       "    .dataframe tbody tr th {\n",
       "        vertical-align: top;\n",
       "    }\n",
       "\n",
       "    .dataframe thead th {\n",
       "        text-align: right;\n",
       "    }\n",
       "</style>\n",
       "<table border=\"1\" class=\"dataframe\">\n",
       "  <thead>\n",
       "    <tr style=\"text-align: right;\">\n",
       "      <th></th>\n",
       "      <th>BALN SW Equity</th>\n",
       "      <th>GENN SW Equity</th>\n",
       "      <th>HELN SW Equity</th>\n",
       "      <th>NATN SW Equity</th>\n",
       "      <th>CHRN SW Equity</th>\n",
       "      <th>SLHN SW Equity</th>\n",
       "      <th>RUKN VX Equity</th>\n",
       "      <th>VAHN SW Equity</th>\n",
       "      <th>ZURN SW Equity</th>\n",
       "      <th>SREN SW Equity</th>\n",
       "    </tr>\n",
       "  </thead>\n",
       "  <tbody>\n",
       "    <tr>\n",
       "      <th>2006-01-02</th>\n",
       "      <td>-0.003247</td>\n",
       "      <td>0.001475</td>\n",
       "      <td>0.011829</td>\n",
       "      <td>0.000000</td>\n",
       "      <td>0.006944</td>\n",
       "      <td>-0.009170</td>\n",
       "      <td>-0.008247</td>\n",
       "      <td>-0.014085</td>\n",
       "      <td>-0.007972</td>\n",
       "      <td>-0.008247</td>\n",
       "    </tr>\n",
       "    <tr>\n",
       "      <th>2006-01-03</th>\n",
       "      <td>0.001954</td>\n",
       "      <td>0.019146</td>\n",
       "      <td>0.030576</td>\n",
       "      <td>0.013846</td>\n",
       "      <td>0.020690</td>\n",
       "      <td>0.018931</td>\n",
       "      <td>0.008836</td>\n",
       "      <td>-0.026429</td>\n",
       "      <td>0.021429</td>\n",
       "      <td>0.008836</td>\n",
       "    </tr>\n",
       "    <tr>\n",
       "      <th>2006-01-04</th>\n",
       "      <td>0.012354</td>\n",
       "      <td>-0.008671</td>\n",
       "      <td>-0.022688</td>\n",
       "      <td>-0.013657</td>\n",
       "      <td>0.027027</td>\n",
       "      <td>0.000826</td>\n",
       "      <td>0.011850</td>\n",
       "      <td>0.027146</td>\n",
       "      <td>0.027972</td>\n",
       "      <td>0.011850</td>\n",
       "    </tr>\n",
       "    <tr>\n",
       "      <th>2006-01-05</th>\n",
       "      <td>-0.010918</td>\n",
       "      <td>0.026239</td>\n",
       "      <td>0.003571</td>\n",
       "      <td>0.000000</td>\n",
       "      <td>-0.016447</td>\n",
       "      <td>0.000825</td>\n",
       "      <td>-0.011202</td>\n",
       "      <td>0.007143</td>\n",
       "      <td>-0.014456</td>\n",
       "      <td>-0.011202</td>\n",
       "    </tr>\n",
       "    <tr>\n",
       "      <th>2006-01-06</th>\n",
       "      <td>-0.007792</td>\n",
       "      <td>0.005682</td>\n",
       "      <td>-0.001779</td>\n",
       "      <td>0.000000</td>\n",
       "      <td>0.003344</td>\n",
       "      <td>0.001649</td>\n",
       "      <td>0.009784</td>\n",
       "      <td>0.007143</td>\n",
       "      <td>-0.002588</td>\n",
       "      <td>0.009784</td>\n",
       "    </tr>\n",
       "  </tbody>\n",
       "</table>\n",
       "</div>"
      ],
      "text/plain": [
       "            BALN SW Equity  GENN SW Equity  HELN SW Equity  NATN SW Equity  \\\n",
       "2006-01-02       -0.003247        0.001475        0.011829        0.000000   \n",
       "2006-01-03        0.001954        0.019146        0.030576        0.013846   \n",
       "2006-01-04        0.012354       -0.008671       -0.022688       -0.013657   \n",
       "2006-01-05       -0.010918        0.026239        0.003571        0.000000   \n",
       "2006-01-06       -0.007792        0.005682       -0.001779        0.000000   \n",
       "\n",
       "            CHRN SW Equity  SLHN SW Equity  RUKN VX Equity  VAHN SW Equity  \\\n",
       "2006-01-02        0.006944       -0.009170       -0.008247       -0.014085   \n",
       "2006-01-03        0.020690        0.018931        0.008836       -0.026429   \n",
       "2006-01-04        0.027027        0.000826        0.011850        0.027146   \n",
       "2006-01-05       -0.016447        0.000825       -0.011202        0.007143   \n",
       "2006-01-06        0.003344        0.001649        0.009784        0.007143   \n",
       "\n",
       "            ZURN SW Equity  SREN SW Equity  \n",
       "2006-01-02       -0.007972       -0.008247  \n",
       "2006-01-03        0.021429        0.008836  \n",
       "2006-01-04        0.027972        0.011850  \n",
       "2006-01-05       -0.014456       -0.011202  \n",
       "2006-01-06       -0.002588        0.009784  "
      ]
     },
     "execution_count": 131,
     "metadata": {},
     "output_type": "execute_result"
    }
   ],
   "source": [
    "tickers_perf = pd.read_excel('SW_data/Insurances.xlsx', sheet_name='performance', skiprows=[0,1,2,4,5,6], index_col=0)\n",
    "tickers_perf = tickers_perf / 100\n",
    "tickers_perf.head()"
   ]
  },
  {
   "cell_type": "code",
   "execution_count": 165,
   "metadata": {},
   "outputs": [],
   "source": [
    "comb_ratio_nl = pd.read_excel('SW_data/Insurances.xlsx', sheet_name='COMB_RATIO_NL_raw', skiprows=[1,2]).set_index('Dates')\n",
    "comb_ratio_nl.fillna(method='ffill', inplace=True)"
   ]
  },
  {
   "cell_type": "code",
   "execution_count": 166,
   "metadata": {},
   "outputs": [],
   "source": [
    "incr_oper_margin = pd.read_excel('SW_data/Insurances.xlsx', sheet_name='INCREMENTAL_OPER_MARGIN_raw', skiprows=[1,2]).set_index('Dates')\n",
    "incr_oper_margin.fillna(method='ffill', inplace=True)"
   ]
  },
  {
   "cell_type": "code",
   "execution_count": 167,
   "metadata": {},
   "outputs": [],
   "source": [
    "cf_to_inc = pd.read_excel('SW_data/Insurances.xlsx', sheet_name='CASH_FLOW_TO_NET_INC_raw', skiprows=[1,2]).set_index('Dates')\n",
    "cf_to_inc.fillna(method='ffill', inplace=True)"
   ]
  },
  {
   "cell_type": "code",
   "execution_count": 168,
   "metadata": {},
   "outputs": [],
   "source": [
    "cf_to_inc = cf_to_inc.reindex(index=indice_weight.index, method='ffill')\n",
    "incr_oper_margin = incr_oper_margin.reindex(index=indice_weight.index, method='ffill')\n",
    "comb_ratio_nl = comb_ratio_nl.reindex(index=indice_weight.index, method='ffill')"
   ]
  },
  {
   "cell_type": "code",
   "execution_count": 193,
   "metadata": {},
   "outputs": [
    {
     "name": "stderr",
     "output_type": "stream",
     "text": [
      "189it [00:00, 503.68it/s]\n",
      "189it [00:00, 599.96it/s]\n",
      "189it [00:00, 578.93it/s]\n"
     ]
    }
   ],
   "source": [
    "for i, df in enumerate([cf_to_inc, incr_oper_margin, comb_ratio_nl]):\n",
    "    ratio_weight_temp = ratio_to_weight(df)\n",
    "    if i == 0:\n",
    "        ratio_weight = ratio_weight_temp\n",
    "    else:\n",
    "        ratio_weight = ratio_weight.add(ratio_weight_temp)"
   ]
  },
  {
   "cell_type": "code",
   "execution_count": 182,
   "metadata": {},
   "outputs": [],
   "source": [
    "new_weight = indice_weight.add(ratio_weight)"
   ]
  },
  {
   "cell_type": "code",
   "execution_count": 183,
   "metadata": {},
   "outputs": [],
   "source": [
    "indice_weight_all = indice_weight.reindex(index=tickers_perf.index, method='ffill')\n",
    "new_weight_all = new_weight.reindex(index=tickers_perf.index, method='ffill')"
   ]
  },
  {
   "cell_type": "code",
   "execution_count": 184,
   "metadata": {},
   "outputs": [],
   "source": [
    "perf_weighted = tickers_perf.mul(indice_weight_all)\n",
    "perf_weighted_new = tickers_perf.mul(new_weight_all)"
   ]
  },
  {
   "cell_type": "code",
   "execution_count": 198,
   "metadata": {
    "scrolled": false
   },
   "outputs": [
    {
     "name": "stdout",
     "output_type": "stream",
     "text": [
      "total return from 2006 : 183.0 %\n"
     ]
    },
    {
     "data": {
      "image/png": "[encoded data removed]",
      "text/plain": [
       "<Figure size 432x288 with 1 Axes>"
      ]
     },
     "metadata": {
      "needs_background": "light"
     },
     "output_type": "display_data"
    }
   ],
   "source": [
    "strategie_stats(perf_weighted)"
   ]
  },
  {
   "cell_type": "code",
   "execution_count": 199,
   "metadata": {
    "scrolled": true
   },
   "outputs": [
    {
     "name": "stdout",
     "output_type": "stream",
     "text": [
      "total return from 2006 : 148.0 %\n"
     ]
    },
    {
     "data": {
      "image/png": "[encoded data removed]",
      "text/plain": [
       "<Figure size 432x288 with 1 Axes>"
      ]
     },
     "metadata": {
      "needs_background": "light"
     },
     "output_type": "display_data"
    }
   ],
   "source": [
    "strategie_stats(perf_weighted_new)"
   ]
  },
  {
   "cell_type": "code",
   "execution_count": 203,
   "metadata": {},
   "outputs": [
    {
     "data": {
      "image/png": "[encoded data removed]",
      "text/plain": [
       "<Figure size 432x288 with 1 Axes>"
      ]
     },
     "metadata": {
      "needs_background": "light"
     },
     "output_type": "display_data"
    }
   ],
   "source": [
    "plot_comparison(perf_weighted, perf_weighted_new)"
   ]
  },
  {
   "cell_type": "code",
   "execution_count": null,
   "metadata": {},
   "outputs": [],
   "source": []
  }
 ],
 "metadata": {
  "kernelspec": {
   "display_name": "Python 3",
   "language": "python",
   "name": "python3"
  },
  "language_info": {
   "codemirror_mode": {
    "name": "ipython",
    "version": 3
   },
   "file_extension": ".py",
   "mimetype": "text/x-python",
   "name": "python",
   "nbconvert_exporter": "python",
   "pygments_lexer": "ipython3",
   "version": "3.8.5"
  }
 },
 "nbformat": 4,
 "nbformat_minor": 4
}
