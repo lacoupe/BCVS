{
 "cells": [
  {
   "cell_type": "code",
   "execution_count": 1,
   "metadata": {},
   "outputs": [],
   "source": [
    "# import needed modules\n",
    "import pandas as pd\n",
    "from IPython.display import display_html\n",
    "import numpy as np\n",
    "import matplotlib.pyplot as plt\n",
    "from tqdm import tqdm\n",
    "import seaborn as sns\n",
    "pd.set_option('display.max_columns', 100)\n",
    "from datetime import datetime\n",
    "import dataframe_image as dfi\n",
    "import string\n",
    "\n",
    "from matplotlib.legend_handler import HandlerBase\n",
    "from matplotlib.text import Text\n",
    "from matplotlib.legend import Legend\n",
    "import itertools"
   ]
  },
  {
   "cell_type": "markdown",
   "metadata": {},
   "source": [
    "### Helper functions"
   ]
  },
  {
   "cell_type": "code",
   "execution_count": 2,
   "metadata": {},
   "outputs": [],
   "source": [
    "def excel_to_csv (excel_file_name, suffixe, cols_droped=[0,1,3]):\n",
    "    \n",
    "    df_excel = pd.read_excel(excel_file_name, parse_dates=False, sheet_name=None, header=3)\n",
    "    nbr_sheet = len(list(df_excel.values()))\n",
    "    delete_list = ['CHF',  'EUR', 'GBP', 'Autre', 'USD', 'Autres',\n",
    "                                  'NON EUR', 'CAD', 'AUD', 'JPY', 'EMCUR',\n",
    "                                  'Courbe CHF - duration', 'Courbe EUR - duration',\n",
    "                                  'Courbe USD - duration', 'Courbe Monde - duration',\n",
    "                                  '% Gouvernementales - courbe CHF', '% Corporate - courbe CHF',\n",
    "                                  '% Gouvernementales - courbe EUR', '% Corporate - courbe EUR',\n",
    "                                  '% Gouvernementales - courbe USD', '% Corporate - courbe USD',\n",
    "                                  '% Gouvernementales - courbe Monde', '% Corporate - courbe Monde',\n",
    "                                  '% Gouvernementales - Courbe CHF', '% Corporate - Courbe CHF',\n",
    "                                  '% Gouvernementales - Courbe EUR', '% Corporate - Courbe EUR',\n",
    "                                  '% Gouvernementales - Courbe USD', '% Corporate - Courbe USD',\n",
    "                                  '% Gouvernementales - Courbe Monde', '% Corporate - Courbe Monde']\n",
    "    for i in range(nbr_sheet):\n",
    "        df = list(df_excel.values())[i]\n",
    "        sheet_name = list(df_excel.keys())[i]\n",
    "        if 'No ISIN' not in df.columns:\n",
    "            continue\n",
    "        df.dropna(how='all', inplace=True)\n",
    "        df = df[df['No ISIN'].notna()]\n",
    "        df = df[-df['No ISIN'].isin(delete_list)]\n",
    "        df.drop(df.columns[cols_droped], axis=1, inplace=True)\n",
    "        list_date = list(df.columns)[1:]\n",
    "        df = df.melt(id_vars='No ISIN', value_vars=list_date, var_name='histo_date', value_name='weight')\n",
    "        df.dropna(subset=['weight'], inplace=True)\n",
    "        df = df[df['weight'] != 0]\n",
    "        df['portfolio'] = suffixe\n",
    "        df['strategie'] = sheet_name\n",
    "        df['weight'] = df['weight'].astype('float64')\n",
    "        df['weight'] = df['weight'].round(4)\n",
    "        if i==0:\n",
    "            df_port = df\n",
    "        if i!=0:\n",
    "            df_port = pd.concat([df_port, df])\n",
    "            \n",
    "    return df_port"
   ]
  },
  {
   "cell_type": "code",
   "execution_count": 3,
   "metadata": {},
   "outputs": [],
   "source": [
    "def get_weight(taa_port, strategie, histo_date):\n",
    "    return taa_port[(taa_port['strategie'] == strategie) & (taa_port['histo_date'] == histo_date)][['No ISIN', 'weight']]"
   ]
  },
  {
   "cell_type": "code",
   "execution_count": 4,
   "metadata": {},
   "outputs": [],
   "source": [
    "def get_all_strat(taa_port, curr=None):\n",
    "    if curr is not None:\n",
    "        all_strat = list(taa_port[taa_port.strategie.str.contains(curr)]['strategie'].unique())\n",
    "    else:\n",
    "        all_strat = list(taa_port['strategie'].unique())\n",
    "        \n",
    "    return all_strat"
   ]
  },
  {
   "cell_type": "code",
   "execution_count": 5,
   "metadata": {},
   "outputs": [],
   "source": [
    "def get_all_isin(taa_port, curr=None, histo_date=None, strat=None):\n",
    "    if curr is not None:\n",
    "        if histo_date is None:\n",
    "            if strat is None:\n",
    "                all_isin = taa_port[taa_port['strategie'].str.contains(curr)]\n",
    "            else:\n",
    "                all_isin = taa_port[(taa_port['strategie'] == strat) & (taa_port['strategie'].str.contains(curr))]\n",
    "        else:\n",
    "            all_isin = taa_port[(taa_port['histo_date'] == histo_date) & (taa_port['strategie'].str.contains(curr))]\n",
    "    else:\n",
    "        if histo_date is None:\n",
    "            all_isin = taa_port\n",
    "        else:\n",
    "            all_isin = taa_port[taa_port['histo_date'] == histo_date]\n",
    "        \n",
    "    return pd.DataFrame(all_isin['No ISIN'].unique(), columns=['No ISIN'])"
   ]
  },
  {
   "cell_type": "code",
   "execution_count": 6,
   "metadata": {},
   "outputs": [],
   "source": [
    "def sigma_to_sharp (weights, assets_annual_ret, assets_annual_cov):\n",
    "    \n",
    "    port_ret = weights @ assets_annual_ret\n",
    "    port_vol = np.sqrt(weights.T @ assets_annual_cov @ weights )\n",
    "    port_sharp = port_ret / port_vol\n",
    "    \n",
    "    return port_ret, port_vol, port_sharp"
   ]
  },
  {
   "cell_type": "code",
   "execution_count": 7,
   "metadata": {},
   "outputs": [],
   "source": [
    "def port_filter(portfolio):\n",
    "    \n",
    "    portfolio['No ISIN'].replace({\n",
    "    'Inflation Bond CHF': 'XGIUCHIV Index',\n",
    "    'Inflation Bond USD': 'TIPIV Index',\n",
    "    'Inflation Bond EUR': 'INAVIS31 Index',\n",
    "    \n",
    "    'Total Return CHF': 'INSYBZE Index',\n",
    "    'Total Return EUR': 'INGLAC Index',\n",
    "    'Total Return USD': 'INSPFU Index',\n",
    "    \n",
    "    'HYBRIDUSD': 'FIDYUHG LX Index',\n",
    "    'HYBRIDEUR': 'FIDYACE LX Index',\n",
    "    \n",
    "    'UCBIFX02 Index': 'MORSCUA LX Index',\n",
    "    'UCBIFX28 Index': 'MRSGCAH LX Index',\n",
    "    'UCBIFX14 Index': 'MOBILCI LX Index',\n",
    "    \n",
    "    'Cat Bond USD': 'LEUPCBU SW Index',\n",
    "    'Cat Bond CHF': 'LEUPCBC SW Index',\n",
    "    'Cat Bond EUR': 'LEUPCBE SW Index',\n",
    "\n",
    "    'LG30TRCH Index': 'H00039CH Index',\n",
    "    #'M0UKHEUR Index': 'UKEUBH B2 Equity',\n",
    "    #'M0EMHCHF Index': 'EMUC SW Equity',\n",
    "    #'M0CHHEUR Index': 'CHEURIV Index',\n",
    "    #'M0UKHCHF Index': 'UKCHFIV Index',\n",
    "    'JPGCHFCP Index': 'EMBC SW Equity',\n",
    "    'Contrepartie CHF': 'CHF Curncy',\n",
    "    'Contrepartie EUR': 'EUR Curncy',\n",
    "    'Contrepartie USD': 'BBDXY Index',\n",
    "    'aurlnchf curncy': 'AURLNCHF CURNCY',\n",
    "    'aurlneur curncy': 'AURLNEUR CURNCY',\n",
    "    'SBWG13U INDEX': 'SBWG13U Index',\n",
    "    'LF89TRCH index': 'LF89TRCH Index',\n",
    "    'H30909US INDEX': 'H30909US Index',\n",
    "    'H30909EU INDEX': 'H30909EU Index',\n",
    "    'SBWG10U INDEX': 'SBWG10U Index',\n",
    "    'SBWG10CH INDEX': 'ZKWXBHN SW Equity',\n",
    "\n",
    "    }, inplace=True)\n",
    "    \n",
    "    # portfolio = portfolio[\n",
    "    #    ~portfolio['No ISIN'].isin([\n",
    "    #    'HFRXGLC Index', 'SWIIT Index', 'SF15T Index', \n",
    "    #    'M0EMHCHF Index', 'SBR4T Index', 'H20344CH Index', 'BXCHTRCH Index', \n",
    "    #    'SBF14T Index', 'BCOMHFT Index', 'LG30TRCH Index', \n",
    "    #    'aurlnchf curncy', 'M0UKHCHF Index', 'SF51T Index'])\n",
    "    # ]\n",
    "    portfolio = portfolio[\n",
    "        ~portfolio['No ISIN'].isin([\n",
    "        'HYBRIDCHF', 'SBWG10CH Index'])]\n",
    "    return portfolio"
   ]
  },
  {
   "cell_type": "code",
   "execution_count": 8,
   "metadata": {},
   "outputs": [],
   "source": [
    "def get_all_date(taa_port, strat=None):\n",
    "    if strat is not None:\n",
    "        all_dates = taa_port[taa_port.strategie == strat]['histo_date'].unique()\n",
    "    else:\n",
    "        all_dates = taa_port['histo_date'].unique()\n",
    "    return all_dates"
   ]
  },
  {
   "cell_type": "markdown",
   "metadata": {},
   "source": [
    "### Historical price of underlying indices"
   ]
  },
  {
   "cell_type": "code",
   "execution_count": 10,
   "metadata": {},
   "outputs": [],
   "source": [
    "data_excel = pd.read_excel('PP_data/indices_tickers_pp.xlsx', sheet_name='close_price', skiprows=[0,1,2,4,5,6,7])\n",
    "data_excel.rename(columns = { data_excel.columns[0]: \"Dates\" }, inplace = True)\n",
    "data_excel['Dates'] = pd.to_datetime(data_excel['Dates'], yearfirst=True, format=\"%d/%m/%Y\")\n",
    "data_excel = data_excel.fillna(method='ffill')\n",
    "data_excel.index = data_excel['Dates']\n",
    "data_excel = data_excel.drop(columns=['Dates'])"
   ]
  },
  {
   "cell_type": "markdown",
   "metadata": {},
   "source": [
    "# Historical tactical portfolio"
   ]
  },
  {
   "cell_type": "markdown",
   "metadata": {},
   "source": [
    "### filtering underlying price data with available isin"
   ]
  },
  {
   "cell_type": "code",
   "execution_count": 11,
   "metadata": {},
   "outputs": [],
   "source": [
    "taa_port_excel = excel_to_csv('PP_data/taa.xlsx', 'PP')\n",
    "taa_port_excel.drop(columns='portfolio', inplace=True)\n",
    "taa_port_excel = port_filter(taa_port_excel)\n",
    "taa_port = taa_port_excel.copy()"
   ]
  },
  {
   "cell_type": "code",
   "execution_count": 12,
   "metadata": {},
   "outputs": [],
   "source": []
  },
  {
   "cell_type": "code",
   "execution_count": 13,
   "metadata": {},
   "outputs": [],
   "source": []
  },
  {
   "cell_type": "code",
   "execution_count": 14,
   "metadata": {},
   "outputs": [
    {
     "data": {
      "text/plain": [
       "array(['2019-10-11', '2019-11-13', '2019-12-13', '2020-01-16',\n",
       "       '2020-02-13', '2020-03-12', '2020-04-16', '2020-05-14',\n",
       "       '2020-06-10', '2020-07-16', '2020-08-20', '2020-09-17',\n",
       "       '2020-10-16', '2020-11-12', '2020-12-10', '2021-01-21',\n",
       "       '2021-02-26', '2021-03-17', '2021-04-19', '2021-05-18',\n",
       "       '2021-06-17', '2021-08-18'], dtype=object)"
      ]
     },
     "execution_count": 14,
     "metadata": {},
     "output_type": "execute_result"
    }
   ],
   "source": [
    "taa_port['histo_date'].dt.strftime('%Y-%m-%d').unique()"
   ]
  },
  {
   "cell_type": "code",
   "execution_count": 15,
   "metadata": {},
   "outputs": [],
   "source": [
    "date = '2020-01-16'\n",
    "curr = 'CHF'"
   ]
  },
  {
   "cell_type": "code",
   "execution_count": 37,
   "metadata": {},
   "outputs": [],
   "source": [
    "all_strategies = get_all_strat(taa_port, curr)\n",
    "all_isin = get_all_isin(taa_port, curr=curr, histo_date=date)"
   ]
  },
  {
   "cell_type": "code",
   "execution_count": null,
   "metadata": {},
   "outputs": [],
   "source": []
  },
  {
   "cell_type": "code",
   "execution_count": 38,
   "metadata": {},
   "outputs": [],
   "source": [
    "# data = data.dropna()"
   ]
  },
  {
   "cell_type": "code",
   "execution_count": 39,
   "metadata": {},
   "outputs": [
    {
     "ename": "KeyError",
     "evalue": "\"['SBWGNSUU Index', 'EMBC SW Equity', 'LEUPCBC SW Index', 'XGIUCHIV Index'] not in index\"",
     "output_type": "error",
     "traceback": [
      "\u001b[0;31m---------------------------------------------------------------------------\u001b[0m",
      "\u001b[0;31mKeyError\u001b[0m                                  Traceback (most recent call last)",
      "\u001b[0;32m<ipython-input-39-4706deba83df>\u001b[0m in \u001b[0;36m<module>\u001b[0;34m\u001b[0m\n\u001b[1;32m      1\u001b[0m \u001b[0mdata\u001b[0m \u001b[0;34m=\u001b[0m \u001b[0mdata_excel\u001b[0m\u001b[0;34m.\u001b[0m\u001b[0mcopy\u001b[0m\u001b[0;34m(\u001b[0m\u001b[0;34m)\u001b[0m\u001b[0;34m\u001b[0m\u001b[0;34m\u001b[0m\u001b[0m\n\u001b[0;32m----> 2\u001b[0;31m \u001b[0mdata\u001b[0m \u001b[0;34m=\u001b[0m \u001b[0mdata\u001b[0m\u001b[0;34m[\u001b[0m\u001b[0mlist\u001b[0m\u001b[0;34m(\u001b[0m\u001b[0mall_isin\u001b[0m\u001b[0;34m[\u001b[0m\u001b[0;34m'No ISIN'\u001b[0m\u001b[0;34m]\u001b[0m\u001b[0;34m)\u001b[0m\u001b[0;34m]\u001b[0m\u001b[0;34m\u001b[0m\u001b[0;34m\u001b[0m\u001b[0m\n\u001b[0m",
      "\u001b[0;32m~/Documents/anaconda3/lib/python3.8/site-packages/pandas/core/frame.py\u001b[0m in \u001b[0;36m__getitem__\u001b[0;34m(self, key)\u001b[0m\n\u001b[1;32m   2906\u001b[0m             \u001b[0;32mif\u001b[0m \u001b[0mis_iterator\u001b[0m\u001b[0;34m(\u001b[0m\u001b[0mkey\u001b[0m\u001b[0;34m)\u001b[0m\u001b[0;34m:\u001b[0m\u001b[0;34m\u001b[0m\u001b[0;34m\u001b[0m\u001b[0m\n\u001b[1;32m   2907\u001b[0m                 \u001b[0mkey\u001b[0m \u001b[0;34m=\u001b[0m \u001b[0mlist\u001b[0m\u001b[0;34m(\u001b[0m\u001b[0mkey\u001b[0m\u001b[0;34m)\u001b[0m\u001b[0;34m\u001b[0m\u001b[0;34m\u001b[0m\u001b[0m\n\u001b[0;32m-> 2908\u001b[0;31m             \u001b[0mindexer\u001b[0m \u001b[0;34m=\u001b[0m \u001b[0mself\u001b[0m\u001b[0;34m.\u001b[0m\u001b[0mloc\u001b[0m\u001b[0;34m.\u001b[0m\u001b[0m_get_listlike_indexer\u001b[0m\u001b[0;34m(\u001b[0m\u001b[0mkey\u001b[0m\u001b[0;34m,\u001b[0m \u001b[0maxis\u001b[0m\u001b[0;34m=\u001b[0m\u001b[0;36m1\u001b[0m\u001b[0;34m,\u001b[0m \u001b[0mraise_missing\u001b[0m\u001b[0;34m=\u001b[0m\u001b[0;32mTrue\u001b[0m\u001b[0;34m)\u001b[0m\u001b[0;34m[\u001b[0m\u001b[0;36m1\u001b[0m\u001b[0;34m]\u001b[0m\u001b[0;34m\u001b[0m\u001b[0;34m\u001b[0m\u001b[0m\n\u001b[0m\u001b[1;32m   2909\u001b[0m \u001b[0;34m\u001b[0m\u001b[0m\n\u001b[1;32m   2910\u001b[0m         \u001b[0;31m# take() does not accept boolean indexers\u001b[0m\u001b[0;34m\u001b[0m\u001b[0;34m\u001b[0m\u001b[0;34m\u001b[0m\u001b[0m\n",
      "\u001b[0;32m~/Documents/anaconda3/lib/python3.8/site-packages/pandas/core/indexing.py\u001b[0m in \u001b[0;36m_get_listlike_indexer\u001b[0;34m(self, key, axis, raise_missing)\u001b[0m\n\u001b[1;32m   1252\u001b[0m             \u001b[0mkeyarr\u001b[0m\u001b[0;34m,\u001b[0m \u001b[0mindexer\u001b[0m\u001b[0;34m,\u001b[0m \u001b[0mnew_indexer\u001b[0m \u001b[0;34m=\u001b[0m \u001b[0max\u001b[0m\u001b[0;34m.\u001b[0m\u001b[0m_reindex_non_unique\u001b[0m\u001b[0;34m(\u001b[0m\u001b[0mkeyarr\u001b[0m\u001b[0;34m)\u001b[0m\u001b[0;34m\u001b[0m\u001b[0;34m\u001b[0m\u001b[0m\n\u001b[1;32m   1253\u001b[0m \u001b[0;34m\u001b[0m\u001b[0m\n\u001b[0;32m-> 1254\u001b[0;31m         \u001b[0mself\u001b[0m\u001b[0;34m.\u001b[0m\u001b[0m_validate_read_indexer\u001b[0m\u001b[0;34m(\u001b[0m\u001b[0mkeyarr\u001b[0m\u001b[0;34m,\u001b[0m \u001b[0mindexer\u001b[0m\u001b[0;34m,\u001b[0m \u001b[0maxis\u001b[0m\u001b[0;34m,\u001b[0m \u001b[0mraise_missing\u001b[0m\u001b[0;34m=\u001b[0m\u001b[0mraise_missing\u001b[0m\u001b[0;34m)\u001b[0m\u001b[0;34m\u001b[0m\u001b[0;34m\u001b[0m\u001b[0m\n\u001b[0m\u001b[1;32m   1255\u001b[0m         \u001b[0;32mreturn\u001b[0m \u001b[0mkeyarr\u001b[0m\u001b[0;34m,\u001b[0m \u001b[0mindexer\u001b[0m\u001b[0;34m\u001b[0m\u001b[0;34m\u001b[0m\u001b[0m\n\u001b[1;32m   1256\u001b[0m \u001b[0;34m\u001b[0m\u001b[0m\n",
      "\u001b[0;32m~/Documents/anaconda3/lib/python3.8/site-packages/pandas/core/indexing.py\u001b[0m in \u001b[0;36m_validate_read_indexer\u001b[0;34m(self, key, indexer, axis, raise_missing)\u001b[0m\n\u001b[1;32m   1302\u001b[0m             \u001b[0;32mif\u001b[0m \u001b[0mraise_missing\u001b[0m\u001b[0;34m:\u001b[0m\u001b[0;34m\u001b[0m\u001b[0;34m\u001b[0m\u001b[0m\n\u001b[1;32m   1303\u001b[0m                 \u001b[0mnot_found\u001b[0m \u001b[0;34m=\u001b[0m \u001b[0mlist\u001b[0m\u001b[0;34m(\u001b[0m\u001b[0mset\u001b[0m\u001b[0;34m(\u001b[0m\u001b[0mkey\u001b[0m\u001b[0;34m)\u001b[0m \u001b[0;34m-\u001b[0m \u001b[0mset\u001b[0m\u001b[0;34m(\u001b[0m\u001b[0max\u001b[0m\u001b[0;34m)\u001b[0m\u001b[0;34m)\u001b[0m\u001b[0;34m\u001b[0m\u001b[0;34m\u001b[0m\u001b[0m\n\u001b[0;32m-> 1304\u001b[0;31m                 \u001b[0;32mraise\u001b[0m \u001b[0mKeyError\u001b[0m\u001b[0;34m(\u001b[0m\u001b[0;34mf\"{not_found} not in index\"\u001b[0m\u001b[0;34m)\u001b[0m\u001b[0;34m\u001b[0m\u001b[0;34m\u001b[0m\u001b[0m\n\u001b[0m\u001b[1;32m   1305\u001b[0m \u001b[0;34m\u001b[0m\u001b[0m\n\u001b[1;32m   1306\u001b[0m             \u001b[0;31m# we skip the warning on Categorical\u001b[0m\u001b[0;34m\u001b[0m\u001b[0;34m\u001b[0m\u001b[0;34m\u001b[0m\u001b[0m\n",
      "\u001b[0;31mKeyError\u001b[0m: \"['SBWGNSUU Index', 'EMBC SW Equity', 'LEUPCBC SW Index', 'XGIUCHIV Index'] not in index\""
     ]
    }
   ],
   "source": [
    "data = data_excel.copy()\n",
    "data = data[list(all_isin['No ISIN'])]"
   ]
  },
  {
   "cell_type": "markdown",
   "metadata": {},
   "source": [
    "### Historical statistics simulation with underlying prices and random portfolios"
   ]
  },
  {
   "cell_type": "code",
   "execution_count": 22,
   "metadata": {},
   "outputs": [],
   "source": [
    "returns_daily = data.pct_change()\n",
    "returns_annual = returns_daily.mean() * 252\n",
    "cov_daily = returns_daily.cov()\n",
    "cov_annual = cov_daily * 252"
   ]
  },
  {
   "cell_type": "code",
   "execution_count": 23,
   "metadata": {},
   "outputs": [
    {
     "data": {
      "text/plain": [
       "H00039CH Index     3.617772\n",
       "SWIIT Index        4.270659\n",
       "M1US000V Index     6.256547\n",
       "I02913JP Index     1.075078\n",
       "NDDUPXJ Index      6.607154\n",
       "CHFUSDCR Curncy    0.296271\n",
       "dtype: float64"
      ]
     },
     "execution_count": 23,
     "metadata": {},
     "output_type": "execute_result"
    }
   ],
   "source": [
    "returns_annual * 100"
   ]
  },
  {
   "cell_type": "code",
   "execution_count": 24,
   "metadata": {},
   "outputs": [
    {
     "data": {
      "text/html": [
       "<div>\n",
       "<style scoped>\n",
       "    .dataframe tbody tr th:only-of-type {\n",
       "        vertical-align: middle;\n",
       "    }\n",
       "\n",
       "    .dataframe tbody tr th {\n",
       "        vertical-align: top;\n",
       "    }\n",
       "\n",
       "    .dataframe thead th {\n",
       "        text-align: right;\n",
       "    }\n",
       "</style>\n",
       "<table border=\"1\" class=\"dataframe\">\n",
       "  <thead>\n",
       "    <tr style=\"text-align: right;\">\n",
       "      <th></th>\n",
       "      <th>H00039CH Index</th>\n",
       "      <th>SWIIT Index</th>\n",
       "      <th>M1US000V Index</th>\n",
       "      <th>I02913JP Index</th>\n",
       "      <th>NDDUPXJ Index</th>\n",
       "      <th>CHFUSDCR Curncy</th>\n",
       "    </tr>\n",
       "  </thead>\n",
       "  <tbody>\n",
       "    <tr>\n",
       "      <th>H00039CH Index</th>\n",
       "      <td>1.000000</td>\n",
       "      <td>0.172860</td>\n",
       "      <td>0.348689</td>\n",
       "      <td>-0.057070</td>\n",
       "      <td>0.553638</td>\n",
       "      <td>0.067849</td>\n",
       "    </tr>\n",
       "    <tr>\n",
       "      <th>SWIIT Index</th>\n",
       "      <td>0.172860</td>\n",
       "      <td>1.000000</td>\n",
       "      <td>0.116598</td>\n",
       "      <td>-0.022998</td>\n",
       "      <td>0.147425</td>\n",
       "      <td>-0.040076</td>\n",
       "    </tr>\n",
       "    <tr>\n",
       "      <th>M1US000V Index</th>\n",
       "      <td>0.348689</td>\n",
       "      <td>0.116598</td>\n",
       "      <td>1.000000</td>\n",
       "      <td>-0.043622</td>\n",
       "      <td>0.305536</td>\n",
       "      <td>-0.025224</td>\n",
       "    </tr>\n",
       "    <tr>\n",
       "      <th>I02913JP Index</th>\n",
       "      <td>-0.057070</td>\n",
       "      <td>-0.022998</td>\n",
       "      <td>-0.043622</td>\n",
       "      <td>1.000000</td>\n",
       "      <td>-0.178685</td>\n",
       "      <td>0.056154</td>\n",
       "    </tr>\n",
       "    <tr>\n",
       "      <th>NDDUPXJ Index</th>\n",
       "      <td>0.553638</td>\n",
       "      <td>0.147425</td>\n",
       "      <td>0.305536</td>\n",
       "      <td>-0.178685</td>\n",
       "      <td>1.000000</td>\n",
       "      <td>0.157518</td>\n",
       "    </tr>\n",
       "    <tr>\n",
       "      <th>CHFUSDCR Curncy</th>\n",
       "      <td>0.067849</td>\n",
       "      <td>-0.040076</td>\n",
       "      <td>-0.025224</td>\n",
       "      <td>0.056154</td>\n",
       "      <td>0.157518</td>\n",
       "      <td>1.000000</td>\n",
       "    </tr>\n",
       "  </tbody>\n",
       "</table>\n",
       "</div>"
      ],
      "text/plain": [
       "                 H00039CH Index  SWIIT Index  M1US000V Index  I02913JP Index  \\\n",
       "H00039CH Index         1.000000     0.172860        0.348689       -0.057070   \n",
       "SWIIT Index            0.172860     1.000000        0.116598       -0.022998   \n",
       "M1US000V Index         0.348689     0.116598        1.000000       -0.043622   \n",
       "I02913JP Index        -0.057070    -0.022998       -0.043622        1.000000   \n",
       "NDDUPXJ Index          0.553638     0.147425        0.305536       -0.178685   \n",
       "CHFUSDCR Curncy        0.067849    -0.040076       -0.025224        0.056154   \n",
       "\n",
       "                 NDDUPXJ Index  CHFUSDCR Curncy  \n",
       "H00039CH Index        0.553638         0.067849  \n",
       "SWIIT Index           0.147425        -0.040076  \n",
       "M1US000V Index        0.305536        -0.025224  \n",
       "I02913JP Index       -0.178685         0.056154  \n",
       "NDDUPXJ Index         1.000000         0.157518  \n",
       "CHFUSDCR Curncy       0.157518         1.000000  "
      ]
     },
     "execution_count": 24,
     "metadata": {},
     "output_type": "execute_result"
    }
   ],
   "source": [
    "returns_daily.corr()"
   ]
  },
  {
   "cell_type": "code",
   "execution_count": 25,
   "metadata": {},
   "outputs": [
    {
     "data": {
      "text/plain": [
       "array([[ 1.69720332e-03,  5.17049177e-04,  2.41140781e-03,\n",
       "        -4.05597290e-05,  3.96865007e-03,  2.39695728e-04],\n",
       "       [ 5.17049177e-04,  5.27158688e-03,  1.42110358e-03,\n",
       "        -2.88053371e-05,  1.86248288e-03, -2.49498585e-04],\n",
       "       [ 2.41140781e-03,  1.42110358e-03,  2.81793139e-02,\n",
       "        -1.26325419e-04,  8.92436663e-03, -3.63086994e-04],\n",
       "       [-4.05597290e-05, -2.88053371e-05, -1.26325419e-04,\n",
       "         2.97600254e-04, -5.36358401e-04,  8.30702708e-05],\n",
       "       [ 3.96865007e-03,  1.86248288e-03,  8.92436663e-03,\n",
       "        -5.36358401e-04,  3.02761068e-02,  2.35025620e-03],\n",
       "       [ 2.39695728e-04, -2.49498585e-04, -3.63086994e-04,\n",
       "         8.30702708e-05,  2.35025620e-03,  7.35237891e-03]])"
      ]
     },
     "execution_count": 25,
     "metadata": {},
     "output_type": "execute_result"
    }
   ],
   "source": [
    "cov_annual.values"
   ]
  },
  {
   "cell_type": "code",
   "execution_count": 26,
   "metadata": {},
   "outputs": [],
   "source": [
    "num_assets = data.shape[1]\n",
    "num_portfolios = 50000"
   ]
  },
  {
   "cell_type": "code",
   "execution_count": null,
   "metadata": {},
   "outputs": [],
   "source": []
  },
  {
   "cell_type": "code",
   "execution_count": 27,
   "metadata": {},
   "outputs": [],
   "source": [
    "# Optimal Portfolio\n",
    "SIGMA = cov_annual.values\n",
    "INV_SIGMA = np.linalg.inv(SIGMA)\n",
    "ONES = np.ones(num_assets)\n",
    "MU = np.array(list(returns_annual))\n",
    "\n",
    "A = (ONES @ INV_SIGMA) @ ONES\n",
    "B = (ONES @ INV_SIGMA) @ MU\n",
    "C = (MU @ INV_SIGMA) @ MU\n",
    "DELTA = A * C - B**2\n",
    "\n",
    "Mup_min = returns_annual.min()\n",
    "Mup_max = returns_annual.max()\n",
    "Mup = np.linspace(Mup_min,Mup_max,1000)\n",
    "Sigmap = np.sqrt((A * np.multiply(Mup, Mup) - 2 * B * Mup + C) / DELTA)"
   ]
  },
  {
   "cell_type": "code",
   "execution_count": 28,
   "metadata": {},
   "outputs": [
    {
     "data": {
      "image/png": "[encoded data removed]",
      "text/plain": [
       "<Figure size 432x288 with 1 Axes>"
      ]
     },
     "metadata": {
      "needs_background": "light"
     },
     "output_type": "display_data"
    }
   ],
   "source": [
    "ax3 = sns.lineplot(x=Sigmap, y=Mup, sort=False, lw=1, palette=\"flare\")"
   ]
  },
  {
   "cell_type": "code",
   "execution_count": null,
   "metadata": {},
   "outputs": [],
   "source": []
  },
  {
   "cell_type": "code",
   "execution_count": 36,
   "metadata": {},
   "outputs": [
    {
     "name": "stderr",
     "output_type": "stream",
     "text": [
      "  0%|          | 0/50000 [00:00<?, ?it/s]\n"
     ]
    },
    {
     "ename": "Exception",
     "evalue": "Dot product shape mismatch, (159,) vs (6,)",
     "output_type": "error",
     "traceback": [
      "\u001b[0;31m---------------------------------------------------------------------------\u001b[0m",
      "\u001b[0;31mException\u001b[0m                                 Traceback (most recent call last)",
      "\u001b[0;32m<ipython-input-36-f70461787874>\u001b[0m in \u001b[0;36m<module>\u001b[0;34m\u001b[0m\n\u001b[1;32m     18\u001b[0m         \u001b[0;32mcontinue\u001b[0m\u001b[0;34m\u001b[0m\u001b[0;34m\u001b[0m\u001b[0m\n\u001b[1;32m     19\u001b[0m     \u001b[0mweights\u001b[0m \u001b[0;34m/=\u001b[0m \u001b[0mnp\u001b[0m\u001b[0;34m.\u001b[0m\u001b[0msum\u001b[0m\u001b[0;34m(\u001b[0m\u001b[0mweights\u001b[0m\u001b[0;34m)\u001b[0m\u001b[0;34m\u001b[0m\u001b[0;34m\u001b[0m\u001b[0m\n\u001b[0;32m---> 20\u001b[0;31m     \u001b[0mreturns\u001b[0m \u001b[0;34m=\u001b[0m \u001b[0mweights\u001b[0m \u001b[0;34m@\u001b[0m \u001b[0mreturns_annual\u001b[0m\u001b[0;34m\u001b[0m\u001b[0;34m\u001b[0m\u001b[0m\n\u001b[0m\u001b[1;32m     21\u001b[0m     \u001b[0mvolatility\u001b[0m \u001b[0;34m=\u001b[0m \u001b[0mnp\u001b[0m\u001b[0;34m.\u001b[0m\u001b[0msqrt\u001b[0m\u001b[0;34m(\u001b[0m\u001b[0mweights\u001b[0m\u001b[0;34m.\u001b[0m\u001b[0mT\u001b[0m \u001b[0;34m@\u001b[0m \u001b[0mcov_annual\u001b[0m \u001b[0;34m@\u001b[0m \u001b[0mweights\u001b[0m\u001b[0;34m)\u001b[0m\u001b[0;34m\u001b[0m\u001b[0;34m\u001b[0m\u001b[0m\n\u001b[1;32m     22\u001b[0m     \u001b[0;32mif\u001b[0m \u001b[0mvolatility\u001b[0m \u001b[0;34m==\u001b[0m \u001b[0;36m0\u001b[0m\u001b[0;34m:\u001b[0m\u001b[0;34m\u001b[0m\u001b[0;34m\u001b[0m\u001b[0m\n",
      "\u001b[0;32m~/Documents/anaconda3/lib/python3.8/site-packages/pandas/core/series.py\u001b[0m in \u001b[0;36m__array_ufunc__\u001b[0;34m(self, ufunc, method, *inputs, **kwargs)\u001b[0m\n\u001b[1;32m    680\u001b[0m \u001b[0;34m\u001b[0m\u001b[0m\n\u001b[1;32m    681\u001b[0m         \u001b[0;31m# for binary ops, use our custom dunder methods\u001b[0m\u001b[0;34m\u001b[0m\u001b[0;34m\u001b[0m\u001b[0;34m\u001b[0m\u001b[0m\n\u001b[0;32m--> 682\u001b[0;31m         result = ops.maybe_dispatch_ufunc_to_dunder_op(\n\u001b[0m\u001b[1;32m    683\u001b[0m             \u001b[0mself\u001b[0m\u001b[0;34m,\u001b[0m \u001b[0mufunc\u001b[0m\u001b[0;34m,\u001b[0m \u001b[0mmethod\u001b[0m\u001b[0;34m,\u001b[0m \u001b[0;34m*\u001b[0m\u001b[0minputs\u001b[0m\u001b[0;34m,\u001b[0m \u001b[0;34m**\u001b[0m\u001b[0mkwargs\u001b[0m\u001b[0;34m\u001b[0m\u001b[0;34m\u001b[0m\u001b[0m\n\u001b[1;32m    684\u001b[0m         )\n",
      "\u001b[0;32mpandas/_libs/ops_dispatch.pyx\u001b[0m in \u001b[0;36mpandas._libs.ops_dispatch.maybe_dispatch_ufunc_to_dunder_op\u001b[0;34m()\u001b[0m\n",
      "\u001b[0;32m~/Documents/anaconda3/lib/python3.8/site-packages/pandas/core/series.py\u001b[0m in \u001b[0;36m__rmatmul__\u001b[0;34m(self, other)\u001b[0m\n\u001b[1;32m   2597\u001b[0m         \u001b[0mMatrix\u001b[0m \u001b[0mmultiplication\u001b[0m \u001b[0musing\u001b[0m \u001b[0mbinary\u001b[0m\u001b[0;31m \u001b[0m\u001b[0;31m`\u001b[0m\u001b[0;34m@\u001b[0m\u001b[0;31m`\u001b[0m \u001b[0moperator\u001b[0m \u001b[0;32min\u001b[0m \u001b[0mPython\u001b[0m\u001b[0;34m>=\u001b[0m\u001b[0;36m3.5\u001b[0m\u001b[0;34m.\u001b[0m\u001b[0;34m\u001b[0m\u001b[0;34m\u001b[0m\u001b[0m\n\u001b[1;32m   2598\u001b[0m         \"\"\"\n\u001b[0;32m-> 2599\u001b[0;31m         \u001b[0;32mreturn\u001b[0m \u001b[0mself\u001b[0m\u001b[0;34m.\u001b[0m\u001b[0mdot\u001b[0m\u001b[0;34m(\u001b[0m\u001b[0mnp\u001b[0m\u001b[0;34m.\u001b[0m\u001b[0mtranspose\u001b[0m\u001b[0;34m(\u001b[0m\u001b[0mother\u001b[0m\u001b[0;34m)\u001b[0m\u001b[0;34m)\u001b[0m\u001b[0;34m\u001b[0m\u001b[0;34m\u001b[0m\u001b[0m\n\u001b[0m\u001b[1;32m   2600\u001b[0m \u001b[0;34m\u001b[0m\u001b[0m\n\u001b[1;32m   2601\u001b[0m     \u001b[0;34m@\u001b[0m\u001b[0mdoc\u001b[0m\u001b[0;34m(\u001b[0m\u001b[0mbase\u001b[0m\u001b[0;34m.\u001b[0m\u001b[0mIndexOpsMixin\u001b[0m\u001b[0;34m.\u001b[0m\u001b[0msearchsorted\u001b[0m\u001b[0;34m,\u001b[0m \u001b[0mklass\u001b[0m\u001b[0;34m=\u001b[0m\u001b[0;34m\"Series\"\u001b[0m\u001b[0;34m)\u001b[0m\u001b[0;34m\u001b[0m\u001b[0;34m\u001b[0m\u001b[0m\n",
      "\u001b[0;32m~/Documents/anaconda3/lib/python3.8/site-packages/pandas/core/series.py\u001b[0m in \u001b[0;36mdot\u001b[0;34m(self, other)\u001b[0m\n\u001b[1;32m   2572\u001b[0m             \u001b[0mrvals\u001b[0m \u001b[0;34m=\u001b[0m \u001b[0mnp\u001b[0m\u001b[0;34m.\u001b[0m\u001b[0masarray\u001b[0m\u001b[0;34m(\u001b[0m\u001b[0mother\u001b[0m\u001b[0;34m)\u001b[0m\u001b[0;34m\u001b[0m\u001b[0;34m\u001b[0m\u001b[0m\n\u001b[1;32m   2573\u001b[0m             \u001b[0;32mif\u001b[0m \u001b[0mlvals\u001b[0m\u001b[0;34m.\u001b[0m\u001b[0mshape\u001b[0m\u001b[0;34m[\u001b[0m\u001b[0;36m0\u001b[0m\u001b[0;34m]\u001b[0m \u001b[0;34m!=\u001b[0m \u001b[0mrvals\u001b[0m\u001b[0;34m.\u001b[0m\u001b[0mshape\u001b[0m\u001b[0;34m[\u001b[0m\u001b[0;36m0\u001b[0m\u001b[0;34m]\u001b[0m\u001b[0;34m:\u001b[0m\u001b[0;34m\u001b[0m\u001b[0;34m\u001b[0m\u001b[0m\n\u001b[0;32m-> 2574\u001b[0;31m                 raise Exception(\n\u001b[0m\u001b[1;32m   2575\u001b[0m                     \u001b[0;34mf\"Dot product shape mismatch, {lvals.shape} vs {rvals.shape}\"\u001b[0m\u001b[0;34m\u001b[0m\u001b[0;34m\u001b[0m\u001b[0m\n\u001b[1;32m   2576\u001b[0m                 )\n",
      "\u001b[0;31mException\u001b[0m: Dot product shape mismatch, (159,) vs (6,)"
     ]
    }
   ],
   "source": [
    "# Random Portfolios\n",
    "port_returns = []\n",
    "port_volatility = []\n",
    "sharpe_ratio = []\n",
    "\n",
    "weight_list = []\n",
    "for single_portfolio in tqdm(range(num_portfolios)):\n",
    "    weights = np.random.choice(np.linspace(0,0.99,num_portfolios), num_assets)\n",
    "    # weights = np.random.random(num_assets)\n",
    "    weights = np.multiply(weights, np.random.binomial(1, 0.3, size=num_assets))\n",
    "    if np.sum(weights) == 0:\n",
    "        continue\n",
    "    weights /= np.sum(weights)\n",
    "    returns = weights @ returns_annual\n",
    "    volatility = np.sqrt(weights.T @ cov_annual @ weights)\n",
    "    if volatility == 0:\n",
    "        continue\n",
    "    sharpe = returns / volatility\n",
    "    sharpe_ratio.append(sharpe)\n",
    "    port_returns.append(returns)\n",
    "    port_volatility.append(volatility)\n",
    "    weight_list.append(weights)"
   ]
  },
  {
   "cell_type": "code",
   "execution_count": 30,
   "metadata": {},
   "outputs": [],
   "source": [
    "df = pd.DataFrame(data={'returns': port_returns,\n",
    "                        'volatility': port_volatility,\n",
    "                        'sharpe_ratio': sharpe_ratio})\n",
    "df.returns = df.returns * 100\n",
    "df.volatility = df.volatility * 100\n",
    "# df = df[(df.sharpe_ratio > -0.2) & (df.sharpe_ratio < 1.5) & (df.returns > -0.5)]"
   ]
  },
  {
   "cell_type": "markdown",
   "metadata": {},
   "source": [
    "### Statistics of selected portfolios"
   ]
  },
  {
   "cell_type": "markdown",
   "metadata": {},
   "source": [
    "#### Comparison between strategies"
   ]
  },
  {
   "cell_type": "code",
   "execution_count": 33,
   "metadata": {},
   "outputs": [
    {
     "data": {
      "text/plain": [
       "H00039CH Index     0.036178\n",
       "SWIIT Index        0.042707\n",
       "M1US000V Index     0.062565\n",
       "I02913JP Index     0.010751\n",
       "NDDUPXJ Index      0.066072\n",
       "CHFUSDCR Curncy    0.002963\n",
       "dtype: float64"
      ]
     },
     "execution_count": 33,
     "metadata": {},
     "output_type": "execute_result"
    }
   ],
   "source": [
    "returns_annual"
   ]
  },
  {
   "cell_type": "code",
   "execution_count": 35,
   "metadata": {},
   "outputs": [
    {
     "data": {
      "text/html": [
       "<div>\n",
       "<style scoped>\n",
       "    .dataframe tbody tr th:only-of-type {\n",
       "        vertical-align: middle;\n",
       "    }\n",
       "\n",
       "    .dataframe tbody tr th {\n",
       "        vertical-align: top;\n",
       "    }\n",
       "\n",
       "    .dataframe thead th {\n",
       "        text-align: right;\n",
       "    }\n",
       "</style>\n",
       "<table border=\"1\" class=\"dataframe\">\n",
       "  <thead>\n",
       "    <tr style=\"text-align: right;\">\n",
       "      <th></th>\n",
       "      <th>H00039CH Index</th>\n",
       "      <th>SWIIT Index</th>\n",
       "      <th>M1US000V Index</th>\n",
       "      <th>I02913JP Index</th>\n",
       "      <th>NDDUPXJ Index</th>\n",
       "      <th>CHFUSDCR Curncy</th>\n",
       "    </tr>\n",
       "  </thead>\n",
       "  <tbody>\n",
       "    <tr>\n",
       "      <th>H00039CH Index</th>\n",
       "      <td>0.001697</td>\n",
       "      <td>0.000517</td>\n",
       "      <td>0.002411</td>\n",
       "      <td>-0.000041</td>\n",
       "      <td>0.003969</td>\n",
       "      <td>0.000240</td>\n",
       "    </tr>\n",
       "    <tr>\n",
       "      <th>SWIIT Index</th>\n",
       "      <td>0.000517</td>\n",
       "      <td>0.005272</td>\n",
       "      <td>0.001421</td>\n",
       "      <td>-0.000029</td>\n",
       "      <td>0.001862</td>\n",
       "      <td>-0.000249</td>\n",
       "    </tr>\n",
       "    <tr>\n",
       "      <th>M1US000V Index</th>\n",
       "      <td>0.002411</td>\n",
       "      <td>0.001421</td>\n",
       "      <td>0.028179</td>\n",
       "      <td>-0.000126</td>\n",
       "      <td>0.008924</td>\n",
       "      <td>-0.000363</td>\n",
       "    </tr>\n",
       "    <tr>\n",
       "      <th>I02913JP Index</th>\n",
       "      <td>-0.000041</td>\n",
       "      <td>-0.000029</td>\n",
       "      <td>-0.000126</td>\n",
       "      <td>0.000298</td>\n",
       "      <td>-0.000536</td>\n",
       "      <td>0.000083</td>\n",
       "    </tr>\n",
       "    <tr>\n",
       "      <th>NDDUPXJ Index</th>\n",
       "      <td>0.003969</td>\n",
       "      <td>0.001862</td>\n",
       "      <td>0.008924</td>\n",
       "      <td>-0.000536</td>\n",
       "      <td>0.030276</td>\n",
       "      <td>0.002350</td>\n",
       "    </tr>\n",
       "    <tr>\n",
       "      <th>CHFUSDCR Curncy</th>\n",
       "      <td>0.000240</td>\n",
       "      <td>-0.000249</td>\n",
       "      <td>-0.000363</td>\n",
       "      <td>0.000083</td>\n",
       "      <td>0.002350</td>\n",
       "      <td>0.007352</td>\n",
       "    </tr>\n",
       "  </tbody>\n",
       "</table>\n",
       "</div>"
      ],
      "text/plain": [
       "                 H00039CH Index  SWIIT Index  M1US000V Index  I02913JP Index  \\\n",
       "H00039CH Index         0.001697     0.000517        0.002411       -0.000041   \n",
       "SWIIT Index            0.000517     0.005272        0.001421       -0.000029   \n",
       "M1US000V Index         0.002411     0.001421        0.028179       -0.000126   \n",
       "I02913JP Index        -0.000041    -0.000029       -0.000126        0.000298   \n",
       "NDDUPXJ Index          0.003969     0.001862        0.008924       -0.000536   \n",
       "CHFUSDCR Curncy        0.000240    -0.000249       -0.000363        0.000083   \n",
       "\n",
       "                 NDDUPXJ Index  CHFUSDCR Curncy  \n",
       "H00039CH Index        0.003969         0.000240  \n",
       "SWIIT Index           0.001862        -0.000249  \n",
       "M1US000V Index        0.008924        -0.000363  \n",
       "I02913JP Index       -0.000536         0.000083  \n",
       "NDDUPXJ Index         0.030276         0.002350  \n",
       "CHFUSDCR Curncy       0.002350         0.007352  "
      ]
     },
     "execution_count": 35,
     "metadata": {},
     "output_type": "execute_result"
    }
   ],
   "source": [
    "cov_annual"
   ]
  },
  {
   "cell_type": "code",
   "execution_count": 31,
   "metadata": {},
   "outputs": [
    {
     "ename": "Exception",
     "evalue": "Dot product shape mismatch, (6,) vs (38,)",
     "output_type": "error",
     "traceback": [
      "\u001b[0;31m---------------------------------------------------------------------------\u001b[0m",
      "\u001b[0;31mException\u001b[0m                                 Traceback (most recent call last)",
      "\u001b[0;32m<ipython-input-31-d301eadd5fa8>\u001b[0m in \u001b[0;36m<module>\u001b[0;34m\u001b[0m\n\u001b[1;32m      9\u001b[0m     \u001b[0;31m# print(portfolio.weight.sum())\u001b[0m\u001b[0;34m\u001b[0m\u001b[0;34m\u001b[0m\u001b[0;34m\u001b[0m\u001b[0m\n\u001b[1;32m     10\u001b[0m     \u001b[0mweights\u001b[0m \u001b[0;34m=\u001b[0m \u001b[0mnp\u001b[0m\u001b[0;34m.\u001b[0m\u001b[0marray\u001b[0m\u001b[0;34m(\u001b[0m \u001b[0mportfolio\u001b[0m\u001b[0;34m.\u001b[0m\u001b[0mweight\u001b[0m \u001b[0;34m/\u001b[0m \u001b[0mnp\u001b[0m\u001b[0;34m.\u001b[0m\u001b[0msum\u001b[0m\u001b[0;34m(\u001b[0m\u001b[0mportfolio\u001b[0m\u001b[0;34m.\u001b[0m\u001b[0mweight\u001b[0m\u001b[0;34m)\u001b[0m \u001b[0;34m)\u001b[0m\u001b[0;34m\u001b[0m\u001b[0;34m\u001b[0m\u001b[0m\n\u001b[0;32m---> 11\u001b[0;31m     \u001b[0mport_ret\u001b[0m\u001b[0;34m,\u001b[0m \u001b[0mport_vol\u001b[0m\u001b[0;34m,\u001b[0m \u001b[0mport_sharpe\u001b[0m \u001b[0;34m=\u001b[0m \u001b[0msigma_to_sharp\u001b[0m\u001b[0;34m(\u001b[0m\u001b[0mweights\u001b[0m\u001b[0;34m,\u001b[0m \u001b[0mreturns_annual\u001b[0m\u001b[0;34m,\u001b[0m \u001b[0mcov_annual\u001b[0m\u001b[0;34m)\u001b[0m\u001b[0;34m\u001b[0m\u001b[0;34m\u001b[0m\u001b[0m\n\u001b[0m\u001b[1;32m     12\u001b[0m     df_temp = pd.DataFrame(data={'returns': port_ret, 'volatility': port_vol,\n\u001b[1;32m     13\u001b[0m                             'sharpe_ratio': port_sharpe, 'strategie': strat}, index=[0])\n",
      "\u001b[0;32m<ipython-input-6-1e39cb39d06c>\u001b[0m in \u001b[0;36msigma_to_sharp\u001b[0;34m(weights, assets_annual_ret, assets_annual_cov)\u001b[0m\n\u001b[1;32m      1\u001b[0m \u001b[0;32mdef\u001b[0m \u001b[0msigma_to_sharp\u001b[0m \u001b[0;34m(\u001b[0m\u001b[0mweights\u001b[0m\u001b[0;34m,\u001b[0m \u001b[0massets_annual_ret\u001b[0m\u001b[0;34m,\u001b[0m \u001b[0massets_annual_cov\u001b[0m\u001b[0;34m)\u001b[0m\u001b[0;34m:\u001b[0m\u001b[0;34m\u001b[0m\u001b[0;34m\u001b[0m\u001b[0m\n\u001b[1;32m      2\u001b[0m \u001b[0;34m\u001b[0m\u001b[0m\n\u001b[0;32m----> 3\u001b[0;31m     \u001b[0mport_ret\u001b[0m \u001b[0;34m=\u001b[0m \u001b[0mweights\u001b[0m \u001b[0;34m@\u001b[0m \u001b[0massets_annual_ret\u001b[0m\u001b[0;34m\u001b[0m\u001b[0;34m\u001b[0m\u001b[0m\n\u001b[0m\u001b[1;32m      4\u001b[0m     \u001b[0mport_vol\u001b[0m \u001b[0;34m=\u001b[0m \u001b[0mnp\u001b[0m\u001b[0;34m.\u001b[0m\u001b[0msqrt\u001b[0m\u001b[0;34m(\u001b[0m\u001b[0mweights\u001b[0m\u001b[0;34m.\u001b[0m\u001b[0mT\u001b[0m \u001b[0;34m@\u001b[0m \u001b[0massets_annual_cov\u001b[0m \u001b[0;34m@\u001b[0m \u001b[0mweights\u001b[0m \u001b[0;34m)\u001b[0m\u001b[0;34m\u001b[0m\u001b[0;34m\u001b[0m\u001b[0m\n\u001b[1;32m      5\u001b[0m     \u001b[0mport_sharp\u001b[0m \u001b[0;34m=\u001b[0m \u001b[0mport_ret\u001b[0m \u001b[0;34m/\u001b[0m \u001b[0mport_vol\u001b[0m\u001b[0;34m\u001b[0m\u001b[0;34m\u001b[0m\u001b[0m\n",
      "\u001b[0;32m~/Documents/anaconda3/lib/python3.8/site-packages/pandas/core/series.py\u001b[0m in \u001b[0;36m__array_ufunc__\u001b[0;34m(self, ufunc, method, *inputs, **kwargs)\u001b[0m\n\u001b[1;32m    680\u001b[0m \u001b[0;34m\u001b[0m\u001b[0m\n\u001b[1;32m    681\u001b[0m         \u001b[0;31m# for binary ops, use our custom dunder methods\u001b[0m\u001b[0;34m\u001b[0m\u001b[0;34m\u001b[0m\u001b[0;34m\u001b[0m\u001b[0m\n\u001b[0;32m--> 682\u001b[0;31m         result = ops.maybe_dispatch_ufunc_to_dunder_op(\n\u001b[0m\u001b[1;32m    683\u001b[0m             \u001b[0mself\u001b[0m\u001b[0;34m,\u001b[0m \u001b[0mufunc\u001b[0m\u001b[0;34m,\u001b[0m \u001b[0mmethod\u001b[0m\u001b[0;34m,\u001b[0m \u001b[0;34m*\u001b[0m\u001b[0minputs\u001b[0m\u001b[0;34m,\u001b[0m \u001b[0;34m**\u001b[0m\u001b[0mkwargs\u001b[0m\u001b[0;34m\u001b[0m\u001b[0;34m\u001b[0m\u001b[0m\n\u001b[1;32m    684\u001b[0m         )\n",
      "\u001b[0;32mpandas/_libs/ops_dispatch.pyx\u001b[0m in \u001b[0;36mpandas._libs.ops_dispatch.maybe_dispatch_ufunc_to_dunder_op\u001b[0;34m()\u001b[0m\n",
      "\u001b[0;32m~/Documents/anaconda3/lib/python3.8/site-packages/pandas/core/series.py\u001b[0m in \u001b[0;36m__rmatmul__\u001b[0;34m(self, other)\u001b[0m\n\u001b[1;32m   2597\u001b[0m         \u001b[0mMatrix\u001b[0m \u001b[0mmultiplication\u001b[0m \u001b[0musing\u001b[0m \u001b[0mbinary\u001b[0m\u001b[0;31m \u001b[0m\u001b[0;31m`\u001b[0m\u001b[0;34m@\u001b[0m\u001b[0;31m`\u001b[0m \u001b[0moperator\u001b[0m \u001b[0;32min\u001b[0m \u001b[0mPython\u001b[0m\u001b[0;34m>=\u001b[0m\u001b[0;36m3.5\u001b[0m\u001b[0;34m.\u001b[0m\u001b[0;34m\u001b[0m\u001b[0;34m\u001b[0m\u001b[0m\n\u001b[1;32m   2598\u001b[0m         \"\"\"\n\u001b[0;32m-> 2599\u001b[0;31m         \u001b[0;32mreturn\u001b[0m \u001b[0mself\u001b[0m\u001b[0;34m.\u001b[0m\u001b[0mdot\u001b[0m\u001b[0;34m(\u001b[0m\u001b[0mnp\u001b[0m\u001b[0;34m.\u001b[0m\u001b[0mtranspose\u001b[0m\u001b[0;34m(\u001b[0m\u001b[0mother\u001b[0m\u001b[0;34m)\u001b[0m\u001b[0;34m)\u001b[0m\u001b[0;34m\u001b[0m\u001b[0;34m\u001b[0m\u001b[0m\n\u001b[0m\u001b[1;32m   2600\u001b[0m \u001b[0;34m\u001b[0m\u001b[0m\n\u001b[1;32m   2601\u001b[0m     \u001b[0;34m@\u001b[0m\u001b[0mdoc\u001b[0m\u001b[0;34m(\u001b[0m\u001b[0mbase\u001b[0m\u001b[0;34m.\u001b[0m\u001b[0mIndexOpsMixin\u001b[0m\u001b[0;34m.\u001b[0m\u001b[0msearchsorted\u001b[0m\u001b[0;34m,\u001b[0m \u001b[0mklass\u001b[0m\u001b[0;34m=\u001b[0m\u001b[0;34m\"Series\"\u001b[0m\u001b[0;34m)\u001b[0m\u001b[0;34m\u001b[0m\u001b[0;34m\u001b[0m\u001b[0m\n",
      "\u001b[0;32m~/Documents/anaconda3/lib/python3.8/site-packages/pandas/core/series.py\u001b[0m in \u001b[0;36mdot\u001b[0;34m(self, other)\u001b[0m\n\u001b[1;32m   2572\u001b[0m             \u001b[0mrvals\u001b[0m \u001b[0;34m=\u001b[0m \u001b[0mnp\u001b[0m\u001b[0;34m.\u001b[0m\u001b[0masarray\u001b[0m\u001b[0;34m(\u001b[0m\u001b[0mother\u001b[0m\u001b[0;34m)\u001b[0m\u001b[0;34m\u001b[0m\u001b[0;34m\u001b[0m\u001b[0m\n\u001b[1;32m   2573\u001b[0m             \u001b[0;32mif\u001b[0m \u001b[0mlvals\u001b[0m\u001b[0;34m.\u001b[0m\u001b[0mshape\u001b[0m\u001b[0;34m[\u001b[0m\u001b[0;36m0\u001b[0m\u001b[0;34m]\u001b[0m \u001b[0;34m!=\u001b[0m \u001b[0mrvals\u001b[0m\u001b[0;34m.\u001b[0m\u001b[0mshape\u001b[0m\u001b[0;34m[\u001b[0m\u001b[0;36m0\u001b[0m\u001b[0;34m]\u001b[0m\u001b[0;34m:\u001b[0m\u001b[0;34m\u001b[0m\u001b[0;34m\u001b[0m\u001b[0m\n\u001b[0;32m-> 2574\u001b[0;31m                 raise Exception(\n\u001b[0m\u001b[1;32m   2575\u001b[0m                     \u001b[0;34mf\"Dot product shape mismatch, {lvals.shape} vs {rvals.shape}\"\u001b[0m\u001b[0;34m\u001b[0m\u001b[0;34m\u001b[0m\u001b[0m\n\u001b[1;32m   2576\u001b[0m                 )\n",
      "\u001b[0;31mException\u001b[0m: Dot product shape mismatch, (6,) vs (38,)"
     ]
    }
   ],
   "source": [
    "df_port = pd.DataFrame(columns=['returns', 'volatility', 'sharpe_ratio', 'strategie'])\n",
    "date_port = date\n",
    "for strat in all_strategies:\n",
    "    portfolio = get_weight(taa_port, strat, date_port).reset_index(drop=True)\n",
    "    portfolio = pd.merge(portfolio, all_isin, how='outer', on='No ISIN').fillna(0).drop_duplicates()\n",
    "    portfolio = portfolio.set_index('No ISIN').reindex(list(all_isin['No ISIN']))\n",
    "    # print(strat)\n",
    "    # print(portfolio)\n",
    "    # print(portfolio.weight.sum())\n",
    "    weights = np.array( portfolio.weight / np.sum(portfolio.weight) )\n",
    "    port_ret, port_vol, port_sharpe = sigma_to_sharp(weights, returns_annual, cov_annual)\n",
    "    df_temp = pd.DataFrame(data={'returns': port_ret, 'volatility': port_vol,\n",
    "                            'sharpe_ratio': port_sharpe, 'strategie': strat}, index=[0])\n",
    "    df_port = df_port.append(df_temp)\n",
    "df_port.returns = df_port.returns * 100\n",
    "df_port.volatility = df_port.volatility * 100"
   ]
  },
  {
   "cell_type": "code",
   "execution_count": null,
   "metadata": {
    "scrolled": true
   },
   "outputs": [],
   "source": [
    "# sns.palplot(sns.diverging_palette(220, 0, n=len(df_port)))"
   ]
  },
  {
   "cell_type": "code",
   "execution_count": null,
   "metadata": {
    "scrolled": false
   },
   "outputs": [],
   "source": [
    "# seaborn plot\n",
    "plt.style.use('seaborn-dark')\n",
    "fig = plt.figure(figsize=(16,8))\n",
    "ax1 = sns.scatterplot(data=df, x='volatility', y='returns', hue='sharpe_ratio', palette=sns.color_palette(\"flare_r\", as_cmap=True), s=3, legend=False)\n",
    "# ax2 = sns.scatterplot(data=df_port, x='volatility', y='returns', hue='strategie', palette=sns.diverging_palette(220, 0, n=len(df_port)), s=250)\n",
    "ax3 = sns.lineplot(x=Sigmap*100, y=Mup*100, sort=False, lw=1, palette=\"flare\")\n",
    "# ax2.legend().set_title(None)\n",
    "plt.title('Risk/Return comparison of different strategies ; ' + date + ' ; ' + curr)\n",
    "plt.xlabel('Annual Volatility (%)')\n",
    "plt.ylabel('Annual Return (%)')\n",
    "plt.grid()\n",
    "plt.savefig('pp_output/Comparison_' + curr + '_' + date + '.png')\n",
    "plt.show()\n"
   ]
  },
  {
   "cell_type": "code",
   "execution_count": null,
   "metadata": {},
   "outputs": [],
   "source": []
  },
  {
   "cell_type": "markdown",
   "metadata": {},
   "source": [
    "#### risk/return time evolution of a strategie"
   ]
  },
  {
   "cell_type": "code",
   "execution_count": null,
   "metadata": {},
   "outputs": [],
   "source": [
    "curr = 'CHF'\n",
    "strat = 'Equilibré' + ' ' +  curr\n",
    "all_dates = get_all_date(taa_port, strat)\n",
    "all_isin = get_all_isin(taa_port, curr=curr, strat=strat)"
   ]
  },
  {
   "cell_type": "code",
   "execution_count": null,
   "metadata": {},
   "outputs": [],
   "source": [
    "data = data_excel.copy()\n",
    "data = data[list(all_isin['No ISIN'])]"
   ]
  },
  {
   "cell_type": "code",
   "execution_count": null,
   "metadata": {},
   "outputs": [],
   "source": [
    "returns_daily = data.pct_change()\n",
    "returns_annual = returns_daily.mean() * 252\n",
    "cov_daily = returns_daily.cov()\n",
    "cov_annual = cov_daily * 252"
   ]
  },
  {
   "cell_type": "code",
   "execution_count": null,
   "metadata": {
    "scrolled": true
   },
   "outputs": [],
   "source": [
    "df_port = pd.DataFrame(columns=['returns', 'volatility', 'sharpe_ratio', 'date'])\n",
    "df_port_diff = pd.DataFrame(columns=['ISIN', 'weight_diff', 'date'])\n",
    "\n",
    "for i, date in enumerate(all_dates[range(0, len(all_dates), 3)]):\n",
    "    portfolio = get_weight(taa_port, strat, date).reset_index(drop=True)\n",
    "    portfolio = pd.merge(portfolio, all_isin, how='outer', on='No ISIN').fillna(0).drop_duplicates()\n",
    "    portfolio = portfolio.set_index('No ISIN').reindex(list(all_isin['No ISIN']))\n",
    "    weights = np.array( portfolio.weight / np.sum(portfolio.weight) )\n",
    "    port_ret, port_vol, port_sharpe = sigma_to_sharp(weights, returns_annual, cov_annual)\n",
    "    print(port_ret)\n",
    "    df_temp = pd.DataFrame(data={'returns': port_ret, 'volatility': port_vol,\n",
    "                            'sharpe_ratio': port_sharpe, 'date': date}, index=[0])\n",
    "    df_port = df_port.append(df_temp)\n",
    "    if i > 0:\n",
    "        df_temp2 = pd.DataFrame(data={'ISIN':list(portfolio.index),'weight_diff': (portfolio.weight - temp_port.weight)})\n",
    "        df_temp2['date'] = date\n",
    "        df_port_diff = df_port_diff.append(df_temp2)\n",
    "    temp_port = portfolio\n",
    "\n",
    "df_port.date = df_port.date.dt.strftime('%d/%m/%Y')\n",
    "# df_port = df_port.iloc[range(0, len(df_port), 3)]\n",
    "df_port.volatility = df_port.volatility * 100\n",
    "df_port.returns = df_port.returns * 100\n",
    "df_port['diff_ret'] = df_port.returns.diff().shift(-1)\n",
    "df_port['diff_vol'] = df_port.volatility.diff().shift(-1)\n",
    "df_port.sharpe_ratio = df_port.sharpe_ratio.round(4)\n",
    "\n",
    "# df_port_diff = df_port_diff[df_port_diff.date.isin(df_port.date)]\n",
    "df_port.reset_index(inplace=True, drop=True)\n",
    "df_port_diff.reset_index(inplace=True, drop=True)\n",
    "index = pd.MultiIndex.from_frame(df_port_diff[['date', 'ISIN']])\n",
    "df_port_diff = df_port_diff.set_index(index, drop=True).drop(columns=['ISIN', 'date'])\n",
    "df_port_diff['weight_diff_abs'] = df_port_diff.weight_diff.abs()\n",
    "df_port_diff['weight_diff'] = df_port_diff.weight_diff * 100"
   ]
  },
  {
   "cell_type": "code",
   "execution_count": null,
   "metadata": {
    "scrolled": false
   },
   "outputs": [],
   "source": [
    "# seaborn plot\n",
    "plt.style.use('seaborn-dark')\n",
    "fig = plt.figure(figsize=(14,8))\n",
    "\n",
    "ax = sns.scatterplot(data=df_port, x='volatility', y='returns', hue='sharpe_ratio', palette=sns.diverging_palette(0, 150, n=len(df_port), l=63), s=500, legend=True)\n",
    "sns.lineplot(data=df_port, x='volatility', y='returns', sort=False, lw=1, palette=\"flare\", zorder=1, legend=False)\n",
    "x = df_port['volatility']\n",
    "y = df_port['returns']\n",
    "dx = df_port['diff_vol']\n",
    "dy = df_port['diff_ret']\n",
    "pos_x = x[:-1] + dx/2\n",
    "pos_y = y[:-1] + dy/2\n",
    "norm = np.sqrt(dx**2 + dy**2) \n",
    "ax2 = plt.quiver(pos_x, pos_y, dx/norm, dy/norm, angles=\"xy\", zorder=5, pivot=\"mid\", width=0.004)\n",
    "for index, row in df_port.iterrows():\n",
    "    \n",
    "    x = row['volatility']\n",
    "    y = row['returns']\n",
    "    dx = row['diff_vol']\n",
    "    dy = row['diff_ret']\n",
    "    \n",
    "    ax3 = plt.annotate(row['date'], xy=(x, y), xytext=(x+0.03, y-0.03), \n",
    "                 arrowprops=dict(arrowstyle=\"->\", color='black'), annotation_clip=True)\n",
    "                 \n",
    "    #ax3 = plt.arrow(x, y, dx, dy, width = 0.001, length_includes_head=True, overhang=0.5,\n",
    "              #shape='full', head_starts_at_zero=False, head_width=0.015, head_length=0.02, color='steelblue')\n",
    "\n",
    "ax.legend(loc='upper left', title='Sharpe Ratio', title_fontsize=12, fontsize=11)\n",
    "plt.title(label=('Risk/Return evolution through time, from ' + df_port.date.iloc[0] + \" to \" + df_port.date.iloc[-1] + \" : \" + strat), fontsize=14)\n",
    "plt.xlabel(xlabel='Annual Volatility (%)', fontsize=12)\n",
    "plt.ylabel(ylabel='Annual Return (%)', fontsize=12)\n",
    "plt.xlim(df_port.volatility.min() - 0.15, df_port.volatility.max() + 0.1,)\n",
    "plt.ylim(df_port.returns.min() - 0.05, df_port.returns.max() + 0.05)\n",
    "plt.savefig('pp_output/' + str.replace(strat, ' ', '') + '.png')\n",
    "plt.grid()\n",
    "plt.show()\n"
   ]
  },
  {
   "cell_type": "code",
   "execution_count": null,
   "metadata": {},
   "outputs": [],
   "source": [
    "# Export decision dataframe to PNG\n",
    "df_diff = pd.DataFrame()\n",
    "for i, (date, df) in enumerate(df_port_diff.groupby(level=0, group_keys=False)):\n",
    "    df_top = df.nlargest(8, 'weight_diff_abs')['weight_diff'].to_frame().reset_index(drop=False).rename(columns={'weight_diff': 'Top Change'})\n",
    "    df_top.columns = pd.MultiIndex.from_product([[df_top.date.iloc[0]], df_top.columns])\n",
    "    df_top = df_top.drop('date', axis=1, level=1)\n",
    "    df_diff = pd.concat([df_diff, df_top], axis=1)\n",
    "dfi.export(df_diff, 'pp_output/TopMovers_' + str.replace(strat, ' ', '') + '.png')\n",
    "df_diff"
   ]
  },
  {
   "cell_type": "markdown",
   "metadata": {},
   "source": [
    "# Comparison of risk/return decision between different strategies"
   ]
  },
  {
   "cell_type": "code",
   "execution_count": null,
   "metadata": {},
   "outputs": [],
   "source": [
    "curr = 'CHF'\n",
    "all_strat = get_all_strat(taa_port, curr=curr)[1:]\n",
    "# strat = 'Equilibré' + ' ' +  curr\n",
    "all_dates = get_all_date(taa_port, strat)"
   ]
  },
  {
   "cell_type": "code",
   "execution_count": null,
   "metadata": {},
   "outputs": [],
   "source": [
    "all_isin = get_all_isin(taa_port, curr=curr)\n",
    "data = data_excel.copy()\n",
    "data = data[list(all_isin['No ISIN'])]"
   ]
  },
  {
   "cell_type": "code",
   "execution_count": null,
   "metadata": {},
   "outputs": [],
   "source": [
    "returns_daily = data.pct_change()\n",
    "returns_annual = returns_daily.mean() * 252\n",
    "cov_daily = returns_daily.cov()\n",
    "cov_annual = cov_daily * 252"
   ]
  },
  {
   "cell_type": "code",
   "execution_count": null,
   "metadata": {},
   "outputs": [],
   "source": [
    "df_vol_strats_saa = pd.DataFrame(columns=all_strat)\n",
    "saa_date = '2020-12-31'\n",
    "\n",
    "for strat in all_strat:\n",
    "    \n",
    "    df_port = pd.DataFrame(columns=['returns', 'volatility', 'sharpe_ratio', 'date'])\n",
    "    \n",
    "    portfolio = get_weight(saa_port, strat, saa_date).reset_index(drop=True)\n",
    "    portfolio = pd.merge(portfolio, all_isin, how='outer', on='No ISIN').fillna(0).drop_duplicates()\n",
    "    portfolio = portfolio.set_index('No ISIN').reindex(list(all_isin['No ISIN']))\n",
    "    weights = np.array( portfolio.weight / np.sum(portfolio.weight) )\n",
    "    port_ret, port_vol, port_sharpe = sigma_to_sharp(weights, returns_annual, cov_annual)\n",
    "    df_temp = pd.DataFrame(data={'returns': port_ret, 'volatility': port_vol,\n",
    "                        'sharpe_ratio': port_sharpe, 'date': date}, index=[0])\n",
    "    df_port = df_port.append(df_temp)\n",
    "        \n",
    "    df_port.reset_index(inplace=True, drop=True)\n",
    "    # df_port.date = df_port.date.dt.strftime('%d/%m/%Y')\n",
    "    \n",
    "\n",
    "df_vol_strats_saa = df_port\n",
    "df_vol_strats_saa.returns *= 100\n",
    "df_vol_strats_saa.volatility *= 100\n",
    "# df_vol_strats_saa.index = df_port.date\n",
    "# df_vol_strats_saa = df_vol_strats_saa * 100"
   ]
  },
  {
   "cell_type": "code",
   "execution_count": null,
   "metadata": {
    "scrolled": false
   },
   "outputs": [],
   "source": [
    "fig, axs = plt.subplots(2,3, figsize=(15,10), sharex=True, sharey=True, constrained_layout=True)\n",
    "axs = axs.ravel()\n",
    "\n",
    "saa_date = pd.to_datetime('2020-12-31')\n",
    "all_dates = get_all_date(taa_port, strat)\n",
    "all_dates = all_dates[range(15, len(all_dates), 1)]\n",
    "\n",
    "\n",
    "for i, strat in enumerate(all_strat):\n",
    "    \n",
    "    # SAA\n",
    "    df_port = pd.DataFrame(columns=['returns', 'volatility', 'sharpe_ratio', 'date'])\n",
    "    \n",
    "    portfolio = get_weight(saa_port, strat, saa_date).reset_index(drop=True)\n",
    "    portfolio = pd.merge(portfolio, all_isin, how='outer', on='No ISIN').fillna(0).drop_duplicates()\n",
    "    portfolio = portfolio.set_index('No ISIN').reindex(list(all_isin['No ISIN']))\n",
    "    weights = np.array( portfolio.weight / np.sum(portfolio.weight) )\n",
    "    port_ret, port_vol, port_sharpe = sigma_to_sharp(weights, returns_annual, cov_annual)\n",
    "    df_temp = pd.DataFrame(data={'returns': port_ret, 'volatility': port_vol,\n",
    "                        'sharpe_ratio': port_sharpe, 'date': saa_date}, index=[0])\n",
    "    df_port = df_port.append(df_temp)\n",
    "    df_port.reset_index(inplace=True, drop=True)\n",
    "    df_vol_strats_saa = df_port\n",
    "    \n",
    "    # TAA\n",
    "    df_port = pd.DataFrame(columns=['returns', 'volatility', 'sharpe_ratio', 'date'])\n",
    "    for date in all_dates:\n",
    "        portfolio = get_weight(taa_port, strat, date).reset_index(drop=True)\n",
    "        portfolio = pd.merge(portfolio, all_isin, how='outer', on='No ISIN').fillna(0).drop_duplicates()\n",
    "        portfolio = portfolio.set_index('No ISIN').reindex(list(all_isin['No ISIN']))\n",
    "        weights = np.array( portfolio.weight / np.sum(portfolio.weight) )\n",
    "        port_ret, port_vol, port_sharpe = sigma_to_sharp(weights, returns_annual, cov_annual)\n",
    "        df_temp = pd.DataFrame(data={'returns': port_ret, 'volatility': port_vol,\n",
    "                            'sharpe_ratio': port_sharpe, 'date': date}, index=[0])\n",
    "        df_port = df_port.append(df_temp)\n",
    "    \n",
    "    df_port.reset_index(inplace=True, drop=True)\n",
    "    df_port = pd.concat([df_vol_strats_saa, df_port])\n",
    "    df_port.date = df_port.date.dt.strftime('%d/%m/%Y')\n",
    "    df_port.volatility = df_port.volatility - df_port.volatility.iloc[0]\n",
    "    df_port.returns = df_port.returns - df_port.returns.iloc[0]\n",
    "    df_port.volatility = df_port.volatility * 100\n",
    "    df_port.returns = df_port.returns * 100\n",
    "    # df_port['diff_ret'] = df_port.returns.diff().shift(-1)\n",
    "    # df_port['diff_vol'] = df_port.volatility.diff().shift(-1)\n",
    "    df_port.sharpe_ratio = df_port.sharpe_ratio.diff().fillna(0).cumsum()\n",
    "    df_port['order'] = range(1,len(df_port)+1)\n",
    "    #df_port.sharpe_ratio = (df_port.returns / df_port.volatility).fillna(0)\n",
    "    #print(df_port)\n",
    "    \n",
    "    # PLOT\n",
    "    n = len(df_port.volatility.unique())\n",
    "    pal = sns.diverging_palette(0, 150, n=n, center='light', l=63, s=80)\n",
    "\n",
    "    sns.lineplot(ax=axs[i], data=df_port, x='volatility', y='returns', sort=False, lw=0.5, palette=\"flare\", zorder=1, legend=False)\n",
    "    sns.scatterplot(ax=axs[i], data=df_port, x='volatility', y='returns', hue='sharpe_ratio', \n",
    "                    palette=pal, s=300, legend=False)\n",
    "    \n",
    "    x = df_port['volatility']\n",
    "    y = df_port['returns']\n",
    "    # dx = df_port['diff_vol']\n",
    "    # dy = df_port['diff_ret']\n",
    "    \n",
    "    # pos_x = x[:-1] + dx/2\n",
    "    # pos_y = y[:-1] + dy/2\n",
    "    # norm = np.sqrt(dx**2 + dy**2) \n",
    "    \n",
    "    # axs[i].quiver(pos_x, pos_y, dx/norm, dy/norm, angles=\"xy\", zorder=5, pivot=\"mid\")\n",
    "    \n",
    "    order_annotation = []\n",
    "    for index, row in df_port.iterrows():\n",
    "        x = row['volatility']\n",
    "        y = row['returns']\n",
    "        # dx = row['diff_vol']\n",
    "        # dy = row['diff_ret']\n",
    "        \n",
    "        \n",
    "        order_annotation.append(axs[i].annotate(row['order'], xy=(x, y), xytext=(x, y), \n",
    "                                                fontsize=10, annotation_clip=True, \n",
    "                                                ha='center', va='center', label=row['date']))\n",
    "            \n",
    "        #axs[i].annotate(row['date'], xy=(x, y), xytext=(x+0.1, y-0.1), \n",
    "                        #arrowprops=dict(arrowstyle=\"->\"), annotation_clip=True)\n",
    "                 \n",
    "        #axs[i].arrow(x, y, dx, dy, width = 0.0003, length_includes_head=True, overhang=0.5,\n",
    "                    #shape='full', head_starts_at_zero=False, head_width=0.05, head_length=0.05, color='steelblue')\n",
    "    \n",
    "    \n",
    "    if i == 0:\n",
    "        dates = list(df_port.date)\n",
    "        orders = list(df_port.order)\n",
    "        order_date = list(zip(orders, dates))\n",
    "        text = \"\\n\".join(list(str(x[0]) + ': ' + x[1] for x in order_date))\n",
    "        axs[i].text(0.05, 0.5, text , transform=axs[i].transAxes, fontsize=14,\n",
    "        verticalalignment='top', bbox=dict(boxstyle='round', facecolor='white', alpha=0.5))\n",
    "        \n",
    "    axs[i].set_title(strat)\n",
    "    axs[i].grid(b=True, which='major', color='white', linestyle='-')\n",
    "    axs[i].set(xlabel=None)\n",
    "    axs[i].set(ylabel=None)\n",
    "    \n",
    "fig.suptitle(' Evolution of risk/return difference with TAA and SAA at each rebalance date \\n Comparison between strategies', fontsize=20, fontweight='bold')\n",
    "fig.supxlabel('Absolute Volatility difference with SAA (%)', fontsize=15)\n",
    "fig.supylabel('Absolute Return difference (%)', fontsize=15)\n",
    "plt.savefig('pp_output/time_comparison_' + curr + '.png')\n",
    "plt.show()"
   ]
  },
  {
   "cell_type": "markdown",
   "metadata": {
    "scrolled": false
   },
   "source": [
    "fig, axs = plt.subplots(2,3, figsize=(15,10), sharex=True, sharey=True, constrained_layout=True)\n",
    "axs = axs.ravel()\n",
    "\n",
    "for i, strat in enumerate(all_strat):\n",
    "    \n",
    "    # DATA\n",
    "    df_port = pd.DataFrame(columns=['returns', 'volatility', 'sharpe_ratio', 'date'])\n",
    "    \n",
    "    for date in all_dates[range(0, len(all_dates), 6)]:\n",
    "        portfolio = get_weight(taa_port, strat, date).reset_index(drop=True)\n",
    "        portfolio = pd.merge(portfolio, all_isin, how='outer', on='No ISIN').fillna(0).drop_duplicates()\n",
    "        portfolio = portfolio.set_index('No ISIN').reindex(list(all_isin['No ISIN']))\n",
    "        weights = np.array( portfolio.weight / np.sum(portfolio.weight) )\n",
    "        port_ret, port_vol, port_sharpe = sigma_to_sharp(weights, returns_annual, cov_annual)\n",
    "        df_temp = pd.DataFrame(data={'returns': port_ret, 'volatility': port_vol,\n",
    "                            'sharpe_ratio': port_sharpe, 'date': date}, index=[0])\n",
    "        df_port = df_port.append(df_temp)\n",
    "        \n",
    "    df_port.reset_index(inplace=True, drop=True)\n",
    "    df_port.date = df_port.date.dt.strftime('%d/%m/%Y')\n",
    "    df_port.volatility = df_port.volatility - df_port.volatility.iloc[0]\n",
    "    df_port.returns = df_port.returns - df_port.returns.iloc[0]\n",
    "    df_port.volatility = df_port.volatility * 100\n",
    "    df_port.returns = df_port.returns * 100\n",
    "    df_port['diff_ret'] = df_port.returns.diff().shift(-1)\n",
    "    df_port['diff_vol'] = df_port.volatility.diff().shift(-1)\n",
    "    df_port.sharpe_ratio = df_port.sharpe_ratio.diff().fillna(0).cumsum()\n",
    "    df_port['order'] = range(1,len(df_port)+1)\n",
    "    #df_port.sharpe_ratio = (df_port.returns / df_port.volatility).fillna(0)\n",
    "    #print(df_port)\n",
    "    \n",
    "    # PLOT\n",
    "    sns.lineplot(ax=axs[i], data=df_port, x='volatility', y='returns', sort=False, lw=1, palette=\"flare\", zorder=1, legend=False)\n",
    "    sns.scatterplot(ax=axs[i], data=df_port, x='volatility', y='returns', hue='sharpe_ratio', \n",
    "                    palette=sns.diverging_palette(0, 150, n=len(df_port.sharpe_ratio.unique())), s=500, legend=False)\n",
    "    \n",
    "    x = df_port['volatility']\n",
    "    y = df_port['returns']\n",
    "    dx = df_port['diff_vol']\n",
    "    dy = df_port['diff_ret']\n",
    "    \n",
    "    pos_x = x[:-1] + dx/2\n",
    "    pos_y = y[:-1] + dy/2\n",
    "    norm = np.sqrt(dx**2 + dy**2) \n",
    "    \n",
    "    axs[i].quiver(pos_x, pos_y, dx/norm, dy/norm, angles=\"xy\", zorder=5, pivot=\"mid\")\n",
    "    \n",
    "    order_annotation = []\n",
    "    for index, row in df_port.iterrows():\n",
    "        x = row['volatility']\n",
    "        y = row['returns']\n",
    "        dx = row['diff_vol']\n",
    "        dy = row['diff_ret']\n",
    "        \n",
    "        \n",
    "        order_annotation.append(axs[i].annotate(row['order'], xy=(x, y), xytext=(x, y), \n",
    "                                                fontsize=15, annotation_clip=True, \n",
    "                                                ha='center', va='center', label=row['date']))\n",
    "            \n",
    "        #axs[i].annotate(row['date'], xy=(x, y), xytext=(x+0.1, y-0.1), \n",
    "                        #arrowprops=dict(arrowstyle=\"->\"), annotation_clip=True)\n",
    "                 \n",
    "        #axs[i].arrow(x, y, dx, dy, width = 0.0003, length_includes_head=True, overhang=0.5,\n",
    "                    #shape='full', head_starts_at_zero=False, head_width=0.05, head_length=0.05, color='steelblue')\n",
    "    \n",
    "    \n",
    "    if i == 0:\n",
    "        dates = list(df_port.date)\n",
    "        orders = list(df_port.order)\n",
    "        order_date = list(zip(orders, dates))\n",
    "        text = \"\\n\".join(list(str(x[0]) + ': ' + x[1] for x in order_date))\n",
    "        axs[i].text(0.05, 0.95, text , transform=axs[i].transAxes, fontsize=14,\n",
    "        verticalalignment='top', bbox=dict(boxstyle='round', facecolor='white', alpha=0.5))\n",
    "        \n",
    "    axs[i].set_title(strat)\n",
    "    axs[i].grid(b=True, which='major', color='white', linestyle='-')\n",
    "    axs[i].set(xlabel=None)\n",
    "    axs[i].set(ylabel=None)\n",
    "    \n",
    "fig.suptitle(' Evolution of risk/return decisions at each rebalance date (TAA) \\n Comparison between strategies', fontsize=20, fontweight='bold')\n",
    "fig.supxlabel('Absolute Volatility Change (%)', fontsize=15)\n",
    "fig.supylabel('Absolute Return Change (%)', fontsize=15)\n",
    "plt.savefig('pp_output/time_comparison_' + curr + '.png')\n",
    "plt.show()"
   ]
  },
  {
   "cell_type": "code",
   "execution_count": null,
   "metadata": {},
   "outputs": [],
   "source": [
    "df_port"
   ]
  },
  {
   "cell_type": "markdown",
   "metadata": {},
   "source": [
    "# Comparison of absolute and relative risk between strategies"
   ]
  },
  {
   "cell_type": "code",
   "execution_count": null,
   "metadata": {},
   "outputs": [],
   "source": [
    "def volatility_comparison(all_strat, saa_date='2020-12-31'):\n",
    "    \n",
    "    # SAA\n",
    "    df_vol_strats_saa = pd.DataFrame(columns=all_strat)\n",
    "    saa_date = pd.to_datetime(saa_date)\n",
    "    for strat in all_strat:\n",
    "\n",
    "        df_port = pd.DataFrame(columns=['returns', 'volatility', 'sharpe_ratio', 'date'])\n",
    "        portfolio = get_weight(saa_port, strat, saa_date).reset_index(drop=True)\n",
    "        portfolio = pd.merge(portfolio, all_isin, how='outer', on='No ISIN').fillna(0).drop_duplicates()\n",
    "        portfolio = portfolio.set_index('No ISIN').reindex(list(all_isin['No ISIN']))\n",
    "        weights = np.array( portfolio.weight / np.sum(portfolio.weight) )\n",
    "        port_ret, port_vol, port_sharpe = sigma_to_sharp(weights, returns_annual, cov_annual)\n",
    "        df_temp = pd.DataFrame(data={'returns': port_ret, 'volatility': port_vol,\n",
    "                            'sharpe_ratio': port_sharpe, 'date': saa_date}, index=[0])\n",
    "        df_port = df_port.append(df_temp)\n",
    "\n",
    "        df_port.reset_index(inplace=True, drop=True)\n",
    "        df_vol_strats_saa[strat] = df_port.volatility\n",
    "\n",
    "    df_vol_strats_saa.index = df_port.date\n",
    "    df_vol_strats_saa = df_vol_strats_saa * 100\n",
    "\n",
    "    # TAA\n",
    "    df_vol_strats = pd.DataFrame(columns=all_strat)\n",
    "    for i, strat in enumerate(all_strat):\n",
    "\n",
    "        df_port = pd.DataFrame(columns=['returns', 'volatility', 'sharpe_ratio', 'date'])\n",
    "        for date in all_dates[range(15, len(all_dates), 1)]:\n",
    "            portfolio = get_weight(taa_port, strat, date).reset_index(drop=True)\n",
    "            portfolio = pd.merge(portfolio, all_isin, how='outer', on='No ISIN').fillna(0).drop_duplicates()\n",
    "            portfolio = portfolio.set_index('No ISIN').reindex(list(all_isin['No ISIN']))\n",
    "            weights = np.array( portfolio.weight / np.sum(portfolio.weight) )\n",
    "            port_ret, port_vol, port_sharpe = sigma_to_sharp(weights, returns_annual, cov_annual)\n",
    "            df_temp = pd.DataFrame(data={'returns': port_ret, 'volatility': port_vol,\n",
    "                                'sharpe_ratio': port_sharpe, 'date': date}, index=[0])\n",
    "            df_port = df_port.append(df_temp)\n",
    "\n",
    "        df_port.reset_index(inplace=True, drop=True)\n",
    "        # df_port.date = df_port.date.dt.strftime('%d/%m/%Y')\n",
    "\n",
    "        df_vol_strats[strat] = df_port.volatility\n",
    "\n",
    "    df_vol_strats.index = df_port.date\n",
    "    df_vol_strats = df_vol_strats * 100\n",
    "    df_vol_strats_diff = df_vol_strats - df_vol_strats_saa.iloc[0]\n",
    "    df_vol_strats_pct = (df_vol_strats - df_vol_strats_saa.iloc[0]) / df_vol_strats_saa.iloc[0]\n",
    "    df_vol_strats_pct *= 100\n",
    "    return df_vol_strats, df_vol_strats_diff, df_vol_strats_pct"
   ]
  },
  {
   "cell_type": "code",
   "execution_count": null,
   "metadata": {},
   "outputs": [],
   "source": [
    "saa_port_excel = excel_to_csv('PP_data/saa.xlsx', 'PP', [1])\n",
    "saa_port_excel.drop(columns='portfolio', inplace=True)\n",
    "saa_port_excel = port_filter(saa_port_excel)"
   ]
  },
  {
   "cell_type": "code",
   "execution_count": null,
   "metadata": {},
   "outputs": [],
   "source": [
    "taa_port_excel = excel_to_csv('PP_data/taa.xlsx', 'PP')\n",
    "taa_port_excel.drop(columns='portfolio', inplace=True)"
   ]
  },
  {
   "cell_type": "code",
   "execution_count": null,
   "metadata": {},
   "outputs": [],
   "source": [
    "test_pp = taa_port_excel.groupby(['strategie', 'histo_date']).sum()\n",
    "test_pp = test_pp[(test_pp['weight'] < 0.999) | (test_pp['weight'] > 1.001) ]\n",
    "test_pp.rename(columns={'weight':'Pondération totale extérieur à 99.9 % - 100.1 %'}, inplace=True)\n",
    "test_pp.to_excel('erreur_ponderation.xlsx')"
   ]
  },
  {
   "cell_type": "code",
   "execution_count": null,
   "metadata": {},
   "outputs": [],
   "source": [
    "taa_port_excel = port_filter(taa_port_excel)"
   ]
  },
  {
   "cell_type": "code",
   "execution_count": null,
   "metadata": {},
   "outputs": [],
   "source": [
    "taa_port = taa_port_excel.copy()\n",
    "saa_port = saa_port_excel.copy()"
   ]
  },
  {
   "cell_type": "code",
   "execution_count": null,
   "metadata": {},
   "outputs": [],
   "source": []
  },
  {
   "cell_type": "code",
   "execution_count": null,
   "metadata": {},
   "outputs": [],
   "source": [
    "# taa_port.groupby(['strategie', 'histo_date']).sum()"
   ]
  },
  {
   "cell_type": "code",
   "execution_count": null,
   "metadata": {},
   "outputs": [],
   "source": [
    "all_isin = pd.concat([get_all_isin(taa_port), get_all_isin(saa_port)]).drop_duplicates()\n",
    "all_dates = get_all_date(taa_port)"
   ]
  },
  {
   "cell_type": "code",
   "execution_count": null,
   "metadata": {},
   "outputs": [],
   "source": [
    "data = data_excel.copy()\n",
    "data = data[list(all_isin['No ISIN'])]"
   ]
  },
  {
   "cell_type": "code",
   "execution_count": null,
   "metadata": {},
   "outputs": [],
   "source": [
    "tickers_data = list(data.columns)\n",
    "tickers_port = list(all_isin['No ISIN'])"
   ]
  },
  {
   "cell_type": "code",
   "execution_count": null,
   "metadata": {},
   "outputs": [],
   "source": [
    "#print('nombre ticker data', len(tickers_data))\n",
    "#print('nombre ticker port', len(tickers_port))\n",
    "#print(list(set(tickers_data) - set(tickers_port)))"
   ]
  },
  {
   "cell_type": "code",
   "execution_count": null,
   "metadata": {},
   "outputs": [],
   "source": [
    "returns_daily = data.pct_change()\n",
    "returns_annual = returns_daily.mean() * 252\n",
    "cov_daily = returns_daily.cov()\n",
    "cov_annual = cov_daily * 252"
   ]
  },
  {
   "cell_type": "code",
   "execution_count": null,
   "metadata": {
    "scrolled": false
   },
   "outputs": [],
   "source": [
    "# display(df_vol_strats_pct.round(2).dropna())\n",
    "all_strat = ['Equilibré CHF', 'Equilibré USD', 'Equilibré EUR']\n",
    "df_vol_strats, df_vol_strats_diff, df_vol_strats_pct = volatility_comparison(all_strat)\n",
    "\n",
    "data = df_vol_strats_pct.reset_index().melt(id_vars='date', var_name='strategie', value_name='volatility' )\n",
    "data.date = data.date.dt.strftime('%d/%m/%Y')\n",
    "\n",
    "fig = plt.figure(figsize=(16,8))\n",
    "pal = sns.color_palette(\"husl\", 3)\n",
    "\n",
    "ax = sns.scatterplot(data=data, x='volatility', y='date', hue='strategie', palette=pal, s=100)\n",
    "\n",
    "handles, labels = ax.get_legend_handles_labels()\n",
    "lgd = ax.legend(reversed(handles), reversed(labels), bbox_to_anchor = (1.2, 1), fontsize=15)\n",
    "\n",
    "plt.ylabel(None)\n",
    "plt.xlabel('volatility relative change (%)', fontsize=12)\n",
    "plt.title('Volatility relative difference with SAA (Dec. 2020) at each rebalance date \\n Comparison between currencies', fontweight='bold', fontsize=15)\n",
    "plt.locator_params(axis='x', nbins=15)\n",
    "# plt.xlim(-0.8, 0.8)\n",
    "ax.grid(b=True, which='major', color='white', linestyle='-')\n",
    "\n",
    "\n",
    "\n",
    "plt.savefig('pp_output/volatility_diff_equ.png', bbox_extra_artists=(lgd,), bbox_inches='tight')\n",
    "dfi.export(df_vol_strats_pct.round(2).dropna(), 'pp_output/volatility_diff_equ_table.png')\n",
    "\n",
    "plt.show()"
   ]
  },
  {
   "cell_type": "code",
   "execution_count": null,
   "metadata": {
    "scrolled": false
   },
   "outputs": [],
   "source": [
    "# display(df_vol_strats_pct.round(2).dropna())\n",
    "all_strat = ['Actions CHF', 'Actions USD', 'Actions EUR']\n",
    "df_vol_strats, df_vol_strats_diff, df_vol_strats_pct = volatility_comparison(all_strat)\n",
    "\n",
    "data = df_vol_strats_pct.reset_index().melt(id_vars='date', var_name='strategie', value_name='volatility' )\n",
    "data.date = data.date.dt.strftime('%d/%m/%Y')\n",
    "\n",
    "fig = plt.figure(figsize=(16,8))\n",
    "pal = sns.color_palette(\"husl\", 3)\n",
    "\n",
    "ax = sns.scatterplot(data=data, x='volatility', y='date', hue='strategie', palette=pal, s=100)\n",
    "\n",
    "handles, labels = ax.get_legend_handles_labels()\n",
    "lgd = ax.legend(reversed(handles), reversed(labels), bbox_to_anchor = (1.2, 1), fontsize=15)\n",
    "\n",
    "plt.ylabel(None)\n",
    "plt.xlabel('volatility relative change (%)', fontsize=12)\n",
    "plt.title('Volatility relative difference with SAA (Dec. 2020) at each rebalance date \\n Comparison between currencies', fontweight='bold', fontsize=15)\n",
    "plt.locator_params(axis='x', nbins=15)\n",
    "# plt.xlim(-0.8, 0.8)\n",
    "ax.grid(b=True, which='major', color='white', linestyle='-')\n",
    "\n",
    "\n",
    "\n",
    "plt.savefig('pp_output/volatility_diff_actions.png', bbox_extra_artists=(lgd,), bbox_inches='tight')\n",
    "dfi.export(df_vol_strats_pct.round(2).dropna(), 'pp_output/volatility_diff_actions_table.png')\n",
    "\n",
    "plt.show()"
   ]
  },
  {
   "cell_type": "code",
   "execution_count": null,
   "metadata": {
    "scrolled": false
   },
   "outputs": [],
   "source": [
    "# display(df_vol_strats_pct.round(2).dropna())\n",
    "all_strat = ['Prudent CHF', 'Prudent USD', 'Prudent EUR']\n",
    "df_vol_strats, df_vol_strats_diff, df_vol_strats_pct = volatility_comparison(all_strat)\n",
    "\n",
    "data = df_vol_strats_pct.reset_index().melt(id_vars='date', var_name='strategie', value_name='volatility' )\n",
    "data.date = data.date.dt.strftime('%d/%m/%Y')\n",
    "\n",
    "fig = plt.figure(figsize=(16,8))\n",
    "pal = sns.color_palette(\"husl\", 3)\n",
    "\n",
    "ax = sns.scatterplot(data=data, x='volatility', y='date', hue='strategie', palette=pal, s=100)\n",
    "\n",
    "handles, labels = ax.get_legend_handles_labels()\n",
    "lgd = ax.legend(reversed(handles), reversed(labels), bbox_to_anchor = (1.2, 1), fontsize=15)\n",
    "\n",
    "plt.ylabel(None)\n",
    "plt.xlabel('volatility relative change (%)', fontsize=12)\n",
    "plt.title('Volatility relative difference with SAA (Dec. 2020) at each rebalance date \\n Comparison between currencies', fontweight='bold', fontsize=15)\n",
    "plt.locator_params(axis='x', nbins=15)\n",
    "# plt.xlim(-0.8, 0.8)\n",
    "ax.grid(b=True, which='major', color='white', linestyle='-')\n",
    "\n",
    "\n",
    "\n",
    "plt.savefig('pp_output/volatility_diff_prudent.png', bbox_extra_artists=(lgd,), bbox_inches='tight')\n",
    "dfi.export(df_vol_strats_pct.round(2).dropna(), 'pp_output/volatility_diff_prudent_table.png')\n",
    "\n",
    "plt.show()"
   ]
  },
  {
   "cell_type": "code",
   "execution_count": null,
   "metadata": {},
   "outputs": [],
   "source": [
    "all_all_strats = ['Prudent', 'Equilibré', 'Actions']\n",
    "\n",
    "fig, axs = plt.subplots(3,1, figsize=(16,8), sharex=True, sharey=True, constrained_layout=True)\n",
    "axs = axs.ravel()\n",
    "\n",
    "for i, all_strat in enumerate(all_all_strats):\n",
    "    all_strat = [all_strat + ' CHF', all_strat + ' USD',all_strat + ' EUR']\n",
    "    df_vol_strats, df_vol_strats_diff, df_vol_strats_pct = volatility_comparison(all_strat)\n",
    "    \n",
    "    #subplot\n",
    "    data = df_vol_strats_pct.reset_index().melt(id_vars='date', var_name='strategie', value_name='volatility' )\n",
    "    data.date = data.date.dt.strftime('%d/%m/%Y')\n",
    "    \n",
    "    pal = sns.color_palette(\"husl\", 3)\n",
    "\n",
    "    sns.scatterplot(ax=axs[i], data=data, x='volatility', y='date', hue='strategie', palette=pal, s=100)\n",
    "\n",
    "    handles, labels = axs[i].get_legend_handles_labels()\n",
    "    lgd = axs[i].legend(reversed(handles), reversed(labels), bbox_to_anchor = (1.1, 1), fontsize=10)\n",
    "\n",
    "    \n",
    "    # plt.locator_params(axis='x', nbins=15)\n",
    "    axs[i].grid(b=True, which='major', color='white', linestyle='-')\n",
    "    axs[i].set(xlabel=None)\n",
    "    axs[i].set(ylabel=None)\n",
    "    if i > 0:\n",
    "        axs[i].set_yticklabels([])\n",
    "fig.suptitle('Volatility relative difference with SAA (Dec. 2020) at each rebalance date \\n Comparison between currencies and strategies', fontsize=20, fontweight='bold')\n",
    "fig.supxlabel('Relative Volatility difference with SAA (%)', fontsize=15)\n",
    "plt.savefig('pp_output/volatility_diff_all.png')\n",
    "plt.show()"
   ]
  },
  {
   "cell_type": "code",
   "execution_count": null,
   "metadata": {},
   "outputs": [],
   "source": [
    "curr = 'CHF'\n",
    "all_strat = get_all_strat(taa_port, curr=curr)\n",
    "df_vol_strats, df_vol_strats_diff, df_vol_strats_pct = volatility_comparison(all_strat)"
   ]
  },
  {
   "cell_type": "code",
   "execution_count": null,
   "metadata": {
    "scrolled": false
   },
   "outputs": [],
   "source": [
    "# display(df_vol_strats.round(2).dropna())\n",
    "\n",
    "data = df_vol_strats.reset_index().melt(id_vars='date', var_name='strategie', value_name='volatility' )\n",
    "data.date = data.date.dt.strftime('%d/%m/%Y')\n",
    "\n",
    "fig = plt.figure(figsize=(16,8))\n",
    "pal = sns.diverging_palette(220, 0, n=len(df_vol_strats_diff.columns) + 2, center='light', l=60, s=80)\n",
    "del pal[3:5]\n",
    "\n",
    "ax = sns.scatterplot(data=data, x='date', y='volatility', hue='strategie', palette=pal, s=200)\n",
    "sns.lineplot(ax=ax, data=data, x='date', y='volatility', hue='strategie', palette=pal, lw=0.75, legend=False)\n",
    "\n",
    "handles, labels = ax.get_legend_handles_labels()\n",
    "lgd = ax.legend(reversed(handles), reversed(labels), bbox_to_anchor = (1, 1), fontsize=15)\n",
    "\n",
    "plt.xlabel(None)\n",
    "plt.ylabel('volatility (%)', fontsize=12)\n",
    "plt.title('Evolution of the average annualized volatility at each rebalance date (TAA) \\n comparison between strategies', fontweight='bold', fontsize=15)\n",
    "\n",
    "ax.grid(b=True, which='major', color='white', linestyle='-')\n",
    "\n",
    "plt.savefig('pp_output/volatility_evolution.png', bbox_extra_artists=(lgd,), bbox_inches='tight')\n",
    "dfi.export(df_vol_strats.round(2).dropna(), 'pp_output/volatility_evolution_table.png')\n",
    "\n",
    "plt.show()"
   ]
  },
  {
   "cell_type": "code",
   "execution_count": null,
   "metadata": {
    "scrolled": false
   },
   "outputs": [],
   "source": [
    "# display(df_vol_strats_diff.round(2).dropna())\n",
    "\n",
    "data = df_vol_strats_diff.reset_index().melt(id_vars='date', var_name='strategie', value_name='volatility' )\n",
    "data.date = data.date.dt.strftime('%d/%m/%Y')\n",
    "\n",
    "fig = plt.figure(figsize=(16,8))\n",
    "pal = sns.diverging_palette(220, 0, n=len(df_vol_strats_diff.columns) + 2, center='light', l=60, s=80)\n",
    "del pal[3:5]\n",
    "\n",
    "ax = sns.scatterplot(data=data, x='volatility', y='date', hue='strategie', palette=pal, s=100)\n",
    "\n",
    "handles, labels = ax.get_legend_handles_labels()\n",
    "lgd = ax.legend(reversed(handles), reversed(labels), bbox_to_anchor = (1.2, 1), fontsize=15)\n",
    "\n",
    "plt.ylabel(None)\n",
    "plt.xlabel('volatility absolute change (%)', fontsize=12)\n",
    "plt.title('Volatility absolute difference with SAA (Dec. 2020) at each rebalance date \\n Comparison between strategies', fontweight='bold', fontsize=15)\n",
    "plt.locator_params(axis='x', nbins=15)\n",
    "# plt.xlim(-0.4, 0.6)\n",
    "ax.grid(b=True, which='major', color='white', linestyle='-')\n",
    "\n",
    "\n",
    "plt.savefig('pp_output/volatility_abs_diff.png', bbox_extra_artists=(lgd,), bbox_inches='tight')\n",
    "dfi.export(df_vol_strats_diff.round(2).dropna(), 'pp_output/volatility_abs_diff_table.png')\n",
    "\n",
    "plt.show()"
   ]
  },
  {
   "cell_type": "code",
   "execution_count": null,
   "metadata": {
    "scrolled": false
   },
   "outputs": [],
   "source": [
    "# display(df_vol_strats_pct.round(2).dropna())\n",
    "\n",
    "data = df_vol_strats_pct.reset_index().melt(id_vars='date', var_name='strategie', value_name='volatility' )\n",
    "data.date = data.date.dt.strftime('%d/%m/%Y')\n",
    "\n",
    "fig = plt.figure(figsize=(16,8))\n",
    "pal = sns.diverging_palette(220, 0, n=len(df_vol_strats_diff.columns) + 2, center='light', l=60, s=80)\n",
    "del pal[3:5]\n",
    "\n",
    "ax = sns.scatterplot(data=data, x='volatility', y='date', hue='strategie', palette=pal, s=100)\n",
    "\n",
    "handles, labels = ax.get_legend_handles_labels()\n",
    "lgd = ax.legend(reversed(handles), reversed(labels), bbox_to_anchor = (1.2, 1), fontsize=15)\n",
    "\n",
    "plt.ylabel(None)\n",
    "plt.xlabel('volatility relative change (%)', fontsize=12)\n",
    "plt.title('Volatility relative difference with SAA (Dec. 2020) at each rebalance date \\n Comparison between strategies', fontweight='bold', fontsize=15)\n",
    "plt.locator_params(axis='x', nbins=15)\n",
    "# plt.xlim(-0.8, 0.8)\n",
    "ax.grid(b=True, which='major', color='white', linestyle='-')\n",
    "\n",
    "\n",
    "\n",
    "plt.savefig('pp_output/volatility_rel_diff.png', bbox_extra_artists=(lgd,), bbox_inches='tight')\n",
    "dfi.export(df_vol_strats_pct.round(2).dropna(), 'pp_output/volatility_rel_diff_table.png')\n",
    "\n",
    "plt.show()"
   ]
  },
  {
   "cell_type": "code",
   "execution_count": null,
   "metadata": {},
   "outputs": [],
   "source": []
  },
  {
   "cell_type": "markdown",
   "metadata": {},
   "source": [
    "# Comparison of historical performance between strategies"
   ]
  },
  {
   "cell_type": "code",
   "execution_count": null,
   "metadata": {},
   "outputs": [],
   "source": [
    "def get_conf_interval(df):\n",
    "    df['mean'] = df.iloc[:, 0].rolling(window).mean()\n",
    "    df['std'] = 2 * df.iloc[:, 0].rolling(window).std()\n",
    "    df.dropna(inplace=True)\n",
    "    df['bottom'] = df['mean'] - df_strat_price['std']\n",
    "    df['top'] = df['mean'] + df_strat_price['std']\n",
    "    return df"
   ]
  },
  {
   "cell_type": "code",
   "execution_count": null,
   "metadata": {},
   "outputs": [],
   "source": [
    "taa_port = taa_port_excel.copy()\n",
    "window = 30\n",
    "all_strat = get_all_strat(taa_port, curr='CHF')\n",
    "colors = sns.diverging_palette(220, 0, n=len(all_strat)+2)\n",
    "del colors[3:5]\n",
    "fig = plt.figure(figsize=(16, 10))\n",
    "\n",
    "for i, strat in enumerate(all_strat):\n",
    "    df_weight = taa_port[taa_port.strategie == strat].drop(columns='strategie').drop_duplicates()\n",
    "    df_weight = df_weight.pivot(index='histo_date', columns='No ISIN', values='weight').fillna(0)\n",
    "    all_isin = list(df_weight.columns)\n",
    "    data = data_excel.copy()\n",
    "    data = data[all_isin]\n",
    "    data = data.iloc[2000:]\n",
    "    df_weight = pd.merge(data.drop(columns=data.columns), df_weight, how='left', left_index=True, right_index=True).fillna(method='bfill').dropna(how='all')\n",
    "    data = data.loc[:df_weight.index[-1]]\n",
    "    df_strat_price = (100 * (1 + data.pct_change().mul(df_weight).sum(axis=1)).cumprod()).to_frame().rename(columns={0:'price'})\n",
    "    # df_strat_price = (100 * (1 + data.pct_change().mul(df_weight).sum(axis=1).cumsum())).to_frame().rename(columns={0:'price'})\n",
    "    df_strat_bollinger = get_conf_interval(df_strat_price)\n",
    "    sns.lineplot(data=df_strat_bollinger, x=df_strat_bollinger.index, y='mean', lw=1.5, label=strat, color=colors[i])\n",
    "    plt.fill_between(df_strat_bollinger.index, df_strat_price['bottom'], df_strat_bollinger['top'], color=colors[i], alpha=0.2)\n",
    "\n",
    "plt.legend(fontsize=12)\n",
    "plt.xlabel('Date', fontsize=15)\n",
    "plt.ylabel('NAV Price', fontsize=15)\n",
    "plt.title('Performance comparison between strategies ; ' + curr + '\\n from ' + str(df_strat_price.index.date[0]) + ' to ' + str(df_strat_price.index.date[-1]), \n",
    "          fontsize=15, fontweight='bold')\n",
    "plt.grid()\n",
    "plt.savefig('pp_output/performance_comparison.png')\n",
    "plt.show()\n",
    "    "
   ]
  },
  {
   "cell_type": "code",
   "execution_count": null,
   "metadata": {},
   "outputs": [],
   "source": []
  },
  {
   "cell_type": "code",
   "execution_count": null,
   "metadata": {},
   "outputs": [],
   "source": []
  },
  {
   "cell_type": "code",
   "execution_count": null,
   "metadata": {},
   "outputs": [],
   "source": []
  },
  {
   "cell_type": "code",
   "execution_count": null,
   "metadata": {},
   "outputs": [],
   "source": []
  },
  {
   "cell_type": "code",
   "execution_count": null,
   "metadata": {},
   "outputs": [],
   "source": []
  },
  {
   "cell_type": "code",
   "execution_count": null,
   "metadata": {},
   "outputs": [],
   "source": []
  },
  {
   "cell_type": "code",
   "execution_count": null,
   "metadata": {},
   "outputs": [],
   "source": []
  },
  {
   "cell_type": "code",
   "execution_count": null,
   "metadata": {},
   "outputs": [],
   "source": []
  },
  {
   "cell_type": "code",
   "execution_count": null,
   "metadata": {},
   "outputs": [],
   "source": []
  },
  {
   "cell_type": "code",
   "execution_count": null,
   "metadata": {},
   "outputs": [],
   "source": []
  },
  {
   "cell_type": "code",
   "execution_count": null,
   "metadata": {},
   "outputs": [],
   "source": []
  },
  {
   "cell_type": "code",
   "execution_count": null,
   "metadata": {},
   "outputs": [],
   "source": []
  },
  {
   "cell_type": "code",
   "execution_count": null,
   "metadata": {},
   "outputs": [],
   "source": []
  },
  {
   "cell_type": "code",
   "execution_count": null,
   "metadata": {},
   "outputs": [],
   "source": []
  },
  {
   "cell_type": "code",
   "execution_count": null,
   "metadata": {},
   "outputs": [],
   "source": []
  },
  {
   "cell_type": "code",
   "execution_count": null,
   "metadata": {},
   "outputs": [],
   "source": []
  },
  {
   "cell_type": "markdown",
   "metadata": {},
   "source": [
    "### DRAFT"
   ]
  },
  {
   "cell_type": "markdown",
   "metadata": {},
   "source": [
    "for i, (date, df) in enumerate(df_port_diff.groupby(level=0, group_keys=False)):\n",
    "    df_top = df.nlargest(5, 'weight_diff_abs')['weight_diff'].to_frame().rename(columns={'weight_diff':'Top 5 movers'})\n",
    "    string_date = date.to_pydatetime().strftime(\"%d.%m.%Y\")\n",
    "    dfi.export(df_top, 'pp_output/TopMovers_' + string_date + '_' + str.replace(strat, ' ', '') + '.png')\n",
    "    "
   ]
  },
  {
   "cell_type": "markdown",
   "metadata": {},
   "source": [
    "df_port_diff_grouped = df_port_diff.groupby(level=0, group_keys=False).apply(lambda x: x.nlargest(5, 'weight_diff_abs'))['weight_diff'].to_frame()"
   ]
  },
  {
   "cell_type": "markdown",
   "metadata": {},
   "source": [
    "count = 0\n",
    "count_temp = 0\n",
    "\n",
    "for i, (date, df) in enumerate(df_port_diff.groupby(level=0, group_keys=False)):\n",
    "    df_top = df.nlargest(5, 'weight_diff_abs')['weight_diff'].to_frame().rename(columns={'weight_diff':'Top 5 movers'})\n",
    "    if count == 0:\n",
    "        df0 = df_top\n",
    "        if i == len(df_port_diff.groupby(level=0)) -1 :\n",
    "            df0_styler = df0.style.format(formatter={('Top 5 movers'): \"{:.2f}\"}).set_table_attributes(\"style='display:inline'\")\n",
    "            # display_html(df0_styler._repr_html_(), raw=True)\n",
    "        count_temp += 1\n",
    "    if count == 1:\n",
    "        df1 = df_top\n",
    "        if i == len(df_port_diff.groupby(level=0)) -1 :\n",
    "            df1_styler = df1.style.format(formatter={('Top 5 movers'): \"{:.2f}\"}).set_table_attributes(\"style='display:inline'\")\n",
    "            # display_html(df0_styler._repr_html_() + df1_styler._repr_html_(), raw=True)\n",
    "        count_temp += 1\n",
    "    if count == 2:\n",
    "        df2 = df_top\n",
    "        df0_styler = df0.style.format(formatter={'Top 5 movers': \"{:.2f}\", 'date': \"{:%Y/%m}\"}).set_table_attributes(\"style='display:inline'\")\n",
    "        df1_styler = df1.style.format(formatter={('Top 5 movers'): \"{:.2f}\"}).set_table_attributes(\"style='display:inline'\")\n",
    "        df2_styler = df2.style.format(formatter={('Top 5 movers'): \"{:.2f}\"}).set_table_attributes(\"style='display:inline'\")\n",
    "        # display_html(df0_styler.render() + df1_styler._repr_html_() + df2_styler.render(), raw=True)\n",
    "        count_temp = 0\n",
    "    count = count_temp"
   ]
  },
  {
   "cell_type": "code",
   "execution_count": null,
   "metadata": {},
   "outputs": [],
   "source": [
    "taa_port = excel_to_csv('PP_data/pp_histo.xlsx', 'PP')\n",
    "taa_port.drop(columns='portfolio', inplace=True)\n",
    "taa_port['No ISIN'].replace({\n",
    "    \n",
    "    'Inflation Bond CHF': 'XGIUCHIV Index',\n",
    "    'Inflation Bond USD': 'TIPIV Index',\n",
    "    'Inflation Bond EUR': 'INAVIS31 Index',\n",
    "    \n",
    "    'Total Return CHF': 'INSYBZE Index',\n",
    "    'Total Return EUR': 'INGLAC Index',\n",
    "    'Total Return USD': 'INSPFU Index',\n",
    "    \n",
    "    'HYBRIDUSD': 'FIDYUHG LX Index',\n",
    "    'HYBRIDEUR': 'FIDYACE LX Index',\n",
    "    \n",
    "    'UCBIFX02 Index': 'MORSCUA LX Index',\n",
    "    'UCBIFX28 Index': 'MRSGCAH LX Index',\n",
    "    'UCBIFX14 Index': 'MOBILCI LX Index',\n",
    "    \n",
    "    'Cat Bond USD': 'LEUPCBU SW Index',\n",
    "    'Cat Bond CHF': 'LEUPCBC SW Index',\n",
    "    'Cat Bond EUR': 'LEUPCBE SW Index'\n",
    "    \n",
    "    }, inplace=True)"
   ]
  },
  {
   "cell_type": "code",
   "execution_count": null,
   "metadata": {},
   "outputs": [],
   "source": [
    "ALL = pd.DataFrame(taa_port['No ISIN'].unique(), columns=['No ISIN'])"
   ]
  },
  {
   "cell_type": "code",
   "execution_count": null,
   "metadata": {},
   "outputs": [],
   "source": [
    "ALL"
   ]
  },
  {
   "cell_type": "code",
   "execution_count": null,
   "metadata": {},
   "outputs": [],
   "source": [
    "data = pd.read_excel('PP_data/indices_tickers_pp.xlsx', sheet_name='close_price', skiprows=[0,1,2,4,5,6,7])"
   ]
  },
  {
   "cell_type": "code",
   "execution_count": null,
   "metadata": {},
   "outputs": [],
   "source": [
    "data.rename(columns = { data.columns[0]: \"Dates\" }, inplace = True)\n",
    "data['Dates'] = pd.to_datetime(data['Dates'], yearfirst=True, format=\"%d/%m/%Y\")\n",
    "data = data.fillna(method='ffill')\n",
    "data.index = data['Dates']\n",
    "data = data.drop(columns=['Dates', 'HYBRIDCHF'])"
   ]
  },
  {
   "cell_type": "code",
   "execution_count": null,
   "metadata": {},
   "outputs": [],
   "source": [
    "data = data[ALL['No ISIN']]"
   ]
  },
  {
   "cell_type": "code",
   "execution_count": null,
   "metadata": {},
   "outputs": [],
   "source": [
    "all_isin = get_all_isin(taa_port, curr='USD', histo_date='2021-08-18')"
   ]
  },
  {
   "cell_type": "code",
   "execution_count": null,
   "metadata": {
    "scrolled": true
   },
   "outputs": [],
   "source": [
    "portfolio = get_weight(taa_port, 'Dynamique USD', '2021-08-18').reset_index(drop=True)"
   ]
  },
  {
   "cell_type": "code",
   "execution_count": null,
   "metadata": {
    "scrolled": true
   },
   "outputs": [],
   "source": [
    "portfolio = pd.merge(portfolio, all_isin, how='outer', on='No ISIN').fillna(0)\n",
    "portfolio"
   ]
  },
  {
   "cell_type": "code",
   "execution_count": null,
   "metadata": {},
   "outputs": [],
   "source": [
    "portfolio['No ISIN'].replace({\n",
    "    \n",
    "    'Inflation Bond CHF': 'XGIUCHIV Index',\n",
    "    'Inflation Bond USD': 'TIPIV Index',\n",
    "    'Inflation Bond EUR': 'INAVIS31 Index',\n",
    "    \n",
    "    'Total Return CHF': 'INSYBZE Index',\n",
    "    'Total Return EUR': 'INGLAC Index',\n",
    "    'Total Return USD': 'INSPFU Index',\n",
    "    \n",
    "    'HYBRIDUSD': 'FIDYUHG LX Index',\n",
    "    'HYBRIDEUR': 'FIDYACE LX Index',\n",
    "    \n",
    "    'UCBIFX02 Index': 'MORSCUA LX Index',\n",
    "    'UCBIFX28 Index': 'MRSGCAH LX Index',\n",
    "    'UCBIFX14 Index': 'MOBILCI LX Index',\n",
    "    \n",
    "    'Cat bond USD': 'LEUPCBU SW Index',\n",
    "    'Cat bond CHF': 'LEUPCBC SW Index',\n",
    "    'Cat bond EUR': 'LEUPCBE SW Index'\n",
    "    \n",
    "    }, inplace=True)"
   ]
  },
  {
   "cell_type": "code",
   "execution_count": null,
   "metadata": {},
   "outputs": [],
   "source": [
    "portfolio = portfolio[~portfolio['No ISIN'].isin(['HFRXGLC Index', 'SWIIT Index', 'SF15T Index', \n",
    " 'M0EMHCHF Index', 'SBR4T Index', 'H20344CH Index', 'BXCHTRCH Index', \n",
    " 'SBF14T Index', 'BCOMHFT Index', 'LG30TRCH Index', \n",
    " 'aurlnchf curncy', 'M0UKHCHF Index', 'UCBIFX28 Index', 'SF51T Index'])]"
   ]
  },
  {
   "cell_type": "code",
   "execution_count": null,
   "metadata": {},
   "outputs": [],
   "source": [
    "portfolio.weight = portfolio.weight / np.sum(portfolio.weight)\n",
    "portfolio"
   ]
  },
  {
   "cell_type": "code",
   "execution_count": null,
   "metadata": {},
   "outputs": [],
   "source": [
    "port_weights = np.array(portfolio['weight'])"
   ]
  },
  {
   "cell_type": "code",
   "execution_count": null,
   "metadata": {},
   "outputs": [],
   "source": [
    "data = data[list(portfolio['No ISIN'])]"
   ]
  },
  {
   "cell_type": "code",
   "execution_count": null,
   "metadata": {},
   "outputs": [],
   "source": [
    "data.head()"
   ]
  },
  {
   "cell_type": "code",
   "execution_count": null,
   "metadata": {},
   "outputs": [],
   "source": [
    "port_sharp = sigma_to_sharp(port_weights, returns_annual, cov_annual)"
   ]
  }
 ],
 "metadata": {
  "kernelspec": {
   "display_name": "Python 3",
   "language": "python",
   "name": "python3"
  },
  "language_info": {
   "codemirror_mode": {
    "name": "ipython",
    "version": 3
   },
   "file_extension": ".py",
   "mimetype": "text/x-python",
   "name": "python",
   "nbconvert_exporter": "python",
   "pygments_lexer": "ipython3",
   "version": "3.8.5"
  }
 },
 "nbformat": 4,
 "nbformat_minor": 4
}
